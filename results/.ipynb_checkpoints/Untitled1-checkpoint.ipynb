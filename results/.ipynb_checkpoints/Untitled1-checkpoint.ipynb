{
 "cells": [
  {
   "cell_type": "code",
   "execution_count": 2,
   "metadata": {},
   "outputs": [
    {
     "name": "stdout",
     "output_type": "stream",
     "text": [
      "<Response [201]>\n",
      "<Response [201]>\n",
      "<Response [201]>\n",
      "<Response [201]>\n",
      "<Response [201]>\n",
      "<Response [201]>\n",
      "<Response [201]>\n",
      "<Response [201]>\n",
      "<Response [201]>\n",
      "<Response [201]>\n",
      "<Response [201]>\n",
      "<Response [201]>\n",
      "<Response [201]>\n",
      "<Response [201]>\n",
      "<Response [201]>\n",
      "<Response [201]>\n",
      "<Response [201]>\n",
      "<Response [201]>\n",
      "<Response [201]>\n",
      "<Response [201]>\n"
     ]
    }
   ],
   "source": [
    "import requests\n",
    "import json\n",
    "import time\n",
    "import random\n",
    "\n",
    "id = ['15ab8357abeb6eacf1b591a1b5b1aedd','80cf219b4993391f6a6a0c08096c5ecb','8d46e96b1dae34c8932f46203e4f96ed','814e909f65f1d912cdb7cc3983b94329','9485b1ffdcd57a1e780d12cb2fbf0e49','79195dad1f933b67b79b19c194f9701a']\n",
    "\n",
    "c = 0\n",
    "while c<20:\n",
    "    r1 = 0\n",
    "    JSON = {\n",
    "            \"sender\": id[random.randint(0, 5)],\n",
    "            \"receiver\": str(random.getrandbits(128)),\n",
    "            \"amount\": str(random.getrandbits(128))[:15],\n",
    "            \"category\": random.randint(0,1)\n",
    "            }\n",
    "    \n",
    "    try:\n",
    "            URL = \"http://localhost:5001/add_transaction\"\n",
    "            r1 = requests.post(URL, json = JSON)\n",
    "    except:\n",
    "            pass\n",
    "    \n",
    "    print(r1)\n",
    "\n",
    "    time.sleep(random.randrange(3))\n",
    "    c=c+1\n"
   ]
  },
  {
   "cell_type": "code",
   "execution_count": null,
   "metadata": {},
   "outputs": [],
   "source": []
  },
  {
   "cell_type": "code",
   "execution_count": null,
   "metadata": {},
   "outputs": [],
   "source": []
  },
  {
   "cell_type": "code",
   "execution_count": null,
   "metadata": {},
   "outputs": [],
   "source": []
  }
 ],
 "metadata": {
  "kernelspec": {
   "display_name": "Python 3",
   "language": "python",
   "name": "python3"
  },
  "language_info": {
   "codemirror_mode": {
    "name": "ipython",
    "version": 3
   },
   "file_extension": ".py",
   "mimetype": "text/x-python",
   "name": "python",
   "nbconvert_exporter": "python",
   "pygments_lexer": "ipython3",
   "version": "3.7.6"
  }
 },
 "nbformat": 4,
 "nbformat_minor": 4
}
