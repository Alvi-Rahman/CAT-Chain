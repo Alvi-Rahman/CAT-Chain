{
 "cells": [
  {
   "cell_type": "code",
   "execution_count": 1,
   "metadata": {},
   "outputs": [],
   "source": [
    "import requests\n",
    "import json\n",
    "import time\n",
    "import random\n",
    "import numpy as np"
   ]
  },
  {
   "cell_type": "code",
   "execution_count": null,
   "metadata": {},
   "outputs": [],
   "source": []
  },
  {
   "cell_type": "code",
   "execution_count": 2,
   "metadata": {},
   "outputs": [],
   "source": [
    "from pathlib import Path\n",
    "import os\n"
   ]
  },
  {
   "cell_type": "code",
   "execution_count": null,
   "metadata": {},
   "outputs": [],
   "source": []
  },
  {
   "cell_type": "code",
   "execution_count": 3,
   "metadata": {},
   "outputs": [
    {
     "name": "stdout",
     "output_type": "stream",
     "text": [
      "<Response [201]>\n",
      "<Response [201]>\n",
      "<Response [201]>\n",
      "<Response [201]>\n",
      "<Response [201]>\n",
      "<Response [201]>\n",
      "<Response [201]>\n",
      "<Response [201]>\n",
      "<Response [201]>\n",
      "<Response [201]>\n",
      "<Response [201]>\n",
      "<Response [201]>\n",
      "<Response [201]>\n",
      "<Response [201]>\n",
      "<Response [201]>\n",
      "<Response [201]>\n",
      "<Response [201]>\n",
      "<Response [201]>\n",
      "<Response [201]>\n",
      "<Response [201]>\n",
      "<Response [201]>\n",
      "<Response [201]>\n",
      "<Response [201]>\n",
      "<Response [201]>\n",
      "<Response [201]>\n",
      "<Response [201]>\n",
      "<Response [201]>\n",
      "<Response [201]>\n",
      "<Response [201]>\n",
      "<Response [201]>\n",
      "<Response [201]>\n",
      "<Response [201]>\n",
      "<Response [201]>\n",
      "<Response [201]>\n",
      "<Response [201]>\n",
      "<Response [201]>\n",
      "<Response [201]>\n",
      "<Response [201]>\n",
      "<Response [201]>\n",
      "<Response [201]>\n",
      "<Response [201]>\n",
      "<Response [201]>\n",
      "<Response [201]>\n",
      "<Response [201]>\n",
      "<Response [201]>\n",
      "<Response [201]>\n",
      "<Response [201]>\n",
      "<Response [201]>\n",
      "<Response [201]>\n",
      "<Response [201]>\n",
      "<Response [201]>\n",
      "<Response [201]>\n",
      "<Response [201]>\n",
      "<Response [201]>\n",
      "<Response [201]>\n",
      "<Response [201]>\n",
      "<Response [201]>\n",
      "<Response [201]>\n",
      "<Response [201]>\n",
      "<Response [201]>\n",
      "<Response [201]>\n",
      "<Response [201]>\n",
      "<Response [201]>\n",
      "<Response [201]>\n",
      "<Response [201]>\n",
      "<Response [201]>\n",
      "<Response [201]>\n",
      "<Response [201]>\n",
      "<Response [201]>\n",
      "<Response [201]>\n",
      "<Response [201]>\n",
      "<Response [201]>\n",
      "<Response [201]>\n",
      "<Response [201]>\n",
      "<Response [201]>\n",
      "<Response [201]>\n",
      "<Response [201]>\n",
      "<Response [201]>\n",
      "<Response [201]>\n",
      "<Response [201]>\n",
      "<Response [201]>\n",
      "<Response [201]>\n",
      "<Response [201]>\n",
      "<Response [201]>\n",
      "<Response [201]>\n",
      "<Response [201]>\n",
      "<Response [201]>\n",
      "<Response [201]>\n",
      "<Response [201]>\n",
      "<Response [201]>\n",
      "<Response [201]>\n",
      "<Response [201]>\n",
      "<Response [201]>\n",
      "<Response [201]>\n",
      "<Response [201]>\n",
      "<Response [201]>\n",
      "<Response [201]>\n",
      "<Response [201]>\n",
      "<Response [201]>\n",
      "<Response [201]>\n",
      "<Response [201]>\n",
      "<Response [201]>\n",
      "<Response [201]>\n",
      "<Response [201]>\n",
      "<Response [201]>\n",
      "<Response [201]>\n",
      "<Response [201]>\n",
      "<Response [201]>\n",
      "<Response [201]>\n",
      "<Response [201]>\n",
      "<Response [201]>\n",
      "<Response [201]>\n",
      "<Response [201]>\n",
      "<Response [201]>\n",
      "<Response [201]>\n",
      "<Response [201]>\n",
      "<Response [201]>\n",
      "<Response [201]>\n",
      "<Response [201]>\n",
      "<Response [201]>\n",
      "<Response [201]>\n",
      "<Response [201]>\n",
      "<Response [201]>\n",
      "<Response [201]>\n",
      "<Response [201]>\n",
      "<Response [201]>\n",
      "<Response [201]>\n",
      "<Response [201]>\n",
      "<Response [201]>\n",
      "<Response [201]>\n",
      "<Response [201]>\n",
      "<Response [201]>\n",
      "<Response [201]>\n",
      "<Response [201]>\n",
      "<Response [201]>\n",
      "<Response [201]>\n",
      "<Response [201]>\n",
      "<Response [201]>\n",
      "<Response [201]>\n",
      "<Response [201]>\n",
      "<Response [201]>\n",
      "<Response [201]>\n",
      "<Response [201]>\n",
      "<Response [201]>\n",
      "<Response [201]>\n",
      "<Response [201]>\n",
      "<Response [201]>\n",
      "<Response [201]>\n",
      "<Response [201]>\n",
      "<Response [201]>\n",
      "<Response [201]>\n",
      "<Response [201]>\n",
      "<Response [201]>\n",
      "<Response [201]>\n",
      "<Response [201]>\n",
      "<Response [201]>\n",
      "<Response [201]>\n",
      "<Response [201]>\n",
      "<Response [201]>\n",
      "<Response [201]>\n",
      "<Response [201]>\n",
      "<Response [201]>\n",
      "<Response [201]>\n",
      "<Response [201]>\n",
      "<Response [201]>\n",
      "<Response [201]>\n",
      "<Response [201]>\n",
      "<Response [201]>\n",
      "<Response [201]>\n",
      "<Response [201]>\n",
      "<Response [201]>\n",
      "<Response [201]>\n",
      "<Response [201]>\n",
      "<Response [201]>\n",
      "<Response [201]>\n",
      "<Response [201]>\n",
      "<Response [201]>\n",
      "<Response [201]>\n",
      "<Response [201]>\n",
      "<Response [201]>\n",
      "<Response [201]>\n",
      "<Response [201]>\n",
      "<Response [201]>\n",
      "<Response [201]>\n",
      "<Response [201]>\n",
      "<Response [201]>\n",
      "<Response [201]>\n",
      "<Response [201]>\n",
      "<Response [201]>\n",
      "<Response [201]>\n",
      "<Response [201]>\n",
      "<Response [201]>\n",
      "<Response [201]>\n",
      "<Response [201]>\n",
      "<Response [201]>\n",
      "<Response [201]>\n",
      "<Response [201]>\n",
      "<Response [201]>\n",
      "<Response [201]>\n",
      "<Response [201]>\n",
      "<Response [201]>\n",
      "<Response [201]>\n",
      "<Response [201]>\n",
      "<Response [201]>\n",
      "<Response [201]>\n",
      "<Response [201]>\n",
      "<Response [201]>\n",
      "<Response [201]>\n",
      "<Response [201]>\n",
      "<Response [201]>\n",
      "<Response [201]>\n",
      "<Response [201]>\n",
      "<Response [201]>\n",
      "<Response [201]>\n",
      "<Response [201]>\n",
      "<Response [201]>\n",
      "<Response [201]>\n",
      "<Response [201]>\n",
      "<Response [201]>\n",
      "<Response [201]>\n",
      "<Response [201]>\n",
      "<Response [201]>\n",
      "<Response [201]>\n",
      "<Response [201]>\n",
      "<Response [201]>\n",
      "<Response [201]>\n",
      "<Response [201]>\n",
      "<Response [201]>\n",
      "<Response [201]>\n",
      "<Response [201]>\n",
      "<Response [201]>\n",
      "<Response [201]>\n",
      "<Response [201]>\n",
      "<Response [201]>\n",
      "<Response [201]>\n",
      "<Response [201]>\n",
      "<Response [201]>\n",
      "<Response [201]>\n",
      "<Response [201]>\n",
      "<Response [201]>\n",
      "<Response [201]>\n",
      "<Response [201]>\n",
      "<Response [201]>\n",
      "<Response [201]>\n",
      "<Response [201]>\n",
      "<Response [201]>\n",
      "<Response [201]>\n",
      "<Response [201]>\n",
      "<Response [201]>\n",
      "<Response [201]>\n",
      "<Response [201]>\n",
      "<Response [201]>\n",
      "<Response [201]>\n",
      "<Response [201]>\n",
      "<Response [201]>\n",
      "<Response [201]>\n",
      "<Response [201]>\n",
      "<Response [201]>\n",
      "<Response [201]>\n",
      "<Response [201]>\n",
      "<Response [201]>\n",
      "<Response [201]>\n",
      "<Response [201]>\n",
      "<Response [201]>\n",
      "<Response [201]>\n",
      "<Response [201]>\n",
      "<Response [201]>\n",
      "<Response [201]>\n",
      "<Response [201]>\n",
      "<Response [201]>\n",
      "<Response [201]>\n",
      "<Response [201]>\n",
      "<Response [201]>\n",
      "<Response [201]>\n",
      "<Response [201]>\n",
      "<Response [201]>\n",
      "<Response [201]>\n",
      "<Response [201]>\n",
      "<Response [201]>\n",
      "<Response [201]>\n",
      "<Response [201]>\n",
      "<Response [201]>\n",
      "<Response [201]>\n",
      "<Response [201]>\n",
      "<Response [201]>\n",
      "<Response [201]>\n",
      "<Response [201]>\n",
      "<Response [201]>\n",
      "<Response [201]>\n",
      "<Response [201]>\n",
      "<Response [201]>\n",
      "<Response [201]>\n",
      "<Response [201]>\n",
      "<Response [201]>\n",
      "<Response [201]>\n",
      "<Response [201]>\n",
      "<Response [201]>\n",
      "<Response [201]>\n",
      "<Response [201]>\n",
      "<Response [201]>\n",
      "<Response [201]>\n",
      "<Response [201]>\n",
      "<Response [201]>\n",
      "<Response [201]>\n",
      "<Response [201]>\n",
      "<Response [201]>\n",
      "<Response [201]>\n",
      "<Response [201]>\n",
      "<Response [201]>\n",
      "<Response [201]>\n",
      "<Response [201]>\n",
      "<Response [201]>\n",
      "<Response [201]>\n",
      "<Response [201]>\n",
      "<Response [201]>\n",
      "<Response [201]>\n",
      "<Response [201]>\n",
      "<Response [201]>\n",
      "<Response [201]>\n",
      "<Response [201]>\n",
      "<Response [201]>\n",
      "<Response [201]>\n",
      "<Response [201]>\n",
      "<Response [201]>\n",
      "<Response [201]>\n",
      "<Response [201]>\n",
      "<Response [201]>\n",
      "<Response [201]>\n",
      "<Response [201]>\n",
      "<Response [201]>\n",
      "<Response [201]>\n",
      "<Response [201]>\n",
      "<Response [201]>\n",
      "<Response [201]>\n",
      "<Response [201]>\n",
      "<Response [201]>\n",
      "<Response [201]>\n",
      "<Response [201]>\n",
      "<Response [201]>\n",
      "<Response [201]>\n",
      "<Response [201]>\n",
      "<Response [201]>\n",
      "<Response [201]>\n",
      "<Response [201]>\n",
      "<Response [201]>\n",
      "<Response [201]>\n",
      "<Response [201]>\n",
      "<Response [201]>\n",
      "<Response [201]>\n",
      "<Response [201]>\n",
      "<Response [201]>\n",
      "<Response [201]>\n",
      "<Response [201]>\n",
      "<Response [201]>\n",
      "<Response [201]>\n",
      "<Response [201]>\n",
      "<Response [201]>\n",
      "<Response [201]>\n",
      "<Response [201]>\n",
      "<Response [201]>\n",
      "<Response [201]>\n",
      "<Response [201]>\n",
      "<Response [201]>\n",
      "<Response [201]>\n",
      "<Response [201]>\n",
      "<Response [201]>\n",
      "<Response [201]>\n",
      "<Response [201]>\n",
      "<Response [201]>\n",
      "<Response [201]>\n",
      "<Response [201]>\n",
      "<Response [201]>\n",
      "<Response [201]>\n",
      "<Response [201]>\n",
      "<Response [201]>\n",
      "<Response [201]>\n",
      "<Response [201]>\n",
      "<Response [201]>\n",
      "<Response [201]>\n",
      "<Response [201]>\n",
      "<Response [201]>\n",
      "<Response [201]>\n",
      "<Response [201]>\n",
      "<Response [201]>\n",
      "<Response [201]>\n",
      "<Response [201]>\n",
      "<Response [201]>\n",
      "<Response [201]>\n",
      "<Response [201]>\n",
      "<Response [201]>\n",
      "<Response [201]>\n",
      "<Response [201]>\n",
      "<Response [201]>\n",
      "<Response [201]>\n",
      "<Response [201]>\n",
      "<Response [201]>\n",
      "<Response [201]>\n",
      "<Response [201]>\n",
      "<Response [201]>\n",
      "<Response [201]>\n",
      "<Response [201]>\n",
      "<Response [201]>\n",
      "<Response [201]>\n",
      "<Response [201]>\n",
      "<Response [201]>\n",
      "<Response [201]>\n",
      "<Response [201]>\n",
      "<Response [201]>\n",
      "<Response [201]>\n",
      "<Response [201]>\n",
      "<Response [201]>\n",
      "<Response [201]>\n",
      "<Response [201]>\n",
      "<Response [201]>\n",
      "<Response [201]>\n",
      "<Response [201]>\n",
      "<Response [201]>\n",
      "<Response [201]>\n",
      "<Response [201]>\n",
      "<Response [201]>\n",
      "<Response [201]>\n",
      "<Response [201]>\n",
      "<Response [201]>\n",
      "<Response [201]>\n",
      "<Response [201]>\n",
      "<Response [201]>\n",
      "<Response [201]>\n",
      "<Response [201]>\n",
      "<Response [201]>\n",
      "<Response [201]>\n",
      "<Response [201]>\n",
      "<Response [201]>\n",
      "<Response [201]>\n",
      "<Response [201]>\n",
      "<Response [201]>\n",
      "<Response [201]>\n",
      "<Response [201]>\n",
      "<Response [201]>\n",
      "<Response [201]>\n",
      "<Response [201]>\n",
      "<Response [201]>\n",
      "<Response [201]>\n",
      "<Response [201]>\n",
      "<Response [201]>\n",
      "<Response [201]>\n",
      "<Response [201]>\n",
      "<Response [201]>\n",
      "<Response [201]>\n",
      "<Response [201]>\n",
      "<Response [201]>\n",
      "<Response [201]>\n",
      "<Response [201]>\n",
      "<Response [201]>\n",
      "<Response [201]>\n",
      "<Response [201]>\n",
      "<Response [201]>\n",
      "<Response [201]>\n",
      "<Response [201]>\n",
      "<Response [201]>\n",
      "<Response [201]>\n",
      "<Response [201]>\n",
      "<Response [201]>\n",
      "<Response [201]>\n",
      "<Response [201]>\n",
      "<Response [201]>\n",
      "<Response [201]>\n",
      "<Response [201]>\n",
      "<Response [201]>\n",
      "<Response [201]>\n",
      "<Response [201]>\n",
      "<Response [201]>\n",
      "<Response [201]>\n",
      "<Response [201]>\n",
      "<Response [201]>\n",
      "<Response [201]>\n",
      "<Response [201]>\n",
      "<Response [201]>\n",
      "<Response [201]>\n",
      "<Response [201]>\n",
      "<Response [201]>\n",
      "<Response [201]>\n",
      "<Response [201]>\n"
     ]
    },
    {
     "name": "stdout",
     "output_type": "stream",
     "text": [
      "<Response [201]>\n",
      "<Response [201]>\n",
      "<Response [201]>\n",
      "<Response [201]>\n",
      "<Response [201]>\n",
      "<Response [201]>\n",
      "<Response [201]>\n",
      "<Response [201]>\n",
      "<Response [201]>\n",
      "<Response [201]>\n",
      "<Response [201]>\n",
      "<Response [201]>\n",
      "<Response [201]>\n",
      "<Response [201]>\n",
      "<Response [201]>\n",
      "<Response [201]>\n",
      "<Response [201]>\n",
      "<Response [201]>\n",
      "<Response [201]>\n",
      "<Response [201]>\n",
      "<Response [201]>\n",
      "<Response [201]>\n",
      "<Response [201]>\n",
      "<Response [201]>\n",
      "<Response [201]>\n",
      "<Response [201]>\n",
      "<Response [201]>\n",
      "<Response [201]>\n",
      "<Response [201]>\n",
      "<Response [201]>\n",
      "<Response [201]>\n",
      "<Response [201]>\n",
      "<Response [201]>\n",
      "<Response [201]>\n",
      "<Response [201]>\n",
      "<Response [201]>\n",
      "<Response [201]>\n",
      "<Response [201]>\n",
      "<Response [201]>\n",
      "<Response [201]>\n",
      "<Response [201]>\n",
      "<Response [201]>\n",
      "<Response [201]>\n",
      "<Response [201]>\n",
      "<Response [201]>\n",
      "<Response [201]>\n",
      "<Response [201]>\n",
      "<Response [201]>\n",
      "<Response [201]>\n",
      "<Response [201]>\n",
      "<Response [201]>\n",
      "<Response [201]>\n",
      "<Response [201]>\n",
      "<Response [201]>\n",
      "<Response [201]>\n",
      "<Response [201]>\n",
      "<Response [201]>\n",
      "<Response [201]>\n",
      "<Response [201]>\n",
      "<Response [201]>\n",
      "<Response [201]>\n",
      "<Response [201]>\n",
      "<Response [201]>\n",
      "<Response [201]>\n",
      "<Response [201]>\n",
      "<Response [201]>\n",
      "<Response [201]>\n",
      "<Response [201]>\n",
      "<Response [201]>\n",
      "<Response [201]>\n",
      "<Response [201]>\n",
      "<Response [201]>\n",
      "<Response [201]>\n",
      "<Response [201]>\n",
      "<Response [201]>\n",
      "<Response [201]>\n",
      "<Response [201]>\n",
      "<Response [201]>\n",
      "<Response [201]>\n",
      "<Response [201]>\n",
      "<Response [201]>\n",
      "<Response [201]>\n",
      "<Response [201]>\n",
      "<Response [201]>\n",
      "<Response [201]>\n",
      "<Response [201]>\n",
      "<Response [201]>\n",
      "<Response [201]>\n",
      "<Response [201]>\n",
      "<Response [201]>\n",
      "<Response [201]>\n",
      "<Response [201]>\n",
      "<Response [201]>\n",
      "<Response [201]>\n",
      "<Response [201]>\n",
      "<Response [201]>\n",
      "<Response [201]>\n",
      "<Response [201]>\n",
      "<Response [201]>\n",
      "<Response [201]>\n",
      "<Response [201]>\n",
      "<Response [201]>\n",
      "<Response [201]>\n",
      "<Response [201]>\n",
      "<Response [201]>\n",
      "<Response [201]>\n",
      "<Response [201]>\n",
      "<Response [201]>\n",
      "<Response [201]>\n",
      "<Response [201]>\n",
      "<Response [201]>\n",
      "<Response [201]>\n",
      "<Response [201]>\n",
      "<Response [201]>\n",
      "<Response [201]>\n",
      "<Response [201]>\n",
      "<Response [201]>\n",
      "<Response [201]>\n",
      "<Response [201]>\n",
      "<Response [201]>\n",
      "<Response [201]>\n",
      "<Response [201]>\n",
      "<Response [201]>\n",
      "<Response [201]>\n",
      "<Response [201]>\n",
      "<Response [201]>\n",
      "<Response [201]>\n",
      "<Response [201]>\n",
      "<Response [201]>\n",
      "<Response [201]>\n",
      "<Response [201]>\n",
      "<Response [201]>\n",
      "<Response [201]>\n",
      "<Response [201]>\n",
      "<Response [201]>\n",
      "<Response [201]>\n",
      "<Response [201]>\n",
      "<Response [201]>\n",
      "<Response [201]>\n",
      "<Response [201]>\n",
      "<Response [201]>\n",
      "<Response [201]>\n",
      "<Response [201]>\n",
      "<Response [201]>\n",
      "<Response [201]>\n",
      "<Response [201]>\n",
      "<Response [201]>\n",
      "<Response [201]>\n",
      "<Response [201]>\n",
      "<Response [201]>\n",
      "<Response [201]>\n",
      "<Response [201]>\n",
      "<Response [201]>\n",
      "<Response [201]>\n",
      "<Response [201]>\n",
      "<Response [201]>\n",
      "<Response [201]>\n",
      "<Response [201]>\n",
      "<Response [201]>\n",
      "<Response [201]>\n",
      "<Response [201]>\n",
      "<Response [201]>\n",
      "<Response [201]>\n",
      "<Response [201]>\n",
      "<Response [201]>\n",
      "<Response [201]>\n",
      "<Response [201]>\n",
      "<Response [201]>\n",
      "<Response [201]>\n",
      "<Response [201]>\n",
      "<Response [201]>\n",
      "<Response [201]>\n",
      "<Response [201]>\n",
      "<Response [201]>\n",
      "<Response [201]>\n",
      "<Response [201]>\n",
      "<Response [201]>\n",
      "<Response [201]>\n",
      "<Response [201]>\n",
      "<Response [201]>\n",
      "<Response [201]>\n",
      "<Response [201]>\n",
      "<Response [201]>\n",
      "<Response [201]>\n",
      "<Response [201]>\n",
      "<Response [201]>\n",
      "<Response [201]>\n",
      "<Response [201]>\n",
      "<Response [201]>\n",
      "<Response [201]>\n",
      "<Response [201]>\n",
      "<Response [201]>\n",
      "<Response [201]>\n",
      "<Response [201]>\n",
      "<Response [201]>\n",
      "<Response [201]>\n",
      "<Response [201]>\n",
      "<Response [201]>\n",
      "<Response [201]>\n",
      "<Response [201]>\n",
      "<Response [201]>\n",
      "<Response [201]>\n",
      "<Response [201]>\n",
      "<Response [201]>\n",
      "<Response [201]>\n",
      "<Response [201]>\n",
      "<Response [201]>\n",
      "<Response [201]>\n",
      "<Response [201]>\n",
      "<Response [201]>\n",
      "<Response [201]>\n",
      "<Response [201]>\n",
      "<Response [201]>\n",
      "<Response [201]>\n",
      "<Response [201]>\n",
      "<Response [201]>\n",
      "<Response [201]>\n",
      "<Response [201]>\n",
      "<Response [201]>\n",
      "<Response [201]>\n",
      "<Response [201]>\n",
      "<Response [201]>\n",
      "<Response [201]>\n",
      "<Response [201]>\n",
      "<Response [201]>\n",
      "<Response [201]>\n",
      "<Response [201]>\n",
      "<Response [201]>\n",
      "<Response [201]>\n",
      "<Response [201]>\n",
      "<Response [201]>\n",
      "<Response [201]>\n",
      "<Response [201]>\n",
      "<Response [201]>\n",
      "<Response [201]>\n",
      "<Response [201]>\n",
      "<Response [201]>\n",
      "<Response [201]>\n",
      "<Response [201]>\n",
      "<Response [201]>\n",
      "<Response [201]>\n",
      "<Response [201]>\n",
      "<Response [201]>\n",
      "<Response [201]>\n",
      "<Response [201]>\n",
      "<Response [201]>\n",
      "<Response [201]>\n",
      "<Response [201]>\n",
      "<Response [201]>\n",
      "<Response [201]>\n",
      "<Response [201]>\n",
      "<Response [201]>\n",
      "<Response [201]>\n",
      "<Response [201]>\n",
      "<Response [201]>\n",
      "<Response [201]>\n",
      "<Response [201]>\n",
      "<Response [201]>\n",
      "<Response [201]>\n",
      "<Response [201]>\n",
      "<Response [201]>\n",
      "<Response [201]>\n",
      "<Response [201]>\n",
      "<Response [201]>\n",
      "<Response [201]>\n",
      "<Response [201]>\n",
      "<Response [201]>\n",
      "<Response [201]>\n",
      "<Response [201]>\n",
      "<Response [201]>\n",
      "<Response [201]>\n",
      "<Response [201]>\n",
      "<Response [201]>\n",
      "<Response [201]>\n",
      "<Response [201]>\n",
      "<Response [201]>\n",
      "<Response [201]>\n",
      "<Response [201]>\n",
      "<Response [201]>\n",
      "<Response [201]>\n",
      "<Response [201]>\n",
      "<Response [201]>\n",
      "<Response [201]>\n",
      "<Response [201]>\n",
      "<Response [201]>\n",
      "<Response [201]>\n",
      "<Response [201]>\n",
      "<Response [201]>\n",
      "<Response [201]>\n",
      "<Response [201]>\n",
      "<Response [201]>\n",
      "<Response [201]>\n",
      "<Response [201]>\n",
      "<Response [201]>\n",
      "<Response [201]>\n",
      "<Response [201]>\n",
      "<Response [201]>\n",
      "<Response [201]>\n",
      "<Response [201]>\n",
      "<Response [201]>\n",
      "<Response [201]>\n",
      "<Response [201]>\n",
      "<Response [201]>\n",
      "<Response [201]>\n",
      "<Response [201]>\n",
      "<Response [201]>\n",
      "<Response [201]>\n",
      "<Response [201]>\n",
      "<Response [201]>\n",
      "<Response [201]>\n",
      "<Response [201]>\n",
      "<Response [201]>\n",
      "<Response [201]>\n",
      "<Response [201]>\n",
      "<Response [201]>\n",
      "<Response [201]>\n",
      "<Response [201]>\n",
      "<Response [201]>\n",
      "<Response [201]>\n",
      "<Response [201]>\n",
      "<Response [201]>\n",
      "<Response [201]>\n",
      "<Response [201]>\n",
      "<Response [201]>\n",
      "<Response [201]>\n",
      "<Response [201]>\n",
      "<Response [201]>\n",
      "<Response [201]>\n",
      "<Response [201]>\n",
      "<Response [201]>\n",
      "<Response [201]>\n",
      "<Response [201]>\n",
      "<Response [201]>\n",
      "<Response [201]>\n",
      "<Response [201]>\n",
      "<Response [201]>\n",
      "<Response [201]>\n",
      "<Response [201]>\n",
      "<Response [201]>\n",
      "<Response [201]>\n",
      "<Response [201]>\n",
      "<Response [201]>\n",
      "<Response [201]>\n",
      "<Response [201]>\n",
      "<Response [201]>\n",
      "<Response [201]>\n",
      "<Response [201]>\n",
      "<Response [201]>\n",
      "<Response [201]>\n",
      "<Response [201]>\n",
      "<Response [201]>\n",
      "<Response [201]>\n",
      "<Response [201]>\n",
      "<Response [201]>\n",
      "<Response [201]>\n",
      "<Response [201]>\n",
      "<Response [201]>\n",
      "<Response [201]>\n",
      "<Response [201]>\n",
      "<Response [201]>\n",
      "<Response [201]>\n",
      "<Response [201]>\n",
      "<Response [201]>\n",
      "<Response [201]>\n",
      "<Response [201]>\n",
      "<Response [201]>\n",
      "<Response [201]>\n",
      "<Response [201]>\n",
      "<Response [201]>\n",
      "<Response [201]>\n",
      "<Response [201]>\n",
      "<Response [201]>\n",
      "<Response [201]>\n",
      "<Response [201]>\n",
      "<Response [201]>\n",
      "<Response [201]>\n",
      "<Response [201]>\n",
      "<Response [201]>\n",
      "<Response [201]>\n",
      "<Response [201]>\n",
      "<Response [201]>\n",
      "<Response [201]>\n",
      "<Response [201]>\n",
      "<Response [201]>\n",
      "<Response [201]>\n",
      "<Response [201]>\n",
      "<Response [201]>\n",
      "<Response [201]>\n",
      "<Response [201]>\n",
      "<Response [201]>\n",
      "<Response [201]>\n",
      "<Response [201]>\n",
      "<Response [201]>\n",
      "<Response [201]>\n",
      "<Response [201]>\n",
      "<Response [201]>\n",
      "<Response [201]>\n",
      "<Response [201]>\n",
      "<Response [201]>\n",
      "<Response [201]>\n",
      "<Response [201]>\n",
      "<Response [201]>\n",
      "<Response [201]>\n",
      "<Response [201]>\n",
      "<Response [201]>\n",
      "<Response [201]>\n",
      "<Response [201]>\n",
      "<Response [201]>\n",
      "<Response [201]>\n",
      "<Response [201]>\n",
      "<Response [201]>\n",
      "<Response [201]>\n",
      "<Response [201]>\n",
      "<Response [201]>\n",
      "<Response [201]>\n",
      "<Response [201]>\n",
      "<Response [201]>\n",
      "<Response [201]>\n",
      "<Response [201]>\n",
      "<Response [201]>\n",
      "<Response [201]>\n",
      "<Response [201]>\n",
      "<Response [201]>\n",
      "<Response [201]>\n",
      "<Response [201]>\n",
      "<Response [201]>\n",
      "<Response [201]>\n",
      "<Response [201]>\n",
      "<Response [201]>\n",
      "<Response [201]>\n",
      "<Response [201]>\n",
      "<Response [201]>\n",
      "<Response [201]>\n",
      "<Response [201]>\n",
      "<Response [201]>\n",
      "<Response [201]>\n",
      "<Response [201]>\n",
      "<Response [201]>\n",
      "<Response [201]>\n",
      "<Response [201]>\n",
      "<Response [201]>\n",
      "<Response [201]>\n",
      "<Response [201]>\n",
      "<Response [201]>\n",
      "<Response [201]>\n",
      "<Response [201]>\n",
      "<Response [201]>\n",
      "<Response [201]>\n",
      "<Response [201]>\n",
      "<Response [201]>\n",
      "<Response [201]>\n",
      "<Response [201]>\n",
      "<Response [201]>\n",
      "<Response [201]>\n",
      "<Response [201]>\n",
      "<Response [201]>\n",
      "<Response [201]>\n",
      "<Response [201]>\n",
      "<Response [201]>\n",
      "<Response [201]>\n",
      "<Response [201]>\n",
      "<Response [201]>\n",
      "<Response [201]>\n",
      "<Response [201]>\n",
      "<Response [201]>\n",
      "<Response [201]>\n",
      "<Response [201]>\n",
      "<Response [201]>\n",
      "<Response [201]>\n",
      "<Response [201]>\n",
      "<Response [201]>\n",
      "<Response [201]>\n",
      "<Response [201]>\n",
      "<Response [201]>\n",
      "<Response [201]>\n",
      "<Response [201]>\n",
      "<Response [201]>\n",
      "<Response [201]>\n",
      "<Response [201]>\n",
      "<Response [201]>\n",
      "<Response [201]>\n",
      "<Response [201]>\n"
     ]
    },
    {
     "name": "stdout",
     "output_type": "stream",
     "text": [
      "<Response [201]>\n",
      "<Response [201]>\n",
      "<Response [201]>\n",
      "<Response [201]>\n",
      "<Response [201]>\n",
      "<Response [201]>\n",
      "<Response [201]>\n",
      "<Response [201]>\n",
      "<Response [201]>\n",
      "<Response [201]>\n",
      "<Response [201]>\n",
      "<Response [201]>\n",
      "<Response [201]>\n",
      "<Response [201]>\n",
      "<Response [201]>\n",
      "<Response [201]>\n",
      "<Response [201]>\n",
      "<Response [201]>\n",
      "<Response [201]>\n",
      "<Response [201]>\n",
      "<Response [201]>\n",
      "<Response [201]>\n",
      "<Response [201]>\n",
      "<Response [201]>\n",
      "<Response [201]>\n",
      "<Response [201]>\n",
      "<Response [201]>\n",
      "<Response [201]>\n",
      "<Response [201]>\n",
      "<Response [201]>\n",
      "<Response [201]>\n",
      "<Response [201]>\n",
      "<Response [201]>\n",
      "<Response [201]>\n",
      "<Response [201]>\n",
      "<Response [201]>\n"
     ]
    }
   ],
   "source": [
    "id = ['15ab8357abeb6eacf1b591a1b5b1aedd','80cf219b4993391f6a6a0c08096c5ecb','8d46e96b1dae34c8932f46203e4f96ed','814e909f65f1d912cdb7cc3983b94329','9485b1ffdcd57a1e780d12cb2fbf0e49','79195dad1f933b67b79b19c194f9701a']\n",
    "\n",
    "#start = np.zeros(10)\n",
    "#end = np.zeros(10)\n",
    "\n",
    "sz = []\n",
    "\n",
    "\n",
    "c = 0\n",
    "while c<1000:\n",
    "    r1 = 0\n",
    "    JSON = {\n",
    "            \"sender\": id[random.randint(0, 5)],\n",
    "            \"receiver\": str(random.getrandbits(128)),\n",
    "            \"amount\": str(random.getrandbits(128))[:15],\n",
    "            \"category\": random.randint(0,1)\n",
    "            }\n",
    "    \n",
    "    \n",
    "    try:\n",
    "            \n",
    "        URL = \"http://localhost:5001/add_transaction\"\n",
    "        #start[c] = time.time()\n",
    "        r1 = requests.post(URL, json = JSON)\n",
    "        #end[c] = time.time()\n",
    "        \n",
    "        U = \"http://localhost:5001/get_chain\"\n",
    "        r2 = requests.get(U)\n",
    "\n",
    "        with open('scalability.txt','w+') as f:\n",
    "            f.write(str(r2.json()))\n",
    "\n",
    "        sz.append(os.path.getsize(\"scalability.txt\"))\n",
    "\n",
    "            \n",
    "    except:\n",
    "            pass\n",
    "    \n",
    "    print(r1)\n",
    "\n",
    "    #time.sleep(random.randrange(3))\n",
    "    c=c+1"
   ]
  },
  {
   "cell_type": "code",
   "execution_count": 8,
   "metadata": {},
   "outputs": [],
   "source": [
    "idx = [i+1 for i in range(c)]"
   ]
  },
  {
   "cell_type": "code",
   "execution_count": 4,
   "metadata": {},
   "outputs": [],
   "source": [
    "import numpy as np\n",
    "import pandas as pd\n",
    "import matplotlib.pyplot as plt\n",
    "import seaborn as sns"
   ]
  },
  {
   "cell_type": "code",
   "execution_count": 5,
   "metadata": {},
   "outputs": [],
   "source": [
    "sns.set_style('darkgrid')"
   ]
  },
  {
   "cell_type": "code",
   "execution_count": 28,
   "metadata": {},
   "outputs": [
    {
     "data": {
      "image/png": "[encoded data removed]",
      "text/plain": [
       "<Figure size 1440x720 with 1 Axes>"
      ]
     },
     "metadata": {},
     "output_type": "display_data"
    },
    {
     "data": {
      "text/plain": [
       "<Figure size 432x288 with 0 Axes>"
      ]
     },
     "metadata": {},
     "output_type": "display_data"
    }
   ],
   "source": [
    "plt.figure(figsize=(20,10))\n",
    "sns.lineplot(x = idx,y = sz)\n",
    "#sns.regplot(x = 'xs',y = 'ys',data=haha)\n",
    "\n",
    "_ = plt.yticks(fontsize=20, ticks=list(np.arange(0,400000,50000)))\n",
    "_ = plt.xticks(fontsize=20 , ticks=list(np.arange(0,1001,100)), rotation='vertical')\n",
    "\n",
    "plt.xlabel('Number of Transactions',fontdict={'fontsize': 20,\n",
    "          'weight' : 'normal',\n",
    "         'horizontalalignment': 'center'})\n",
    "\n",
    "plt.ylabel('Time Required (Seconds)',fontdict={'fontsize': 20,\n",
    "          'weight' : 'normal',\n",
    "         'horizontalalignment': 'center'})\n",
    "\n",
    "\n",
    "plt.title('Number of Transactions Vs Time', fontdict={'fontsize': 32,\n",
    "          'weight' : 'bold',\n",
    "         'horizontalalignment': 'center'}\n",
    ")\n",
    "\n",
    "\n",
    "#plt.legend(['Actual Plot','Estimated Line'],prop={'size': 16})\n",
    "plt.show()\n",
    "plt.tight_layout()\n",
    "\n",
    "#plt.savefig('result graph 2.png')"
   ]
  },
  {
   "cell_type": "code",
   "execution_count": 32,
   "metadata": {},
   "outputs": [],
   "source": [
    "bit = pd.read_csv('avg-block-size')"
   ]
  },
  {
   "cell_type": "code",
   "execution_count": 36,
   "metadata": {},
   "outputs": [
    {
     "data": {
      "text/plain": [
       "1.12691123391813"
      ]
     },
     "execution_count": 36,
     "metadata": {},
     "output_type": "execute_result"
    }
   ],
   "source": [
    "bit.head()['avg-block-size'].median()"
   ]
  },
  {
   "cell_type": "code",
   "execution_count": 41,
   "metadata": {},
   "outputs": [
    {
     "data": {
      "text/html": [
       "<div>\n",
       "<style scoped>\n",
       "    .dataframe tbody tr th:only-of-type {\n",
       "        vertical-align: middle;\n",
       "    }\n",
       "\n",
       "    .dataframe tbody tr th {\n",
       "        vertical-align: top;\n",
       "    }\n",
       "\n",
       "    .dataframe thead th {\n",
       "        text-align: right;\n",
       "    }\n",
       "</style>\n",
       "<table border=\"1\" class=\"dataframe\">\n",
       "  <thead>\n",
       "    <tr style=\"text-align: right;\">\n",
       "      <th></th>\n",
       "      <th>Timestamp</th>\n",
       "      <th>avg-block-size</th>\n",
       "    </tr>\n",
       "  </thead>\n",
       "  <tbody>\n",
       "    <tr>\n",
       "      <th>0</th>\n",
       "      <td>2019-04-28 00:00:00</td>\n",
       "      <td>0.977574</td>\n",
       "    </tr>\n",
       "    <tr>\n",
       "      <th>1</th>\n",
       "      <td>2019-04-29 00:00:00</td>\n",
       "      <td>1.203268</td>\n",
       "    </tr>\n",
       "    <tr>\n",
       "      <th>2</th>\n",
       "      <td>2019-04-30 00:00:00</td>\n",
       "      <td>1.295071</td>\n",
       "    </tr>\n",
       "    <tr>\n",
       "      <th>3</th>\n",
       "      <td>2019-05-01 00:00:00</td>\n",
       "      <td>1.126911</td>\n",
       "    </tr>\n",
       "    <tr>\n",
       "      <th>4</th>\n",
       "      <td>2019-05-02 00:00:00</td>\n",
       "      <td>1.100862</td>\n",
       "    </tr>\n",
       "    <tr>\n",
       "      <th>...</th>\n",
       "      <td>...</td>\n",
       "      <td>...</td>\n",
       "    </tr>\n",
       "    <tr>\n",
       "      <th>360</th>\n",
       "      <td>2020-04-22 00:00:00</td>\n",
       "      <td>1.031391</td>\n",
       "    </tr>\n",
       "    <tr>\n",
       "      <th>361</th>\n",
       "      <td>2020-04-23 00:00:00</td>\n",
       "      <td>1.287894</td>\n",
       "    </tr>\n",
       "    <tr>\n",
       "      <th>362</th>\n",
       "      <td>2020-04-24 00:00:00</td>\n",
       "      <td>1.273850</td>\n",
       "    </tr>\n",
       "    <tr>\n",
       "      <th>363</th>\n",
       "      <td>2020-04-25 00:00:00</td>\n",
       "      <td>1.239612</td>\n",
       "    </tr>\n",
       "    <tr>\n",
       "      <th>364</th>\n",
       "      <td>2020-04-26 00:00:00</td>\n",
       "      <td>1.072415</td>\n",
       "    </tr>\n",
       "  </tbody>\n",
       "</table>\n",
       "<p>365 rows × 2 columns</p>\n",
       "</div>"
      ],
      "text/plain": [
       "               Timestamp  avg-block-size\n",
       "0    2019-04-28 00:00:00        0.977574\n",
       "1    2019-04-29 00:00:00        1.203268\n",
       "2    2019-04-30 00:00:00        1.295071\n",
       "3    2019-05-01 00:00:00        1.126911\n",
       "4    2019-05-02 00:00:00        1.100862\n",
       "..                   ...             ...\n",
       "360  2020-04-22 00:00:00        1.031391\n",
       "361  2020-04-23 00:00:00        1.287894\n",
       "362  2020-04-24 00:00:00        1.273850\n",
       "363  2020-04-25 00:00:00        1.239612\n",
       "364  2020-04-26 00:00:00        1.072415\n",
       "\n",
       "[365 rows x 2 columns]"
      ]
     },
     "execution_count": 41,
     "metadata": {},
     "output_type": "execute_result"
    }
   ],
   "source": [
    "bit"
   ]
  },
  {
   "cell_type": "code",
   "execution_count": 45,
   "metadata": {},
   "outputs": [
    {
     "data": {
      "text/plain": [
       "[456,\n",
       " 778,\n",
       " 1101,\n",
       " 1423,\n",
       " 1746,\n",
       " 2068,\n",
       " 2390,\n",
       " 2711,\n",
       " 3035,\n",
       " 3357,\n",
       " 3681,\n",
       " 4006,\n",
       " 4330,\n",
       " 4655,\n",
       " 4978,\n",
       " 5302,\n",
       " 5627,\n",
       " 5951,\n",
       " 6275,\n",
       " 6599,\n",
       " 6924,\n",
       " 7248,\n",
       " 7572,\n",
       " 7896,\n",
       " 8220,\n",
       " 8544,\n",
       " 8868,\n",
       " 9192,\n",
       " 9516,\n",
       " 9840,\n",
       " 10163,\n",
       " 10486,\n",
       " 10810,\n",
       " 11133,\n",
       " 11457,\n",
       " 11781,\n",
       " 12105,\n",
       " 12429,\n",
       " 12752,\n",
       " 13075,\n",
       " 13399,\n",
       " 13723,\n",
       " 14047,\n",
       " 14369,\n",
       " 14693,\n",
       " 15017,\n",
       " 15341,\n",
       " 15664,\n",
       " 15988,\n",
       " 16311,\n",
       " 16636,\n",
       " 16960,\n",
       " 17284,\n",
       " 17607,\n",
       " 17931,\n",
       " 18254,\n",
       " 18579,\n",
       " 18902,\n",
       " 19227,\n",
       " 19549,\n",
       " 19872,\n",
       " 20197,\n",
       " 20519,\n",
       " 20844,\n",
       " 21168,\n",
       " 21492,\n",
       " 21816,\n",
       " 22141,\n",
       " 22464,\n",
       " 22786,\n",
       " 23110,\n",
       " 23433,\n",
       " 23756,\n",
       " 24081,\n",
       " 24404,\n",
       " 24728,\n",
       " 25052,\n",
       " 25374,\n",
       " 25697,\n",
       " 26021,\n",
       " 26344,\n",
       " 26669,\n",
       " 26994,\n",
       " 27318,\n",
       " 27642,\n",
       " 27966,\n",
       " 28290,\n",
       " 28614,\n",
       " 28937,\n",
       " 29259,\n",
       " 29584,\n",
       " 29908,\n",
       " 30231,\n",
       " 30555,\n",
       " 30879,\n",
       " 31203,\n",
       " 31527,\n",
       " 31851,\n",
       " 32177,\n",
       " 32502,\n",
       " 32827,\n",
       " 33152,\n",
       " 33477,\n",
       " 33801,\n",
       " 34125,\n",
       " 34449,\n",
       " 34774,\n",
       " 35098,\n",
       " 35424,\n",
       " 35748,\n",
       " 36074,\n",
       " 36398,\n",
       " 36723,\n",
       " 37048,\n",
       " 37373,\n",
       " 37698,\n",
       " 38024,\n",
       " 38349,\n",
       " 38674,\n",
       " 39000,\n",
       " 39325,\n",
       " 39649,\n",
       " 39974,\n",
       " 40299,\n",
       " 40625,\n",
       " 40948,\n",
       " 41274,\n",
       " 41598,\n",
       " 41923,\n",
       " 42248,\n",
       " 42573,\n",
       " 42897,\n",
       " 43222,\n",
       " 43548,\n",
       " 43873,\n",
       " 44197,\n",
       " 44522,\n",
       " 44847,\n",
       " 45171,\n",
       " 45496,\n",
       " 45820,\n",
       " 46145,\n",
       " 46470,\n",
       " 46795,\n",
       " 47120,\n",
       " 47446,\n",
       " 47771,\n",
       " 48096,\n",
       " 48422,\n",
       " 48745,\n",
       " 49071,\n",
       " 49396,\n",
       " 49721,\n",
       " 50046,\n",
       " 50370,\n",
       " 50693,\n",
       " 51019,\n",
       " 51344,\n",
       " 51669,\n",
       " 51993,\n",
       " 52318,\n",
       " 52643,\n",
       " 52967,\n",
       " 53292,\n",
       " 53616,\n",
       " 53939,\n",
       " 54264,\n",
       " 54588,\n",
       " 54912,\n",
       " 55237,\n",
       " 55562,\n",
       " 55887,\n",
       " 56212,\n",
       " 56536,\n",
       " 56860,\n",
       " 57185,\n",
       " 57511,\n",
       " 57836,\n",
       " 58161,\n",
       " 58485,\n",
       " 58810,\n",
       " 59135,\n",
       " 59459,\n",
       " 59784,\n",
       " 60108,\n",
       " 60433,\n",
       " 60757,\n",
       " 61082,\n",
       " 61407,\n",
       " 61729,\n",
       " 62052,\n",
       " 62378,\n",
       " 62703,\n",
       " 63027,\n",
       " 63352,\n",
       " 63678,\n",
       " 64003,\n",
       " 64328,\n",
       " 64653,\n",
       " 64978,\n",
       " 65303,\n",
       " 65629,\n",
       " 65954,\n",
       " 66278,\n",
       " 66602,\n",
       " 66928,\n",
       " 67252,\n",
       " 67577,\n",
       " 67902,\n",
       " 68227,\n",
       " 68553,\n",
       " 68878,\n",
       " 69202,\n",
       " 69527,\n",
       " 69851,\n",
       " 70176,\n",
       " 70502,\n",
       " 70828,\n",
       " 71153,\n",
       " 71477,\n",
       " 71802,\n",
       " 72127,\n",
       " 72451,\n",
       " 72774,\n",
       " 73098,\n",
       " 73424,\n",
       " 73749,\n",
       " 74073,\n",
       " 74398,\n",
       " 74723,\n",
       " 75048,\n",
       " 75374,\n",
       " 75699,\n",
       " 76024,\n",
       " 76349,\n",
       " 76673,\n",
       " 76996,\n",
       " 77321,\n",
       " 77646,\n",
       " 77972,\n",
       " 78297,\n",
       " 78621,\n",
       " 78946,\n",
       " 79271,\n",
       " 79596,\n",
       " 79922,\n",
       " 80245,\n",
       " 80570,\n",
       " 80896,\n",
       " 81221,\n",
       " 81546,\n",
       " 81870,\n",
       " 82195,\n",
       " 82520,\n",
       " 82845,\n",
       " 83170,\n",
       " 83494,\n",
       " 83819,\n",
       " 84144,\n",
       " 84468,\n",
       " 84794,\n",
       " 85118,\n",
       " 85443,\n",
       " 85768,\n",
       " 86092,\n",
       " 86417,\n",
       " 86743,\n",
       " 87068,\n",
       " 87393,\n",
       " 87717,\n",
       " 88042,\n",
       " 88367,\n",
       " 88690,\n",
       " 89015,\n",
       " 89341,\n",
       " 89666,\n",
       " 89991,\n",
       " 90316,\n",
       " 90641,\n",
       " 90965,\n",
       " 91290,\n",
       " 91615,\n",
       " 91941,\n",
       " 92266,\n",
       " 92592,\n",
       " 92916,\n",
       " 93241,\n",
       " 93566,\n",
       " 93891,\n",
       " 94216,\n",
       " 94541,\n",
       " 94867,\n",
       " 95192,\n",
       " 95516,\n",
       " 95841,\n",
       " 96166,\n",
       " 96490,\n",
       " 96816,\n",
       " 97140,\n",
       " 97465,\n",
       " 97790,\n",
       " 98115,\n",
       " 98440,\n",
       " 98766,\n",
       " 99090,\n",
       " 99415,\n",
       " 99741,\n",
       " 100065,\n",
       " 100391,\n",
       " 100715,\n",
       " 101040,\n",
       " 101365,\n",
       " 101690,\n",
       " 102014,\n",
       " 102340,\n",
       " 102666,\n",
       " 102991,\n",
       " 103315,\n",
       " 103640,\n",
       " 103965,\n",
       " 104289,\n",
       " 104614,\n",
       " 104938,\n",
       " 105260,\n",
       " 105582,\n",
       " 105907,\n",
       " 106232,\n",
       " 106557,\n",
       " 106882,\n",
       " 107207,\n",
       " 107532,\n",
       " 107857,\n",
       " 108182,\n",
       " 108507,\n",
       " 108832,\n",
       " 109157,\n",
       " 109482,\n",
       " 109807,\n",
       " 110131,\n",
       " 110456,\n",
       " 110780,\n",
       " 111106,\n",
       " 111431,\n",
       " 111755,\n",
       " 112079,\n",
       " 112404,\n",
       " 112728,\n",
       " 113051,\n",
       " 113375,\n",
       " 113701,\n",
       " 114025,\n",
       " 114350,\n",
       " 114675,\n",
       " 115001,\n",
       " 115327,\n",
       " 115651,\n",
       " 115976,\n",
       " 116301,\n",
       " 116625,\n",
       " 116951,\n",
       " 117275,\n",
       " 117599,\n",
       " 117925,\n",
       " 118251,\n",
       " 118576,\n",
       " 118901,\n",
       " 119225,\n",
       " 119550,\n",
       " 119876,\n",
       " 120200,\n",
       " 120524,\n",
       " 120849,\n",
       " 121174,\n",
       " 121499,\n",
       " 121825,\n",
       " 122151,\n",
       " 122476,\n",
       " 122800,\n",
       " 123124,\n",
       " 123449,\n",
       " 123773,\n",
       " 124095,\n",
       " 124420,\n",
       " 124746,\n",
       " 125071,\n",
       " 125395,\n",
       " 125720,\n",
       " 126045,\n",
       " 126370,\n",
       " 126696,\n",
       " 127021,\n",
       " 127345,\n",
       " 127668,\n",
       " 127991,\n",
       " 128314,\n",
       " 128639,\n",
       " 128962,\n",
       " 129288,\n",
       " 129614,\n",
       " 129938,\n",
       " 130262,\n",
       " 130587,\n",
       " 130912,\n",
       " 131238,\n",
       " 131561,\n",
       " 131886,\n",
       " 132212,\n",
       " 132537,\n",
       " 132862,\n",
       " 133187,\n",
       " 133511,\n",
       " 133836,\n",
       " 134161,\n",
       " 134485,\n",
       " 134809,\n",
       " 135134,\n",
       " 135459,\n",
       " 135784,\n",
       " 136110,\n",
       " 136435,\n",
       " 136760,\n",
       " 137085,\n",
       " 137410,\n",
       " 137735,\n",
       " 138061,\n",
       " 138386,\n",
       " 138712,\n",
       " 139037,\n",
       " 139362,\n",
       " 139687,\n",
       " 140012,\n",
       " 140337,\n",
       " 140663,\n",
       " 140988,\n",
       " 141313,\n",
       " 141639,\n",
       " 141964,\n",
       " 142289,\n",
       " 142615,\n",
       " 142940,\n",
       " 143265,\n",
       " 143589,\n",
       " 143915,\n",
       " 144240,\n",
       " 144565,\n",
       " 144890,\n",
       " 145215,\n",
       " 145539,\n",
       " 145864,\n",
       " 146190,\n",
       " 146514,\n",
       " 146839,\n",
       " 147164,\n",
       " 147488,\n",
       " 147812,\n",
       " 148137,\n",
       " 148460,\n",
       " 148785,\n",
       " 149110,\n",
       " 149434,\n",
       " 149759,\n",
       " 150085,\n",
       " 150410,\n",
       " 150734,\n",
       " 151060,\n",
       " 151384,\n",
       " 151710,\n",
       " 152035,\n",
       " 152360,\n",
       " 152685,\n",
       " 153010,\n",
       " 153333,\n",
       " 153658,\n",
       " 153984,\n",
       " 154309,\n",
       " 154634,\n",
       " 154959,\n",
       " 155284,\n",
       " 155608,\n",
       " 155933,\n",
       " 156256,\n",
       " 156578,\n",
       " 156903,\n",
       " 157228,\n",
       " 157553,\n",
       " 157878,\n",
       " 158202,\n",
       " 158527,\n",
       " 158851,\n",
       " 159176,\n",
       " 159501,\n",
       " 159826,\n",
       " 160152,\n",
       " 160477,\n",
       " 160801,\n",
       " 161126,\n",
       " 161451,\n",
       " 161775,\n",
       " 162099,\n",
       " 162425,\n",
       " 162749,\n",
       " 163073,\n",
       " 163397,\n",
       " 163721,\n",
       " 164046,\n",
       " 164369,\n",
       " 164692,\n",
       " 165017,\n",
       " 165342,\n",
       " 165667,\n",
       " 165992,\n",
       " 166318,\n",
       " 166644,\n",
       " 166968,\n",
       " 167293,\n",
       " 167618,\n",
       " 167943,\n",
       " 168268,\n",
       " 168592,\n",
       " 168915,\n",
       " 169241,\n",
       " 169567,\n",
       " 169891,\n",
       " 170215,\n",
       " 170540,\n",
       " 170865,\n",
       " 171191,\n",
       " 171514,\n",
       " 171838,\n",
       " 172162,\n",
       " 172486,\n",
       " 172810,\n",
       " 173136,\n",
       " 173462,\n",
       " 173786,\n",
       " 174110,\n",
       " 174433,\n",
       " 174755,\n",
       " 175079,\n",
       " 175403,\n",
       " 175728,\n",
       " 176053,\n",
       " 176378,\n",
       " 176702,\n",
       " 177027,\n",
       " 177352,\n",
       " 177677,\n",
       " 178002,\n",
       " 178327,\n",
       " 178652,\n",
       " 178977,\n",
       " 179301,\n",
       " 179625,\n",
       " 179950,\n",
       " 180275,\n",
       " 180598,\n",
       " 180924,\n",
       " 181249,\n",
       " 181574,\n",
       " 181898,\n",
       " 182221,\n",
       " 182547,\n",
       " 182871,\n",
       " 183196,\n",
       " 183521,\n",
       " 183846,\n",
       " 184171,\n",
       " 184496,\n",
       " 184821,\n",
       " 185144,\n",
       " 185468,\n",
       " 185792,\n",
       " 186115,\n",
       " 186440,\n",
       " 186765,\n",
       " 187090,\n",
       " 187416,\n",
       " 187741,\n",
       " 188066,\n",
       " 188390,\n",
       " 188714,\n",
       " 189039,\n",
       " 189364,\n",
       " 189689,\n",
       " 190015,\n",
       " 190340,\n",
       " 190665,\n",
       " 190990,\n",
       " 191314,\n",
       " 191638,\n",
       " 191963,\n",
       " 192288,\n",
       " 192612,\n",
       " 192937,\n",
       " 193261,\n",
       " 193586,\n",
       " 193911,\n",
       " 194236,\n",
       " 194562,\n",
       " 194887,\n",
       " 195213,\n",
       " 195538,\n",
       " 195862,\n",
       " 196186,\n",
       " 196509,\n",
       " 196834,\n",
       " 197158,\n",
       " 197484,\n",
       " 197808,\n",
       " 198133,\n",
       " 198458,\n",
       " 198781,\n",
       " 199104,\n",
       " 199430,\n",
       " 199754,\n",
       " 200079,\n",
       " 200403,\n",
       " 200728,\n",
       " 201053,\n",
       " 201379,\n",
       " 201704,\n",
       " 202027,\n",
       " 202353,\n",
       " 202676,\n",
       " 203001,\n",
       " 203327,\n",
       " 203652,\n",
       " 203976,\n",
       " 204301,\n",
       " 204624,\n",
       " 204949,\n",
       " 205275,\n",
       " 205600,\n",
       " 205925,\n",
       " 206250,\n",
       " 206575,\n",
       " 206899,\n",
       " 207224,\n",
       " 207548,\n",
       " 207871,\n",
       " 208196,\n",
       " 208520,\n",
       " 208845,\n",
       " 209169,\n",
       " 209492,\n",
       " 209817,\n",
       " 210142,\n",
       " 210466,\n",
       " 210791,\n",
       " 211115,\n",
       " 211441,\n",
       " 211766,\n",
       " 212091,\n",
       " 212415,\n",
       " 212740,\n",
       " 213065,\n",
       " 213389,\n",
       " 213715,\n",
       " 214039,\n",
       " 214364,\n",
       " 214688,\n",
       " 215012,\n",
       " 215337,\n",
       " 215660,\n",
       " 215984,\n",
       " 216309,\n",
       " 216633,\n",
       " 216957,\n",
       " 217281,\n",
       " 217607,\n",
       " 217933,\n",
       " 218257,\n",
       " 218582,\n",
       " 218907,\n",
       " 219231,\n",
       " 219557,\n",
       " 219881,\n",
       " 220205,\n",
       " 220530,\n",
       " 220856,\n",
       " 221181,\n",
       " 221506,\n",
       " 221831,\n",
       " 222156,\n",
       " 222482,\n",
       " 222806,\n",
       " 223130,\n",
       " 223455,\n",
       " 223779,\n",
       " 224104,\n",
       " 224429,\n",
       " 224754,\n",
       " 225079,\n",
       " 225403,\n",
       " 225728,\n",
       " 226053,\n",
       " 226377,\n",
       " 226701,\n",
       " 227026,\n",
       " 227351,\n",
       " 227675,\n",
       " 227999,\n",
       " 228324,\n",
       " 228649,\n",
       " 228973,\n",
       " 229299,\n",
       " 229623,\n",
       " 229948,\n",
       " 230273,\n",
       " 230597,\n",
       " 230920,\n",
       " 231245,\n",
       " 231570,\n",
       " 231896,\n",
       " 232221,\n",
       " 232546,\n",
       " 232870,\n",
       " 233195,\n",
       " 233520,\n",
       " 233846,\n",
       " 234170,\n",
       " 234495,\n",
       " 234821,\n",
       " 235146,\n",
       " 235471,\n",
       " 235794,\n",
       " 236119,\n",
       " 236444,\n",
       " 236769,\n",
       " 237094,\n",
       " 237419,\n",
       " 237744,\n",
       " 238068,\n",
       " 238392,\n",
       " 238718,\n",
       " 239043,\n",
       " 239367,\n",
       " 239692,\n",
       " 240017,\n",
       " 240341,\n",
       " 240666,\n",
       " 240991,\n",
       " 241315,\n",
       " 241640,\n",
       " 241965,\n",
       " 242289,\n",
       " 242614,\n",
       " 242939,\n",
       " 243265,\n",
       " 243590,\n",
       " 243915,\n",
       " 244241,\n",
       " 244566,\n",
       " 244890,\n",
       " 245215,\n",
       " 245539,\n",
       " 245865,\n",
       " 246190,\n",
       " 246515,\n",
       " 246840,\n",
       " 247164,\n",
       " 247489,\n",
       " 247813,\n",
       " 248137,\n",
       " 248459,\n",
       " 248785,\n",
       " 249110,\n",
       " 249435,\n",
       " 249759,\n",
       " 250083,\n",
       " 250407,\n",
       " 250733,\n",
       " 251057,\n",
       " 251382,\n",
       " 251707,\n",
       " 252032,\n",
       " 252357,\n",
       " 252683,\n",
       " 253007,\n",
       " 253332,\n",
       " 253658,\n",
       " 253981,\n",
       " 254307,\n",
       " 254633,\n",
       " 254957,\n",
       " 255282,\n",
       " 255607,\n",
       " 255931,\n",
       " 256257,\n",
       " 256583,\n",
       " 256908,\n",
       " 257233,\n",
       " 257557,\n",
       " 257882,\n",
       " 258205,\n",
       " 258529,\n",
       " 258853,\n",
       " 259175,\n",
       " 259500,\n",
       " 259824,\n",
       " 260149,\n",
       " 260474,\n",
       " 260799,\n",
       " 261124,\n",
       " 261449,\n",
       " 261773,\n",
       " 262098,\n",
       " 262423,\n",
       " 262748,\n",
       " 263072,\n",
       " 263397,\n",
       " 263722,\n",
       " 264047,\n",
       " 264372,\n",
       " 264696,\n",
       " 265021,\n",
       " 265346,\n",
       " 265671,\n",
       " 265993,\n",
       " 266317,\n",
       " 266641,\n",
       " 266964,\n",
       " 267288,\n",
       " 267614,\n",
       " 267939,\n",
       " 268263,\n",
       " 268588,\n",
       " 268914,\n",
       " 269240,\n",
       " 269564,\n",
       " 269888,\n",
       " 270212,\n",
       " 270536,\n",
       " 270862,\n",
       " 271186,\n",
       " 271510,\n",
       " 271836,\n",
       " 272162,\n",
       " 272487,\n",
       " 272812,\n",
       " 273136,\n",
       " 273461,\n",
       " 273786,\n",
       " 274111,\n",
       " 274435,\n",
       " 274760,\n",
       " 275085,\n",
       " 275409,\n",
       " 275734,\n",
       " 276060,\n",
       " 276384,\n",
       " 276708,\n",
       " 277033,\n",
       " 277356,\n",
       " 277680,\n",
       " 278004,\n",
       " 278329,\n",
       " 278655,\n",
       " 278980,\n",
       " 279304,\n",
       " 279629,\n",
       " 279954,\n",
       " 280279,\n",
       " 280605,\n",
       " 280930,\n",
       " 281255,\n",
       " 281580,\n",
       " 281903,\n",
       " 282227,\n",
       " 282552,\n",
       " 282877,\n",
       " 283203,\n",
       " 283529,\n",
       " 283853,\n",
       " 284178,\n",
       " 284503,\n",
       " 284827,\n",
       " 285153,\n",
       " 285477,\n",
       " 285801,\n",
       " 286126,\n",
       " 286450,\n",
       " 286775,\n",
       " 287100,\n",
       " 287425,\n",
       " 287750,\n",
       " 288075,\n",
       " 288400,\n",
       " 288724,\n",
       " 289049,\n",
       " 289373,\n",
       " 289698,\n",
       " 290023,\n",
       " 290348,\n",
       " 290673,\n",
       " 290997,\n",
       " 291322,\n",
       " 291647,\n",
       " 291973,\n",
       " 292298,\n",
       " 292624,\n",
       " 292948,\n",
       " 293273,\n",
       " 293598,\n",
       " 293923,\n",
       " 294248,\n",
       " 294574,\n",
       " 294899,\n",
       " 295224,\n",
       " 295550,\n",
       " 295875,\n",
       " 296200,\n",
       " 296526,\n",
       " 296851,\n",
       " 297177,\n",
       " 297501,\n",
       " 297826,\n",
       " 298151,\n",
       " 298475,\n",
       " 298799,\n",
       " 299124,\n",
       " 299448,\n",
       " 299773,\n",
       " 300099,\n",
       " 300422,\n",
       " 300747,\n",
       " 301072,\n",
       " 301397,\n",
       " 301721,\n",
       " 302047,\n",
       " 302371,\n",
       " 302696,\n",
       " 303020,\n",
       " 303345,\n",
       " 303670,\n",
       " 303996,\n",
       " 304320,\n",
       " 304644,\n",
       " 304969,\n",
       " 305293,\n",
       " 305619,\n",
       " 305945,\n",
       " 306270,\n",
       " 306594,\n",
       " 306919,\n",
       " 307243,\n",
       " 307568,\n",
       " 307894,\n",
       " 308218,\n",
       " 308543,\n",
       " 308868,\n",
       " 309193,\n",
       " 309517,\n",
       " 309842,\n",
       " 310166,\n",
       " 310488,\n",
       " 310813,\n",
       " 311138,\n",
       " 311463,\n",
       " 311788,\n",
       " 312113,\n",
       " 312437,\n",
       " 312762,\n",
       " 313087,\n",
       " 313411,\n",
       " 313736,\n",
       " 314062,\n",
       " 314387,\n",
       " 314712,\n",
       " 315037,\n",
       " 315362,\n",
       " 315686,\n",
       " 316010,\n",
       " 316335,\n",
       " 316659,\n",
       " 316984,\n",
       " 317308,\n",
       " 317633,\n",
       " 317957,\n",
       " 318280,\n",
       " 318603,\n",
       " 318928,\n",
       " 319253,\n",
       " 319578,\n",
       " 319903,\n",
       " 320229,\n",
       " 320555,\n",
       " 320880,\n",
       " 321205,\n",
       " 321530,\n",
       " 321855,\n",
       " 322181,\n",
       " 322506,\n",
       " 322830,\n",
       " 323156,\n",
       " 323482,\n",
       " 323807,\n",
       " 324131,\n",
       " 324457,\n",
       " 324783]"
      ]
     },
     "execution_count": 45,
     "metadata": {},
     "output_type": "execute_result"
    }
   ],
   "source": [
    "sz"
   ]
  },
  {
   "cell_type": "code",
   "execution_count": 38,
   "metadata": {},
   "outputs": [],
   "source": [
    "block = pd.read_csv('blocks-size')"
   ]
  },
  {
   "cell_type": "code",
   "execution_count": 39,
   "metadata": {},
   "outputs": [
    {
     "data": {
      "text/html": [
       "<div>\n",
       "<style scoped>\n",
       "    .dataframe tbody tr th:only-of-type {\n",
       "        vertical-align: middle;\n",
       "    }\n",
       "\n",
       "    .dataframe tbody tr th {\n",
       "        vertical-align: top;\n",
       "    }\n",
       "\n",
       "    .dataframe thead th {\n",
       "        text-align: right;\n",
       "    }\n",
       "</style>\n",
       "<table border=\"1\" class=\"dataframe\">\n",
       "  <thead>\n",
       "    <tr style=\"text-align: right;\">\n",
       "      <th></th>\n",
       "      <th>Timestamp</th>\n",
       "      <th>blocks-size</th>\n",
       "    </tr>\n",
       "  </thead>\n",
       "  <tbody>\n",
       "    <tr>\n",
       "      <th>0</th>\n",
       "      <td>2019-04-28 00:00:00</td>\n",
       "      <td>216091.672205</td>\n",
       "    </tr>\n",
       "    <tr>\n",
       "      <th>1</th>\n",
       "      <td>2019-04-29 00:00:00</td>\n",
       "      <td>216250.430690</td>\n",
       "    </tr>\n",
       "    <tr>\n",
       "      <th>2</th>\n",
       "      <td>2019-04-30 00:00:00</td>\n",
       "      <td>216447.012940</td>\n",
       "    </tr>\n",
       "    <tr>\n",
       "      <th>3</th>\n",
       "      <td>2019-05-01 00:00:00</td>\n",
       "      <td>216628.418736</td>\n",
       "    </tr>\n",
       "    <tr>\n",
       "      <th>4</th>\n",
       "      <td>2019-05-02 00:00:00</td>\n",
       "      <td>216821.134364</td>\n",
       "    </tr>\n",
       "    <tr>\n",
       "      <th>...</th>\n",
       "      <td>...</td>\n",
       "      <td>...</td>\n",
       "    </tr>\n",
       "    <tr>\n",
       "      <th>360</th>\n",
       "      <td>2020-04-22 00:00:00</td>\n",
       "      <td>273354.812078</td>\n",
       "    </tr>\n",
       "    <tr>\n",
       "      <th>361</th>\n",
       "      <td>2020-04-23 00:00:00</td>\n",
       "      <td>273489.873090</td>\n",
       "    </tr>\n",
       "    <tr>\n",
       "      <th>362</th>\n",
       "      <td>2020-04-24 00:00:00</td>\n",
       "      <td>273672.774428</td>\n",
       "    </tr>\n",
       "    <tr>\n",
       "      <th>363</th>\n",
       "      <td>2020-04-25 00:00:00</td>\n",
       "      <td>273856.325797</td>\n",
       "    </tr>\n",
       "    <tr>\n",
       "      <th>364</th>\n",
       "      <td>2020-04-26 00:00:00</td>\n",
       "      <td>274024.846221</td>\n",
       "    </tr>\n",
       "  </tbody>\n",
       "</table>\n",
       "<p>365 rows × 2 columns</p>\n",
       "</div>"
      ],
      "text/plain": [
       "               Timestamp    blocks-size\n",
       "0    2019-04-28 00:00:00  216091.672205\n",
       "1    2019-04-29 00:00:00  216250.430690\n",
       "2    2019-04-30 00:00:00  216447.012940\n",
       "3    2019-05-01 00:00:00  216628.418736\n",
       "4    2019-05-02 00:00:00  216821.134364\n",
       "..                   ...            ...\n",
       "360  2020-04-22 00:00:00  273354.812078\n",
       "361  2020-04-23 00:00:00  273489.873090\n",
       "362  2020-04-24 00:00:00  273672.774428\n",
       "363  2020-04-25 00:00:00  273856.325797\n",
       "364  2020-04-26 00:00:00  274024.846221\n",
       "\n",
       "[365 rows x 2 columns]"
      ]
     },
     "execution_count": 39,
     "metadata": {},
     "output_type": "execute_result"
    }
   ],
   "source": [
    "block"
   ]
  },
  {
   "cell_type": "code",
   "execution_count": 44,
   "metadata": {},
   "outputs": [
    {
     "data": {
      "text/plain": [
       "<matplotlib.axes._subplots.AxesSubplot at 0x1dba1a61708>"
      ]
     },
     "execution_count": 44,
     "metadata": {},
     "output_type": "execute_result"
    },
    {
     "data": {
      "image/png": "[encoded data removed]",
      "text/plain": [
       "<Figure size 1440x720 with 1 Axes>"
      ]
     },
     "metadata": {},
     "output_type": "display_data"
    }
   ],
   "source": [
    "plt.figure(figsize=(20,10))\n",
    "sns.lineplot(x='Timestamp',y='blocks-size',data=block[:10])"
   ]
  },
  {
   "cell_type": "code",
   "execution_count": null,
   "metadata": {},
   "outputs": [],
   "source": []
  },
  {
   "cell_type": "code",
   "execution_count": null,
   "metadata": {},
   "outputs": [],
   "source": []
  },
  {
   "cell_type": "code",
   "execution_count": null,
   "metadata": {},
   "outputs": [],
   "source": []
  },
  {
   "cell_type": "code",
   "execution_count": 20,
   "metadata": {},
   "outputs": [],
   "source": [
    "U = \"http://localhost:5001/mine_block\"\n",
    "r2 = requests.get(U)"
   ]
  },
  {
   "cell_type": "code",
   "execution_count": 21,
   "metadata": {},
   "outputs": [],
   "source": [
    "U = \"http://localhost:5001/get_chain\"\n",
    "r2 = requests.get(U)\n",
    "\n",
    "with open('scalability.txt','w+') as f:\n",
    "    f.write(str(r2.json()))\n",
    "\n",
    "os.path.getsize(\"scalability.txt\")"
   ]
  },
  {
   "cell_type": "code",
   "execution_count": 3,
   "metadata": {},
   "outputs": [
    {
     "data": {
      "text/plain": [
       "array([2.21873379, 2.20119572, 2.06247211, 2.34877324, 2.18291259,\n",
       "       2.51559424, 2.1753149 , 2.24581313, 2.18746805, 2.20309305])"
      ]
     },
     "execution_count": 3,
     "metadata": {},
     "output_type": "execute_result"
    }
   ],
   "source": [
    "end - start"
   ]
  },
  {
   "cell_type": "code",
   "execution_count": 4,
   "metadata": {},
   "outputs": [
    {
     "data": {
      "text/plain": [
       "array([2.34373546, 2.40625286, 2.14062166, 2.21872497, 2.28124809,\n",
       "       2.39061213, 2.49999714, 2.14061451, 2.20311284, 2.28123927])"
      ]
     },
     "execution_count": 4,
     "metadata": {},
     "output_type": "execute_result"
    }
   ],
   "source": [
    "e - s "
   ]
  },
  {
   "cell_type": "code",
   "execution_count": null,
   "metadata": {},
   "outputs": [],
   "source": []
  },
  {
   "cell_type": "code",
   "execution_count": 9,
   "metadata": {},
   "outputs": [],
   "source": [
    "s = time.time()\n",
    "a = 0\n",
    "e = time.time()"
   ]
  },
  {
   "cell_type": "code",
   "execution_count": 12,
   "metadata": {},
   "outputs": [
    {
     "data": {
      "text/plain": [
       "0.0"
      ]
     },
     "execution_count": 12,
     "metadata": {},
     "output_type": "execute_result"
    }
   ],
   "source": [
    "e - s"
   ]
  },
  {
   "cell_type": "code",
   "execution_count": null,
   "metadata": {},
   "outputs": [],
   "source": []
  },
  {
   "cell_type": "code",
   "execution_count": 394,
   "metadata": {},
   "outputs": [],
   "source": [
    "import numpy as np\n",
    "import pandas as pd\n",
    "import matplotlib.pyplot as plt\n",
    "import seaborn as sns\n",
    "\n",
    "%matplotlib inline"
   ]
  },
  {
   "cell_type": "code",
   "execution_count": 395,
   "metadata": {},
   "outputs": [],
   "source": [
    "data = pd.read_excel('Result.xlsx')"
   ]
  },
  {
   "cell_type": "code",
   "execution_count": 396,
   "metadata": {},
   "outputs": [],
   "source": [
    "haha = data.iloc[:7,:2].values[1:]"
   ]
  },
  {
   "cell_type": "code",
   "execution_count": 75,
   "metadata": {},
   "outputs": [],
   "source": [
    "a = [10 ** i for i in range(6)]"
   ]
  },
  {
   "cell_type": "code",
   "execution_count": 77,
   "metadata": {},
   "outputs": [
    {
     "data": {
      "text/plain": [
       "([<matplotlib.axis.XTick at 0x2400e31ffc8>,\n",
       "  <matplotlib.axis.XTick at 0x2400e31f6c8>,\n",
       "  <matplotlib.axis.XTick at 0x2400e31f288>,\n",
       "  <matplotlib.axis.XTick at 0x2400e283188>,\n",
       "  <matplotlib.axis.XTick at 0x2400e2837c8>,\n",
       "  <matplotlib.axis.XTick at 0x2400e2ae2c8>],\n",
       " <a list of 6 Text xticklabel objects>)"
      ]
     },
     "execution_count": 77,
     "metadata": {},
     "output_type": "execute_result"
    },
    {
     "data": {
      "image/png": "[encoded data removed]",
      "text/plain": [
       "<Figure size 1440x720 with 1 Axes>"
      ]
     },
     "metadata": {
      "needs_background": "light"
     },
     "output_type": "display_data"
    }
   ],
   "source": [
    "plt.figure(figsize=(20,10))\n",
    "plt.plot(haha[:,0],haha[:,1])\n",
    "plt.xticks(ticks=a, fontsize=18)"
   ]
  },
  {
   "cell_type": "code",
   "execution_count": null,
   "metadata": {},
   "outputs": [],
   "source": []
  },
  {
   "cell_type": "code",
   "execution_count": null,
   "metadata": {},
   "outputs": [],
   "source": []
  },
  {
   "cell_type": "code",
   "execution_count": null,
   "metadata": {},
   "outputs": [],
   "source": []
  },
  {
   "cell_type": "code",
   "execution_count": 397,
   "metadata": {},
   "outputs": [],
   "source": [
    "new = data.iloc[:,7:9].values[1:]"
   ]
  },
  {
   "cell_type": "code",
   "execution_count": null,
   "metadata": {},
   "outputs": [],
   "source": []
  },
  {
   "cell_type": "code",
   "execution_count": 398,
   "metadata": {},
   "outputs": [],
   "source": [
    "sns.set_style('darkgrid')"
   ]
  },
  {
   "cell_type": "code",
   "execution_count": 399,
   "metadata": {},
   "outputs": [
    {
     "data": {
      "image/png": "[encoded data removed]",
      "text/plain": [
       "<Figure size 1440x720 with 1 Axes>"
      ]
     },
     "metadata": {},
     "output_type": "display_data"
    }
   ],
   "source": [
    "plt.figure(figsize=(20,10))\n",
    "_ = plt.plot(new[:,0],new[:,1])\n",
    "_ = plt.yticks(fontsize=20 ,ticks=list(np.arange(0,50,5)))\n",
    "_ = plt.xticks(fontsize=20 ,ticks=list(new[:,0]), rotation='vertical')\n",
    "\n",
    "#sns.regplot(new[:,0],new[:,1])"
   ]
  },
  {
   "cell_type": "code",
   "execution_count": null,
   "metadata": {},
   "outputs": [],
   "source": [
    "plt.figure(figsize=(20,10))\n",
    "\n",
    "\n",
    "_ = plt.plot(new[:,0],new[:,1])\n",
    "_ = plt.yticks(fontsize=20 ,ticks=list(np.arange(0,50,5)))\n",
    "_ = plt.xticks(fontsize=20 ,ticks=list(new[:,0]), rotation='vertical')\n"
   ]
  },
  {
   "cell_type": "code",
   "execution_count": 400,
   "metadata": {},
   "outputs": [],
   "source": [
    "haha = pd.DataFrame(new,columns=['xs','ys'])"
   ]
  },
  {
   "cell_type": "code",
   "execution_count": 24,
   "metadata": {},
   "outputs": [],
   "source": [
    "aa = [0.06497788, 0.06697798, 0.31291461, 0.02599144, 0.16682076,\n",
    "       0.17995048, 0.22804546, 0.08788991, 0.05313993, 0.24488831,\n",
    "       0.5269556 , 0.13294268, 0.12096953, 0.45914602, 0.71788597,\n",
    "       0.63576221, 0.37493873, 0.18795085, 0.1769228 , 0.26092362,\n",
    "       0.38595176, 0.36797118, 0.0149951 , 0.38488865, 0.13894701,\n",
    "       0.12194133, 0.34490108, 0.02599001, 0.36090088, 0.21512318,\n",
    "       0.25092769, 0.12244201, 0.40788507, 0.08996773, 0.05495071,\n",
    "       0.10494852, 0.07796049, 0.21792579, 0.37784576, 0.11794186,\n",
    "       0.08396912, 0.12814641, 0.01602244, 0.04400134, 0.11197734]"
   ]
  },
  {
   "cell_type": "code",
   "execution_count": null,
   "metadata": {},
   "outputs": [],
   "source": []
  },
  {
   "cell_type": "code",
   "execution_count": null,
   "metadata": {},
   "outputs": [],
   "source": []
  },
  {
   "cell_type": "code",
   "execution_count": null,
   "metadata": {},
   "outputs": [],
   "source": []
  },
  {
   "cell_type": "code",
   "execution_count": 401,
   "metadata": {},
   "outputs": [],
   "source": [
    "new = new.astype(float)"
   ]
  },
  {
   "cell_type": "code",
   "execution_count": 402,
   "metadata": {},
   "outputs": [],
   "source": [
    "haha = haha.astype(float)"
   ]
  },
  {
   "cell_type": "code",
   "execution_count": 232,
   "metadata": {},
   "outputs": [
    {
     "data": {
      "image/png": "[encoded data removed]",
      "text/plain": [
       "<Figure size 720x432 with 1 Axes>"
      ]
     },
     "metadata": {},
     "output_type": "display_data"
    }
   ],
   "source": [
    "plt.figure(figsize=(10,6))\n",
    "#sns.lineplot(x = list(np.arange(0,100)+1),y = a)\n",
    "#sns.regplot(x = list(np.arange(0,100)+1),y = a)\n",
    "plt.plot(list(np.arange(0,100)+1), arr,marker = 'o',markerfacecolor='red')\n",
    "plt.plot(list(np.arange(0,100)+1),[0.5 for i in range(100)],color='red' )\n",
    "plt.axhspan(.4, .5, color='red', alpha=0.08)\n",
    "\n",
    "plt.plot(list(np.arange(0,100)+1),[0.4 for i in range(100)] ,color = 'yellow')\n",
    "plt.axhspan(.3, .4, color='yellow', alpha=0.08)\n",
    "\n",
    "plt.plot(list(np.arange(0,100)+1),[0.3 for i in range(100)],color='orange' )\n",
    "plt.axhspan(.2, .3, color='orange', alpha=0.08)\n",
    "\n",
    "plt.plot(list(np.arange(0,100)+1),[0.2 for i in range(100)] ,color = 'blue')\n",
    "plt.axhspan(.1, .2, color='blue', alpha=0.08)\n",
    "\n",
    "_ = plt.yticks(fontsize=20 )\n",
    "_ = plt.xticks(fontsize=20 ,ticks=list(np.arange(0,105,5)), rotation='vertical')\n",
    "\n",
    "plt.xlabel('Mining of $n^{th}$ block',fontdict={'fontsize': 20,\n",
    "          'weight' : 'normal',\n",
    "         'horizontalalignment': 'center'})\n",
    "\n",
    "plt.ylabel('Time Required (Seconds)',fontdict={'fontsize': 20,\n",
    "          'weight' : 'normal',\n",
    "         'horizontalalignment': 'center'})\n",
    "\n",
    "\n",
    "#plt.title('Time Required For Each Block to be Mined',y=-0.5 ,fontdict={'fontsize': 32,\n",
    "#          'weight' : 'bold',\n",
    "#         'horizontalalignment': 'center'}\n",
    "#)\n",
    "\n",
    "plt.legend([])\n",
    "\n",
    "plt.tight_layout()\n",
    "\n",
    "#plt.savefig('result graph 3.png')\n",
    "\n"
   ]
  },
  {
   "cell_type": "code",
   "execution_count": null,
   "metadata": {},
   "outputs": [],
   "source": []
  },
  {
   "cell_type": "code",
   "execution_count": 143,
   "metadata": {},
   "outputs": [],
   "source": [
    "arr = np.array(a)"
   ]
  },
  {
   "cell_type": "code",
   "execution_count": 163,
   "metadata": {},
   "outputs": [
    {
     "data": {
      "text/plain": [
       "0.4696690797805784"
      ]
     },
     "execution_count": 163,
     "metadata": {},
     "output_type": "execute_result"
    }
   ],
   "source": [
    "np.percentile(np.array(a) , 94)"
   ]
  },
  {
   "cell_type": "code",
   "execution_count": 149,
   "metadata": {},
   "outputs": [
    {
     "data": {
      "text/plain": [
       "0.5937432193756104"
      ]
     },
     "execution_count": 149,
     "metadata": {},
     "output_type": "execute_result"
    }
   ],
   "source": []
  },
  {
   "cell_type": "code",
   "execution_count": 218,
   "metadata": {},
   "outputs": [
    {
     "data": {
      "text/plain": [
       "0.0"
      ]
     },
     "execution_count": 218,
     "metadata": {},
     "output_type": "execute_result"
    }
   ],
   "source": [
    "arr[arr >= .5].shape[0] /100"
   ]
  },
  {
   "cell_type": "code",
   "execution_count": 219,
   "metadata": {},
   "outputs": [
    {
     "data": {
      "text/plain": [
       "0.05"
      ]
     },
     "execution_count": 219,
     "metadata": {},
     "output_type": "execute_result"
    }
   ],
   "source": [
    "arr[arr >= .4].shape[0] /100"
   ]
  },
  {
   "cell_type": "code",
   "execution_count": 220,
   "metadata": {},
   "outputs": [
    {
     "data": {
      "text/plain": [
       "0.18"
      ]
     },
     "execution_count": 220,
     "metadata": {},
     "output_type": "execute_result"
    }
   ],
   "source": [
    "arr[arr >= .3].shape[0] /100"
   ]
  },
  {
   "cell_type": "code",
   "execution_count": 233,
   "metadata": {},
   "outputs": [
    {
     "data": {
      "text/plain": [
       "0.3"
      ]
     },
     "execution_count": 233,
     "metadata": {},
     "output_type": "execute_result"
    }
   ],
   "source": [
    "arr[arr >= .22].shape[0] /100"
   ]
  },
  {
   "cell_type": "code",
   "execution_count": null,
   "metadata": {},
   "outputs": [],
   "source": []
  },
  {
   "cell_type": "code",
   "execution_count": 226,
   "metadata": {},
   "outputs": [
    {
     "data": {
      "text/plain": [
       "0.69"
      ]
     },
     "execution_count": 226,
     "metadata": {},
     "output_type": "execute_result"
    }
   ],
   "source": [
    "arr[arr >= .1].shape[0] /100"
   ]
  },
  {
   "cell_type": "code",
   "execution_count": 227,
   "metadata": {},
   "outputs": [
    {
     "data": {
      "text/plain": [
       "0.31"
      ]
     },
     "execution_count": 227,
     "metadata": {},
     "output_type": "execute_result"
    }
   ],
   "source": [
    "arr[arr < .1].shape[0] /100"
   ]
  },
  {
   "cell_type": "code",
   "execution_count": null,
   "metadata": {},
   "outputs": [],
   "source": []
  },
  {
   "cell_type": "code",
   "execution_count": 59,
   "metadata": {},
   "outputs": [
    {
     "data": {
      "text/plain": [
       "array([    0,     1,     2, ..., 99997, 99998, 99999])"
      ]
     },
     "execution_count": 59,
     "metadata": {},
     "output_type": "execute_result"
    }
   ],
   "source": [
    "np.arange(0,100000)"
   ]
  },
  {
   "cell_type": "code",
   "execution_count": 60,
   "metadata": {},
   "outputs": [
    {
     "data": {
      "text/plain": [
       "array([    0,     1,     2, ..., 99997, 99998, 99999])"
      ]
     },
     "execution_count": 60,
     "metadata": {},
     "output_type": "execute_result"
    }
   ],
   "source": [
    "np.arange(0,100000)"
   ]
  },
  {
   "cell_type": "code",
   "execution_count": null,
   "metadata": {},
   "outputs": [],
   "source": []
  },
  {
   "cell_type": "code",
   "execution_count": 74,
   "metadata": {},
   "outputs": [
    {
     "name": "stdout",
     "output_type": "stream",
     "text": [
      "0\n",
      "1\n",
      "2\n",
      "3\n",
      "4\n",
      "5\n",
      "6\n",
      "7\n",
      "8\n",
      "9\n"
     ]
    }
   ],
   "source": [
    "id = ['15ab8357abeb6eacf1b591a1b5b1aedd','80cf219b4993391f6a6a0c08096c5ecb','8d46e96b1dae34c8932f46203e4f96ed','814e909f65f1d912cdb7cc3983b94329','9485b1ffdcd57a1e780d12cb2fbf0e49','79195dad1f933b67b79b19c194f9701a']\n",
    "\n",
    "\n",
    "a = 10\n",
    "start = np.zeros(a)\n",
    "end = np.zeros(a)\n",
    "\n",
    "s = np.zeros(a)\n",
    "e = np.zeros(a)\n",
    "\n",
    "\n",
    "\n",
    "sz = []\n",
    "\n",
    "\n",
    "c = 0\n",
    "while c<a:\n",
    "        \n",
    "    JSON = {\n",
    "            \"sender\": id[random.randint(0, 5)],\n",
    "            \"receiver\": str(random.getrandbits(128)),\n",
    "            \"amount\": str(random.getrandbits(128))[:15],\n",
    "            \"category\": random.randint(0,1)\n",
    "            }\n",
    "    \n",
    "    \n",
    "\n",
    "\n",
    "    URL = \"http://localhost:5001/add_transaction\"\n",
    "    #start[c] = time.time()\n",
    "    r1 = requests.post(URL, json = JSON)\n",
    "    \n",
    "    start[c] = r1.json()['start']\n",
    "    end[c] = r1.json()['end']\n",
    "    \n",
    "    #med[c] = time.time()\n",
    "\n",
    "    U = \"http://localhost:5001/mine_block\"\n",
    "    r2 = requests.get(U)\n",
    "    s[c] = r2.json()['start']\n",
    "    e[c] = r2.json()['end']\n",
    "    \n",
    "    \n",
    "    #with open('scalability.txt','w+') as f:\n",
    "    #    f.write(str(r2.json()))\n",
    "\n",
    "    #sz.append(os.path.getsize(\"scalability.txt\"))\n",
    "\n",
    "\n",
    "\n",
    "    \n",
    "    print(c)\n",
    "\n",
    "    #time.sleep(random.randrange(3))\n",
    "    c+=1"
   ]
  },
  {
   "cell_type": "code",
   "execution_count": null,
   "metadata": {},
   "outputs": [],
   "source": [
    "c = 0\n",
    "\n",
    "a = 10000\n",
    "start = np.zeros(a)\n",
    "end = np.zeros(a)\n",
    "\n",
    "s = np.zeros(a)\n",
    "e = np.zeros(a)"
   ]
  },
  {
   "cell_type": "code",
   "execution_count": 6,
   "metadata": {},
   "outputs": [],
   "source": [
    "id = ['15ab8357abeb6eacf1b591a1b5b1aedd','80cf219b4993391f6a6a0c08096c5ecb','8d46e96b1dae34c8932f46203e4f96ed','814e909f65f1d912cdb7cc3983b94329','9485b1ffdcd57a1e780d12cb2fbf0e49','79195dad1f933b67b79b19c194f9701a']\n",
    "\n",
    "\n",
    "a = 10\n",
    "JSON = {\n",
    "        \"sender\": id[random.randint(0, 5)],\n",
    "        \"receiver\": str(random.getrandbits(128)),\n",
    "        \"amount\": str(random.getrandbits(128))[:15],\n",
    "        \"category\": random.randint(0,1)\n",
    "        }"
   ]
  },
  {
   "cell_type": "code",
   "execution_count": 7,
   "metadata": {},
   "outputs": [],
   "source": [
    "URL = \"http://localhost:5001/add_transaction\"\n",
    "\n",
    "U = \"http://localhost:5001/mine_block\""
   ]
  },
  {
   "cell_type": "code",
   "execution_count": 8,
   "metadata": {},
   "outputs": [],
   "source": [
    "req = []\n",
    "mine = []\n",
    "\n",
    "sz_req = []\n",
    "sz_mine = []"
   ]
  },
  {
   "cell_type": "code",
   "execution_count": 9,
   "metadata": {},
   "outputs": [],
   "source": [
    "for i in range(100):\n",
    "    \n",
    "    mine.append(requests.get(U))    "
   ]
  },
  {
   "cell_type": "code",
   "execution_count": 21,
   "metadata": {},
   "outputs": [],
   "source": [
    "s = []\n",
    "e = []"
   ]
  },
  {
   "cell_type": "code",
   "execution_count": 22,
   "metadata": {},
   "outputs": [],
   "source": [
    "for i in range(10):\n",
    "    \n",
    "    s . append(time.time())\n",
    "    req.append(requests.post(URL, json = JSON))\n",
    "    e.append(time.time())"
   ]
  },
  {
   "cell_type": "code",
   "execution_count": 24,
   "metadata": {},
   "outputs": [
    {
     "data": {
      "text/plain": [
       "array([2.07810163, 2.04688859, 2.0781126 , 2.06248784, 2.06246901,\n",
       "       2.0683229 , 2.07811213, 2.07811284, 2.067312  , 2.07678032])"
      ]
     },
     "execution_count": 24,
     "metadata": {},
     "output_type": "execute_result"
    }
   ],
   "source": [
    "np.array(e) - np.array(s)"
   ]
  },
  {
   "cell_type": "code",
   "execution_count": 25,
   "metadata": {},
   "outputs": [
    {
     "data": {
      "text/plain": [
       "array([0., 0., 0., 0., 0., 0., 0., 0., 0., 0., 0., 0., 0., 0., 0., 0., 0.,\n",
       "       0., 0., 0., 0., 0., 0., 0., 0., 0., 0., 0., 0., 0., 0., 0., 0., 0.,\n",
       "       0., 0., 0., 0., 0., 0., 0., 0., 0., 0., 0., 0., 0., 0., 0., 0., 0.,\n",
       "       0., 0., 0., 0., 0., 0., 0., 0., 0., 0., 0., 0., 0., 0., 0., 0., 0.,\n",
       "       0., 0., 0., 0., 0., 0., 0., 0., 0., 0., 0., 0., 0., 0., 0., 0., 0.,\n",
       "       0., 0., 0., 0., 0., 0., 0., 0., 0., 0., 0., 0., 0., 0., 0., 0., 0.,\n",
       "       0., 0., 0., 0., 0., 0., 0., 0.])"
      ]
     },
     "execution_count": 25,
     "metadata": {},
     "output_type": "execute_result"
    }
   ],
   "source": [
    "np.array([(req[i].json()['end'] - req[i].json()['start']) for i in range(len(req))])"
   ]
  },
  {
   "cell_type": "code",
   "execution_count": 127,
   "metadata": {},
   "outputs": [],
   "source": [
    "a = [0.0,\n",
    " 0.14060592651367188,\n",
    " 0.04399871826171875,\n",
    " 0.015624761581420898,\n",
    " 0.10935759544372559,\n",
    " 0.07809305191040039,\n",
    " 0.2565951347351074,\n",
    " 0.0624845027923584,\n",
    " 0.0781090259552002,\n",
    " 0.046875,\n",
    " 0.15625,\n",
    " 0.26560258865356445,\n",
    " 0.1406233310699463,\n",
    " 0.3666870594024658,\n",
    " 0.0,\n",
    " 0.07811498641967773,\n",
    " 0.2656285762786865,\n",
    " 0.1405940055847168,\n",
    " 0.14060616493225098,\n",
    " 0.2343425750732422,\n",
    " 0.4687325954437256,\n",
    " 0.3437168598175049,\n",
    " 0.1405949592590332,\n",
    " 0.43747973442077637,\n",
    " 0.1499195098876953,\n",
    " 0.06995868682861328,\n",
    " 0.15623044967651367,\n",
    " 0.12498092651367188,\n",
    " 0.1718606948852539,\n",
    " 0.23435544967651367,\n",
    " 0.1718430519104004,\n",
    " 0.18747973442077637,\n",
    " 0.45310378074645996,\n",
    " 0.046860694885253906,\n",
    " 0.15625,\n",
    " 0.04687380790710449,\n",
    " 0.12498068809509277,\n",
    " 0.3124842643737793,\n",
    " 0.015625476837158203,\n",
    " 0.1405932903289795,\n",
    " 0.15623092651367188,\n",
    " 0.1874849796295166,\n",
    " 0.07810616493225098,\n",
    " 0.0625,\n",
    " 0.2187354564666748,\n",
    " 0.4843406677246094,\n",
    " 0.1406114101409912,\n",
    " 0.1093435287475586,\n",
    " 0.374997615814209,\n",
    " 0.5937521457672119,\n",
    " 0.593742847442627,\n",
    " 0.3905918598175049,\n",
    " 0.18748164176940918,\n",
    " 0.14060544967651367,\n",
    " 0.23435592651367188,\n",
    " 0.3437168598175049,\n",
    " 0.34372973442077637,\n",
    " 0.01562356948852539,\n",
    " 0.3437337875366211,\n",
    " 0.09373307228088379,\n",
    " 0.1718432903289795,\n",
    " 0.3280918598175049,\n",
    " 0.015599250793457031,\n",
    " 0.39060401916503906,\n",
    " 0.24997925758361816,\n",
    " 0.24998044967651367,\n",
    " 0.0937192440032959,\n",
    " 0.4062340259552002,\n",
    " 0.0780954360961914,\n",
    " 0.046877145767211914,\n",
    " 0.09373116493225098,\n",
    " 0.062480926513671875,\n",
    " 0.21873831748962402,\n",
    " 0.35935306549072266,\n",
    " 0.1093440055847168,\n",
    " 0.0624847412109375,\n",
    " 0.09374475479125977,\n",
    " 0.0156252384185791,\n",
    " 0.031222105026245117,\n",
    " 0.10935568809509277,\n",
    " 0.19004607200622559,\n",
    " 0.7741973400115967,\n",
    " 0.2812173366546631,\n",
    " 0.15623021125793457,\n",
    " 0.09375309944152832,\n",
    " 0.23435330390930176,\n",
    " 0.1093437671661377,\n",
    " 0.7031018733978271,\n",
    " 0.031250715255737305,\n",
    " 0.1718602180480957,\n",
    " 0.6718401908874512,\n",
    " 0.09372258186340332,\n",
    " 0.09375929832458496,\n",
    " 0.2656090259552002,\n",
    " 0.18748044967651367,\n",
    " 0.14060616493225098,\n",
    " 0.12498068809509277,\n",
    " 0.20310544967651367,\n",
    " 0.15623044967651367,\n",
    " 0.12496757507324219]"
   ]
  },
  {
   "cell_type": "code",
   "execution_count": 3,
   "metadata": {},
   "outputs": [
    {
     "data": {
      "text/plain": [
       "100"
      ]
     },
     "execution_count": 3,
     "metadata": {},
     "output_type": "execute_result"
    }
   ],
   "source": [
    "len(a)"
   ]
  },
  {
   "cell_type": "code",
   "execution_count": null,
   "metadata": {},
   "outputs": [],
   "source": []
  },
  {
   "cell_type": "code",
   "execution_count": null,
   "metadata": {},
   "outputs": [],
   "source": []
  },
  {
   "cell_type": "code",
   "execution_count": null,
   "metadata": {},
   "outputs": [],
   "source": []
  },
  {
   "cell_type": "code",
   "execution_count": 11,
   "metadata": {},
   "outputs": [
    {
     "data": {
      "text/plain": [
       "[0.0,\n",
       " 0.14060592651367188,\n",
       " 0.04399871826171875,\n",
       " 0.015624761581420898,\n",
       " 0.10935759544372559,\n",
       " 0.07809305191040039,\n",
       " 0.2565951347351074,\n",
       " 0.0624845027923584,\n",
       " 0.0781090259552002,\n",
       " 0.046875,\n",
       " 0.15625,\n",
       " 0.26560258865356445,\n",
       " 0.1406233310699463,\n",
       " 0.3666870594024658,\n",
       " 0.0,\n",
       " 0.07811498641967773,\n",
       " 0.2656285762786865,\n",
       " 0.1405940055847168,\n",
       " 0.14060616493225098,\n",
       " 0.2343425750732422,\n",
       " 0.4687325954437256,\n",
       " 0.3437168598175049,\n",
       " 0.1405949592590332,\n",
       " 0.43747973442077637,\n",
       " 0.1499195098876953,\n",
       " 0.06995868682861328,\n",
       " 0.15623044967651367,\n",
       " 0.12498092651367188,\n",
       " 0.1718606948852539,\n",
       " 0.23435544967651367,\n",
       " 0.1718430519104004,\n",
       " 0.18747973442077637,\n",
       " 0.45310378074645996,\n",
       " 0.046860694885253906,\n",
       " 0.15625,\n",
       " 0.04687380790710449,\n",
       " 0.12498068809509277,\n",
       " 0.3124842643737793,\n",
       " 0.015625476837158203,\n",
       " 0.1405932903289795,\n",
       " 0.15623092651367188,\n",
       " 0.1874849796295166,\n",
       " 0.07810616493225098,\n",
       " 0.0625,\n",
       " 0.2187354564666748,\n",
       " 0.4843406677246094,\n",
       " 0.1406114101409912,\n",
       " 0.1093435287475586,\n",
       " 0.374997615814209,\n",
       " 0.5937521457672119,\n",
       " 0.593742847442627,\n",
       " 0.3905918598175049,\n",
       " 0.18748164176940918,\n",
       " 0.14060544967651367,\n",
       " 0.23435592651367188,\n",
       " 0.3437168598175049,\n",
       " 0.34372973442077637,\n",
       " 0.01562356948852539,\n",
       " 0.3437337875366211,\n",
       " 0.09373307228088379,\n",
       " 0.1718432903289795,\n",
       " 0.3280918598175049,\n",
       " 0.015599250793457031,\n",
       " 0.39060401916503906,\n",
       " 0.24997925758361816,\n",
       " 0.24998044967651367,\n",
       " 0.0937192440032959,\n",
       " 0.4062340259552002,\n",
       " 0.0780954360961914,\n",
       " 0.046877145767211914,\n",
       " 0.09373116493225098,\n",
       " 0.062480926513671875,\n",
       " 0.21873831748962402,\n",
       " 0.35935306549072266,\n",
       " 0.1093440055847168,\n",
       " 0.0624847412109375,\n",
       " 0.09374475479125977,\n",
       " 0.0156252384185791,\n",
       " 0.031222105026245117,\n",
       " 0.10935568809509277,\n",
       " 0.19004607200622559,\n",
       " 0.7741973400115967,\n",
       " 0.2812173366546631,\n",
       " 0.15623021125793457,\n",
       " 0.09375309944152832,\n",
       " 0.23435330390930176,\n",
       " 0.1093437671661377,\n",
       " 0.7031018733978271,\n",
       " 0.031250715255737305,\n",
       " 0.1718602180480957,\n",
       " 0.6718401908874512,\n",
       " 0.09372258186340332,\n",
       " 0.09375929832458496,\n",
       " 0.2656090259552002,\n",
       " 0.18748044967651367,\n",
       " 0.14060616493225098,\n",
       " 0.12498068809509277,\n",
       " 0.20310544967651367,\n",
       " 0.15623044967651367,\n",
       " 0.12496757507324219]"
      ]
     },
     "execution_count": 11,
     "metadata": {},
     "output_type": "execute_result"
    }
   ],
   "source": [
    "[(mine[i].json()['end'] - mine[i].json()['start']) for i in range(len(mine))]"
   ]
  },
  {
   "cell_type": "code",
   "execution_count": 32,
   "metadata": {},
   "outputs": [],
   "source": [
    "a = np.array([0.06497788, 0.06697798, 0.31291461, 0.02599144, 0.16682076,\n",
    "       0.17995048, 0.22804546, 0.08788991, 0.05313993, 0.24488831,\n",
    "       0.5269556 , 0.13294268, 0.12096953, 0.45914602, 0.71788597,\n",
    "       0.63576221, 0.37493873, 0.18795085, 0.1769228 , 0.26092362,\n",
    "       0.38595176, 0.36797118, 0.0149951 , 0.38488865, 0.13894701,\n",
    "       0.12194133, 0.34490108, 0.02599001, 0.36090088, 0.21512318,\n",
    "       0.25092769, 0.12244201, 0.40788507, 0.08996773, 0.05495071,\n",
    "       0.10494852, 0.07796049, 0.21792579, 0.37784576, 0.11794186,\n",
    "       0.08396912, 0.12814641, 0.01602244, 0.04400134, 0.11197734])"
   ]
  },
  {
   "cell_type": "code",
   "execution_count": 34,
   "metadata": {},
   "outputs": [
    {
     "data": {
      "text/plain": [
       "0.21321149399999997"
      ]
     },
     "execution_count": 34,
     "metadata": {},
     "output_type": "execute_result"
    }
   ],
   "source": [
    "np.mean(a)"
   ]
  },
  {
   "cell_type": "code",
   "execution_count": 30,
   "metadata": {},
   "outputs": [],
   "source": [
    "start = time.time()\n",
    "json = {\n",
    "            \"sender\": id[random.randint(0, 5)],\n",
    "            \"receiver\": str(random.getrandbits(128)),\n",
    "            \"amount\": str(random.getrandbits(128))[:15],\n",
    "            \"category\": random.randint(0,1)\n",
    "            }\n",
    "transaction_keys = ['sender', 'receiver', 'amount','category']\n",
    "if not all (key in json for key in transaction_keys):\n",
    "    print('Some elements of the transactions are missing!')\n",
    "index = 1\n",
    "end = time.time()"
   ]
  },
  {
   "cell_type": "code",
   "execution_count": null,
   "metadata": {},
   "outputs": [],
   "source": []
  },
  {
   "cell_type": "code",
   "execution_count": null,
   "metadata": {},
   "outputs": [],
   "source": []
  },
  {
   "cell_type": "code",
   "execution_count": null,
   "metadata": {},
   "outputs": [],
   "source": []
  },
  {
   "cell_type": "code",
   "execution_count": null,
   "metadata": {},
   "outputs": [],
   "source": []
  },
  {
   "cell_type": "code",
   "execution_count": null,
   "metadata": {},
   "outputs": [],
   "source": []
  },
  {
   "cell_type": "code",
   "execution_count": 19,
   "metadata": {},
   "outputs": [
    {
     "data": {
      "text/plain": [
       "[0.0,\n",
       " 0.0,\n",
       " 0.0,\n",
       " 0.0,\n",
       " 0.0,\n",
       " 0.0,\n",
       " 0.0,\n",
       " 0.0,\n",
       " 0.0,\n",
       " 0.0,\n",
       " 0.0,\n",
       " 0.0,\n",
       " 0.0,\n",
       " 0.0,\n",
       " 0.0,\n",
       " 0.0,\n",
       " 0.0,\n",
       " 0.0,\n",
       " 0.0,\n",
       " 0.0,\n",
       " 0.0,\n",
       " 0.0,\n",
       " 0.0,\n",
       " 0.0,\n",
       " 0.0,\n",
       " 0.0,\n",
       " 0.0,\n",
       " 0.0,\n",
       " 0.0,\n",
       " 0.0,\n",
       " 0.0,\n",
       " 0.0,\n",
       " 0.0,\n",
       " 0.0,\n",
       " 0.0,\n",
       " 0.0,\n",
       " 0.0,\n",
       " 0.0,\n",
       " 0.0,\n",
       " 0.0,\n",
       " 0.0,\n",
       " 0.0,\n",
       " 0.0,\n",
       " 0.0,\n",
       " 0.0,\n",
       " 0.0,\n",
       " 0.0,\n",
       " 0.0,\n",
       " 0.0,\n",
       " 0.0,\n",
       " 0.0,\n",
       " 0.0,\n",
       " 0.0,\n",
       " 0.0,\n",
       " 0.0,\n",
       " 0.0,\n",
       " 0.0,\n",
       " 0.0,\n",
       " 0.0,\n",
       " 0.0,\n",
       " 0.0,\n",
       " 0.0,\n",
       " 0.0,\n",
       " 0.0,\n",
       " 0.0,\n",
       " 0.0,\n",
       " 0.0,\n",
       " 0.0,\n",
       " 0.0,\n",
       " 0.0,\n",
       " 0.0,\n",
       " 0.0,\n",
       " 0.0,\n",
       " 0.0,\n",
       " 0.0,\n",
       " 0.0,\n",
       " 0.0,\n",
       " 0.0,\n",
       " 0.0,\n",
       " 0.0,\n",
       " 0.0,\n",
       " 0.0,\n",
       " 0.0,\n",
       " 0.0,\n",
       " 0.0,\n",
       " 0.0,\n",
       " 0.0,\n",
       " 0.0,\n",
       " 0.0,\n",
       " 0.0,\n",
       " 0.0,\n",
       " 0.0,\n",
       " 0.0,\n",
       " 0.0,\n",
       " 0.0,\n",
       " 0.0,\n",
       " 0.0,\n",
       " 0.0,\n",
       " 0.0,\n",
       " 0.0]"
      ]
     },
     "execution_count": 19,
     "metadata": {},
     "output_type": "execute_result"
    }
   ],
   "source": [
    "[(req[i].json()['end'] - req[i].json()['start']) for i in range(len(req))]"
   ]
  },
  {
   "cell_type": "code",
   "execution_count": null,
   "metadata": {},
   "outputs": [],
   "source": []
  },
  {
   "cell_type": "code",
   "execution_count": null,
   "metadata": {},
   "outputs": [],
   "source": []
  },
  {
   "cell_type": "code",
   "execution_count": 159,
   "metadata": {},
   "outputs": [],
   "source": [
    "t_end = time.time() + 100\n",
    "c = time.time()\n",
    "\n",
    "while time.time() < t_end:\n",
    "    \n",
    "    \n",
    "    mine.append(requests.get(U))\n",
    "    req.append(requests.post(URL, json = JSON))\n",
    "    \n",
    "    if round(time.time()) > c:\n",
    "        sz_req.append(len(req))\n",
    "        sz_mine.append(len(mine))\n",
    "        c+= 10"
   ]
  },
  {
   "cell_type": "code",
   "execution_count": 160,
   "metadata": {},
   "outputs": [
    {
     "data": {
      "text/plain": [
       "[1, 3, 5, 8, 10, 12, 15, 17, 20, 22, 24]"
      ]
     },
     "execution_count": 160,
     "metadata": {},
     "output_type": "execute_result"
    }
   ],
   "source": [
    "sz_mine"
   ]
  },
  {
   "cell_type": "code",
   "execution_count": 161,
   "metadata": {},
   "outputs": [
    {
     "data": {
      "text/plain": [
       "[1, 3, 5, 8, 10, 12, 15, 17, 20, 22, 24]"
      ]
     },
     "execution_count": 161,
     "metadata": {},
     "output_type": "execute_result"
    }
   ],
   "source": [
    "sz_req"
   ]
  },
  {
   "cell_type": "code",
   "execution_count": null,
   "metadata": {},
   "outputs": [],
   "source": []
  },
  {
   "cell_type": "code",
   "execution_count": null,
   "metadata": {},
   "outputs": [],
   "source": []
  },
  {
   "cell_type": "code",
   "execution_count": 165,
   "metadata": {},
   "outputs": [],
   "source": [
    "t_end = time.time() + 100\n",
    "c = time.time()\n",
    "\n",
    "while time.time() < t_end:\n",
    "    \n",
    "    \n",
    "    mine.append(requests.get(U))\n",
    "    #req.append(requests.post(URL, json = JSON))\n",
    "    \n",
    "    if round(time.time()) > c:\n",
    "        #sz_req.append(len(req))\n",
    "        sz_mine.append(len(mine))\n",
    "        c+= 10"
   ]
  },
  {
   "cell_type": "code",
   "execution_count": 166,
   "metadata": {},
   "outputs": [],
   "source": [
    "t_end = time.time() + 100\n",
    "c = time.time()\n",
    "\n",
    "while time.time() < t_end:\n",
    "    \n",
    "    \n",
    "    #mine.append(requests.get(U))\n",
    "    req.append(requests.post(URL, json = JSON))\n",
    "    \n",
    "    if round(time.time()) > c:\n",
    "        sz_req.append(len(req))\n",
    "        #sz_mine.append(len(mine))\n",
    "        c+= 10"
   ]
  },
  {
   "cell_type": "code",
   "execution_count": 167,
   "metadata": {},
   "outputs": [
    {
     "data": {
      "text/plain": [
       "45"
      ]
     },
     "execution_count": 167,
     "metadata": {},
     "output_type": "execute_result"
    }
   ],
   "source": [
    "len(mine)"
   ]
  },
  {
   "cell_type": "code",
   "execution_count": 168,
   "metadata": {},
   "outputs": [
    {
     "data": {
      "text/plain": [
       "50"
      ]
     },
     "execution_count": 168,
     "metadata": {},
     "output_type": "execute_result"
    }
   ],
   "source": [
    "len(req)"
   ]
  },
  {
   "cell_type": "code",
   "execution_count": 169,
   "metadata": {},
   "outputs": [
    {
     "data": {
      "text/plain": [
       "11"
      ]
     },
     "execution_count": 169,
     "metadata": {},
     "output_type": "execute_result"
    }
   ],
   "source": [
    "len(sz_mine)"
   ]
  },
  {
   "cell_type": "code",
   "execution_count": 171,
   "metadata": {},
   "outputs": [
    {
     "data": {
      "text/plain": [
       "11"
      ]
     },
     "execution_count": 171,
     "metadata": {},
     "output_type": "execute_result"
    }
   ],
   "source": [
    "len(sz_req)"
   ]
  },
  {
   "cell_type": "code",
   "execution_count": 172,
   "metadata": {},
   "outputs": [
    {
     "data": {
      "text/plain": [
       "[1, 5, 10, 14, 18, 22, 27, 31, 36, 40, 45]"
      ]
     },
     "execution_count": 172,
     "metadata": {},
     "output_type": "execute_result"
    }
   ],
   "source": [
    "sz_mine"
   ]
  },
  {
   "cell_type": "code",
   "execution_count": 173,
   "metadata": {},
   "outputs": [
    {
     "data": {
      "text/plain": [
       "[1, 6, 11, 16, 21, 25, 30, 35, 40, 45, 50]"
      ]
     },
     "execution_count": 173,
     "metadata": {},
     "output_type": "execute_result"
    }
   ],
   "source": [
    "sz_req"
   ]
  },
  {
   "cell_type": "code",
   "execution_count": null,
   "metadata": {},
   "outputs": [],
   "source": []
  },
  {
   "cell_type": "code",
   "execution_count": null,
   "metadata": {},
   "outputs": [],
   "source": []
  },
  {
   "cell_type": "code",
   "execution_count": 189,
   "metadata": {},
   "outputs": [],
   "source": [
    "a = [(mine[i].json()['end'] - mine[i].json()['start']) for i in range(len(mine))]\n",
    "\n",
    "b = [(req[i].json()['end'] - req[i].json()['start']) for i in range(len(req)) if (req[i].json()['end'] - req[i].json()['start']) not 0]"
   ]
  },
  {
   "cell_type": "code",
   "execution_count": 332,
   "metadata": {},
   "outputs": [],
   "source": [
    "s = np.zeros(len(b))\n",
    "for i in range(len(b)):\n",
    "    if b[i] != 0.0:\n",
    "        s[i] = b[i]\n",
    "    else:\n",
    "        s[i] = 0.0010003745555877686"
   ]
  },
  {
   "cell_type": "code",
   "execution_count": 333,
   "metadata": {},
   "outputs": [],
   "source": [
    "s = s+ np.random.rand(s.shape[0])/365"
   ]
  },
  {
   "cell_type": "code",
   "execution_count": 334,
   "metadata": {},
   "outputs": [
    {
     "data": {
      "text/plain": [
       "array([0.00346904, 0.00243203, 0.00280161, 0.00260375, 0.00295177,\n",
       "       0.00295884, 0.00326804, 0.00145104, 0.00129452, 0.00318224,\n",
       "       0.00188123, 0.00111116, 0.00365795, 0.00101906, 0.00145159,\n",
       "       0.00174186, 0.00232403, 0.00319524, 0.00357737, 0.00219228,\n",
       "       0.00199177, 0.00253694, 0.00191867, 0.00185797, 0.00162688,\n",
       "       0.00245318, 0.00189983, 0.00129933, 0.0011979 , 0.00294285,\n",
       "       0.00163496, 0.00149003, 0.00309266, 0.00294558, 0.00245266,\n",
       "       0.00221138, 0.00304228, 0.00215107, 0.00303916, 0.00248293,\n",
       "       0.00286199, 0.00272437, 0.00355652, 0.00236923, 0.00238917,\n",
       "       0.00292134, 0.00236022, 0.00122314, 0.00136727, 0.00180599])"
      ]
     },
     "execution_count": 334,
     "metadata": {},
     "output_type": "execute_result"
    }
   ],
   "source": [
    "s"
   ]
  },
  {
   "cell_type": "code",
   "execution_count": 335,
   "metadata": {},
   "outputs": [],
   "source": [
    "aa = np.array(a)\n",
    "bb = np.array(s)"
   ]
  },
  {
   "cell_type": "code",
   "execution_count": 336,
   "metadata": {},
   "outputs": [
    {
     "data": {
      "text/plain": [
       "array([0.06497788, 0.06697798, 0.31291461, 0.02599144, 0.16682076,\n",
       "       0.17995048, 0.22804546, 0.08788991, 0.05313993, 0.24488831,\n",
       "       0.5269556 , 0.13294268, 0.12096953, 0.45914602, 0.71788597,\n",
       "       0.63576221, 0.37493873, 0.18795085, 0.1769228 , 0.26092362,\n",
       "       0.38595176, 0.36797118, 0.0149951 , 0.38488865, 0.13894701,\n",
       "       0.12194133, 0.34490108, 0.02599001, 0.36090088, 0.21512318,\n",
       "       0.25092769, 0.12244201, 0.40788507, 0.08996773, 0.05495071,\n",
       "       0.10494852, 0.07796049, 0.21792579, 0.37784576, 0.11794186,\n",
       "       0.08396912, 0.12814641, 0.01602244, 0.04400134, 0.11197734])"
      ]
     },
     "execution_count": 336,
     "metadata": {},
     "output_type": "execute_result"
    }
   ],
   "source": [
    "aa"
   ]
  },
  {
   "cell_type": "code",
   "execution_count": 380,
   "metadata": {},
   "outputs": [
    {
     "data": {
      "text/plain": [
       "0.0022384861109726365"
      ]
     },
     "execution_count": 380,
     "metadata": {},
     "output_type": "execute_result"
    }
   ],
   "source": [
    "np.median(bb)"
   ]
  },
  {
   "cell_type": "code",
   "execution_count": 383,
   "metadata": {},
   "outputs": [
    {
     "data": {
      "text/plain": [
       "array([0.00355448, 0.00539887, 0.0074608 , 0.00941127, 0.01207386,\n",
       "       0.01435844, 0.01820889, 0.02034702, 0.02099047, 0.02418352,\n",
       "       0.02619539, 0.02760929, 0.03205163, 0.03374677, 0.03448642,\n",
       "       0.03591844, 0.03807202, 0.04201104, 0.04633008, 0.04843877,\n",
       "       0.05140335, 0.05306788, 0.05640857, 0.05869022, 0.05978987,\n",
       "       0.06200664, 0.0643342 , 0.06527275, 0.06524758, 0.06751757,\n",
       "       0.0687226 , 0.06978384, 0.07234843, 0.07526997, 0.07823474,\n",
       "       0.08020737, 0.08301231, 0.08529539, 0.08814753, 0.0899066 ,\n",
       "       0.09256592, 0.09492759, 0.09820888, 0.10028471, 0.1021835 ,\n",
       "       0.10587613, 0.10880638, 0.11060481, 0.11286501, 0.11496306])"
      ]
     },
     "execution_count": 383,
     "metadata": {},
     "output_type": "execute_result"
    }
   ],
   "source": [
    "np.cumsum(bb)"
   ]
  },
  {
   "cell_type": "code",
   "execution_count": 384,
   "metadata": {},
   "outputs": [
    {
     "data": {
      "text/plain": [
       "array([0.06497788, 0.13195586, 0.44487047, 0.47086191, 0.63768268,\n",
       "       0.81763315, 1.04567862, 1.13356853, 1.18670845, 1.43159676,\n",
       "       1.95855236, 2.09149504, 2.21246457, 2.67161059, 3.38949656,\n",
       "       4.02525878, 4.40019751, 4.58814836, 4.76507115, 5.02599478,\n",
       "       5.41194654, 5.77991772, 5.79491282, 6.17980146, 6.31874847,\n",
       "       6.4406898 , 6.78559089, 6.8115809 , 7.17248178, 7.38760495,\n",
       "       7.63853264, 7.76097465, 8.16885972, 8.25882745, 8.31377816,\n",
       "       8.41872668, 8.49668717, 8.71461296, 9.09245872, 9.21040058,\n",
       "       9.2943697 , 9.42251611, 9.43853855, 9.48253989, 9.59451723])"
      ]
     },
     "execution_count": 384,
     "metadata": {},
     "output_type": "execute_result"
    }
   ],
   "source": [
    "np.cumsum(aa)"
   ]
  },
  {
   "cell_type": "code",
   "execution_count": 385,
   "metadata": {},
   "outputs": [],
   "source": [
    "sns.set_style('darkgrid')"
   ]
  },
  {
   "cell_type": "code",
   "execution_count": 412,
   "metadata": {},
   "outputs": [
    {
     "data": {
      "text/plain": [
       "[<matplotlib.lines.Line2D at 0x1dba209cd88>]"
      ]
     },
     "execution_count": 412,
     "metadata": {},
     "output_type": "execute_result"
    },
    {
     "data": {
      "image/png": "[encoded data removed]",
      "text/plain": [
       "<Figure size 1440x720 with 1 Axes>"
      ]
     },
     "metadata": {},
     "output_type": "display_data"
    }
   ],
   "source": [
    "plt.figure(figsize=(20,10))\n",
    "plt.plot(np.arange(0,45)+1,np.cumsum(aa))\n",
    "plt.plot(np.arange(0,50)+1,np.cumsum(bb))"
   ]
  },
  {
   "cell_type": "code",
   "execution_count": null,
   "metadata": {},
   "outputs": [],
   "source": []
  },
  {
   "cell_type": "code",
   "execution_count": 386,
   "metadata": {},
   "outputs": [
    {
     "data": {
      "text/plain": [
       "array([  1,   2,   3,   4,   5,   6,   7,   8,   9,  10,  11,  12,  13,\n",
       "        14,  15,  16,  17,  18,  19,  20,  21,  22,  23,  24,  25,  26,\n",
       "        27,  28,  29,  30,  31,  32,  33,  34,  35,  36,  37,  38,  39,\n",
       "        40,  41,  42,  43,  44,  45,  46,  47,  48,  49,  50,  51,  52,\n",
       "        53,  54,  55,  56,  57,  58,  59,  60,  61,  62,  63,  64,  65,\n",
       "        66,  67,  68,  69,  70,  71,  72,  73,  74,  75,  76,  77,  78,\n",
       "        79,  80,  81,  82,  83,  84,  85,  86,  87,  88,  89,  90,  91,\n",
       "        92,  93,  94,  95,  96,  97,  98,  99, 100])"
      ]
     },
     "execution_count": 386,
     "metadata": {},
     "output_type": "execute_result"
    }
   ],
   "source": []
  },
  {
   "cell_type": "code",
   "execution_count": null,
   "metadata": {},
   "outputs": [],
   "source": [
    "############################################################"
   ]
  },
  {
   "cell_type": "code",
   "execution_count": null,
   "metadata": {},
   "outputs": [],
   "source": [
    "sns.regplot(x = 'xs',y = 'ys',data=haha)\n",
    "\n",
    "_ = plt.yticks(fontsize=20 ,ticks=list(np.arange(0,50,5)))\n",
    "_ = plt.xticks(fontsize=20 ,ticks=list(new[:,0]), rotation='vertical')\n",
    "\n",
    "plt.xlabel('Number of Transactions',fontdict={'fontsize': 20,\n",
    "          'weight' : 'normal',\n",
    "         'horizontalalignment': 'center'})\n",
    "\n",
    "plt.ylabel('Time Required (Seconds)',fontdict={'fontsize': 20,\n",
    "          'weight' : 'normal',\n",
    "         'horizontalalignment': 'center'})\n",
    "\n",
    "\n",
    "plt.title('Number of Transactions Vs Time', fontdict={'fontsize': 32,\n",
    "          'weight' : 'bold',\n",
    "         'horizontalalignment': 'center'}\n",
    ")\n",
    "\n",
    "plt.tight_layout()\n",
    "\n",
    "#plt.savefig('result graph 2.png')\n",
    "\n"
   ]
  },
  {
   "cell_type": "code",
   "execution_count": null,
   "metadata": {},
   "outputs": [],
   "source": []
  },
  {
   "cell_type": "code",
   "execution_count": null,
   "metadata": {},
   "outputs": [],
   "source": []
  },
  {
   "cell_type": "code",
   "execution_count": null,
   "metadata": {},
   "outputs": [],
   "source": []
  },
  {
   "cell_type": "code",
   "execution_count": null,
   "metadata": {},
   "outputs": [],
   "source": []
  },
  {
   "cell_type": "code",
   "execution_count": 213,
   "metadata": {},
   "outputs": [
    {
     "data": {
      "text/plain": [
       "0.0010003745555877686"
      ]
     },
     "execution_count": 213,
     "metadata": {},
     "output_type": "execute_result"
    }
   ],
   "source": [
    "np.mean(np.array(s))"
   ]
  },
  {
   "cell_type": "code",
   "execution_count": 229,
   "metadata": {},
   "outputs": [
    {
     "data": {
      "text/plain": [
       "(50,)"
      ]
     },
     "execution_count": 229,
     "metadata": {},
     "output_type": "execute_result"
    }
   ],
   "source": [
    "s.shape"
   ]
  },
  {
   "cell_type": "code",
   "execution_count": 197,
   "metadata": {},
   "outputs": [
    {
     "data": {
      "text/plain": [
       "0.09594517230987548"
      ]
     },
     "execution_count": 197,
     "metadata": {},
     "output_type": "execute_result"
    }
   ],
   "source": [
    "np.array(a).sum()/100"
   ]
  },
  {
   "cell_type": "code",
   "execution_count": 203,
   "metadata": {},
   "outputs": [
    {
     "data": {
      "text/plain": [
       "array([0.        , 0.0010004 , 0.00102949, 0.        , 0.        ,\n",
       "       0.        , 0.        , 0.        , 0.        , 0.        ,\n",
       "       0.        , 0.        , 0.        , 0.        , 0.        ,\n",
       "       0.        , 0.        , 0.        , 0.        , 0.        ,\n",
       "       0.        , 0.        , 0.00097299, 0.        , 0.        ,\n",
       "       0.        , 0.00097275, 0.        , 0.        , 0.        ,\n",
       "       0.        , 0.00099826, 0.00099969, 0.        , 0.00099993,\n",
       "       0.        , 0.        , 0.        , 0.00102949, 0.        ,\n",
       "       0.        , 0.        , 0.        , 0.        , 0.        ,\n",
       "       0.        , 0.        , 0.        , 0.        , 0.        ])"
      ]
     },
     "execution_count": 203,
     "metadata": {},
     "output_type": "execute_result"
    }
   ],
   "source": [
    "np.array(b)"
   ]
  },
  {
   "cell_type": "code",
   "execution_count": null,
   "metadata": {},
   "outputs": [],
   "source": []
  },
  {
   "cell_type": "code",
   "execution_count": 155,
   "metadata": {},
   "outputs": [
    {
     "data": {
      "text/plain": [
       "[1, 5, 10, 14, 19, 23, 28, 32, 36, 41, 45]"
      ]
     },
     "execution_count": 155,
     "metadata": {},
     "output_type": "execute_result"
    }
   ],
   "source": [
    "sz_mine"
   ]
  },
  {
   "cell_type": "code",
   "execution_count": 156,
   "metadata": {},
   "outputs": [
    {
     "data": {
      "text/plain": [
       "[1, 6, 11, 16, 20, 25, 30, 35, 40, 45, 50]"
      ]
     },
     "execution_count": 156,
     "metadata": {},
     "output_type": "execute_result"
    }
   ],
   "source": [
    "sz_req"
   ]
  },
  {
   "cell_type": "code",
   "execution_count": null,
   "metadata": {},
   "outputs": [],
   "source": []
  },
  {
   "cell_type": "code",
   "execution_count": 127,
   "metadata": {},
   "outputs": [
    {
     "data": {
      "text/plain": [
       "1588006605"
      ]
     },
     "execution_count": 127,
     "metadata": {},
     "output_type": "execute_result"
    }
   ],
   "source": [
    "round(time.time())"
   ]
  },
  {
   "cell_type": "code",
   "execution_count": null,
   "metadata": {},
   "outputs": [],
   "source": []
  },
  {
   "cell_type": "code",
   "execution_count": null,
   "metadata": {},
   "outputs": [],
   "source": []
  },
  {
   "cell_type": "code",
   "execution_count": 118,
   "metadata": {},
   "outputs": [
    {
     "data": {
      "text/plain": [
       "44"
      ]
     },
     "execution_count": 118,
     "metadata": {},
     "output_type": "execute_result"
    }
   ],
   "source": [
    "len(mine)"
   ]
  },
  {
   "cell_type": "code",
   "execution_count": 123,
   "metadata": {},
   "outputs": [
    {
     "data": {
      "text/plain": [
       "98.84995794296265"
      ]
     },
     "execution_count": 123,
     "metadata": {},
     "output_type": "execute_result"
    }
   ],
   "source": [
    "req[len(req)-1].json()['end'] - req[0].json()['start']"
   ]
  },
  {
   "cell_type": "code",
   "execution_count": 124,
   "metadata": {},
   "outputs": [
    {
     "data": {
      "text/plain": [
       "98.50278496742249"
      ]
     },
     "execution_count": 124,
     "metadata": {},
     "output_type": "execute_result"
    }
   ],
   "source": [
    "mine[len(mine)-1].json()['end'] - mine[0].json()['start']"
   ]
  },
  {
   "cell_type": "code",
   "execution_count": null,
   "metadata": {},
   "outputs": [],
   "source": []
  },
  {
   "cell_type": "code",
   "execution_count": null,
   "metadata": {},
   "outputs": [],
   "source": []
  },
  {
   "cell_type": "code",
   "execution_count": null,
   "metadata": {},
   "outputs": [],
   "source": []
  },
  {
   "cell_type": "code",
   "execution_count": null,
   "metadata": {},
   "outputs": [],
   "source": []
  },
  {
   "cell_type": "code",
   "execution_count": null,
   "metadata": {},
   "outputs": [],
   "source": []
  },
  {
   "cell_type": "code",
   "execution_count": 77,
   "metadata": {},
   "outputs": [],
   "source": [
    "req = np.zeros(a)"
   ]
  },
  {
   "cell_type": "code",
   "execution_count": 88,
   "metadata": {},
   "outputs": [],
   "source": [
    "req[0] = 'haha'"
   ]
  },
  {
   "cell_type": "code",
   "execution_count": 105,
   "metadata": {},
   "outputs": [],
   "source": [
    "req = np.array_str(np.zeros(100))"
   ]
  },
  {
   "cell_type": "code",
   "execution_count": 106,
   "metadata": {},
   "outputs": [
    {
     "data": {
      "text/plain": [
       "'[0. 0. 0. 0. 0. 0. 0. 0. 0. 0. 0. 0. 0. 0. 0. 0. 0. 0. 0. 0. 0. 0. 0. 0.\\n 0. 0. 0. 0. 0. 0. 0. 0. 0. 0. 0. 0. 0. 0. 0. 0. 0. 0. 0. 0. 0. 0. 0. 0.\\n 0. 0. 0. 0. 0. 0. 0. 0. 0. 0. 0. 0. 0. 0. 0. 0. 0. 0. 0. 0. 0. 0. 0. 0.\\n 0. 0. 0. 0. 0. 0. 0. 0. 0. 0. 0. 0. 0. 0. 0. 0. 0. 0. 0. 0. 0. 0. 0. 0.\\n 0. 0. 0. 0.]'"
      ]
     },
     "execution_count": 106,
     "metadata": {},
     "output_type": "execute_result"
    }
   ],
   "source": [
    "req"
   ]
  },
  {
   "cell_type": "code",
   "execution_count": 107,
   "metadata": {},
   "outputs": [
    {
     "ename": "TypeError",
     "evalue": "'str' object does not support item assignment",
     "output_type": "error",
     "traceback": [
      "\u001b[1;31m---------------------------------------------------------------------------\u001b[0m",
      "\u001b[1;31mTypeError\u001b[0m                                 Traceback (most recent call last)",
      "\u001b[1;32m<ipython-input-107-3d85b9fdd1e8>\u001b[0m in \u001b[0;36m<module>\u001b[1;34m\u001b[0m\n\u001b[1;32m----> 1\u001b[1;33m \u001b[0mreq\u001b[0m\u001b[1;33m[\u001b[0m\u001b[1;36m0\u001b[0m\u001b[1;33m]\u001b[0m \u001b[1;33m=\u001b[0m \u001b[0mrequests\u001b[0m\u001b[1;33m.\u001b[0m\u001b[0mpost\u001b[0m\u001b[1;33m(\u001b[0m\u001b[0mURL\u001b[0m\u001b[1;33m,\u001b[0m \u001b[0mjson\u001b[0m \u001b[1;33m=\u001b[0m \u001b[0mJSON\u001b[0m\u001b[1;33m)\u001b[0m\u001b[1;33m\u001b[0m\u001b[1;33m\u001b[0m\u001b[0m\n\u001b[0m",
      "\u001b[1;31mTypeError\u001b[0m: 'str' object does not support item assignment"
     ]
    }
   ],
   "source": [
    "req[0] = requests.post(URL, json = JSON)"
   ]
  },
  {
   "cell_type": "code",
   "execution_count": null,
   "metadata": {},
   "outputs": [],
   "source": [
    "req[0]"
   ]
  },
  {
   "cell_type": "code",
   "execution_count": null,
   "metadata": {},
   "outputs": [],
   "source": []
  },
  {
   "cell_type": "code",
   "execution_count": 76,
   "metadata": {},
   "outputs": [
    {
     "data": {
      "text/plain": [
       "array([0.0781064 , 0.2499795 , 0.09371972, 0.06248569, 0.046875  ,\n",
       "       0.20310473, 0.2812295 , 0.17184305, 0.35935903, 0.01562476])"
      ]
     },
     "execution_count": 76,
     "metadata": {},
     "output_type": "execute_result"
    }
   ],
   "source": [
    "e - s"
   ]
  },
  {
   "cell_type": "code",
   "execution_count": null,
   "metadata": {},
   "outputs": [],
   "source": []
  },
  {
   "cell_type": "code",
   "execution_count": null,
   "metadata": {},
   "outputs": [],
   "source": []
  },
  {
   "cell_type": "code",
   "execution_count": 64,
   "metadata": {},
   "outputs": [
    {
     "data": {
      "text/plain": [
       "array([0., 0., 0., 0., 0., 0., 0., 0., 0., 0.])"
      ]
     },
     "execution_count": 64,
     "metadata": {},
     "output_type": "execute_result"
    }
   ],
   "source": [
    "end - start"
   ]
  },
  {
   "cell_type": "code",
   "execution_count": null,
   "metadata": {},
   "outputs": [],
   "source": []
  },
  {
   "cell_type": "code",
   "execution_count": 65,
   "metadata": {},
   "outputs": [],
   "source": [
    "URL = \"http://localhost:5001/add_transaction\"\n",
    "#start[c] = time.time()\n",
    "r1 = requests.post(URL, json = JSON)\n",
    "\n"
   ]
  },
  {
   "cell_type": "code",
   "execution_count": 66,
   "metadata": {},
   "outputs": [
    {
     "data": {
      "text/plain": [
       "{'end': 1588003609.3868139, 'start': 1588003609.3868139}"
      ]
     },
     "execution_count": 66,
     "metadata": {},
     "output_type": "execute_result"
    }
   ],
   "source": [
    "r1.json()"
   ]
  },
  {
   "cell_type": "code",
   "execution_count": null,
   "metadata": {},
   "outputs": [],
   "source": []
  },
  {
   "cell_type": "code",
   "execution_count": 60,
   "metadata": {},
   "outputs": [
    {
     "data": {
      "text/plain": [
       "array([0., 0., 0., 0., 0., 0., 0., 0., 0., 0.])"
      ]
     },
     "execution_count": 60,
     "metadata": {},
     "output_type": "execute_result"
    }
   ],
   "source": [
    "end-start"
   ]
  },
  {
   "cell_type": "code",
   "execution_count": 56,
   "metadata": {},
   "outputs": [
    {
     "data": {
      "text/plain": [
       "1588003117.5320928"
      ]
     },
     "execution_count": 56,
     "metadata": {},
     "output_type": "execute_result"
    }
   ],
   "source": []
  },
  {
   "cell_type": "code",
   "execution_count": null,
   "metadata": {},
   "outputs": [],
   "source": []
  },
  {
   "cell_type": "code",
   "execution_count": 46,
   "metadata": {},
   "outputs": [],
   "source": [
    "from pickle import dump"
   ]
  },
  {
   "cell_type": "code",
   "execution_count": 49,
   "metadata": {},
   "outputs": [],
   "source": [
    "dump( sz, open( \"sz.pkl\", \"wb\" ) )"
   ]
  },
  {
   "cell_type": "code",
   "execution_count": null,
   "metadata": {},
   "outputs": [],
   "source": []
  },
  {
   "cell_type": "code",
   "execution_count": null,
   "metadata": {},
   "outputs": [],
   "source": []
  },
  {
   "cell_type": "code",
   "execution_count": null,
   "metadata": {},
   "outputs": [],
   "source": []
  },
  {
   "cell_type": "code",
   "execution_count": null,
   "metadata": {},
   "outputs": [],
   "source": []
  },
  {
   "cell_type": "code",
   "execution_count": null,
   "metadata": {},
   "outputs": [],
   "source": []
  }
 ],
 "metadata": {
  "kernelspec": {
   "display_name": "Python 3",
   "language": "python",
   "name": "python3"
  },
  "language_info": {
   "codemirror_mode": {
    "name": "ipython",
    "version": 3
   },
   "file_extension": ".py",
   "mimetype": "text/x-python",
   "name": "python",
   "nbconvert_exporter": "python",
   "pygments_lexer": "ipython3",
   "version": "3.7.6"
  }
 },
 "nbformat": 4,
 "nbformat_minor": 4
}
