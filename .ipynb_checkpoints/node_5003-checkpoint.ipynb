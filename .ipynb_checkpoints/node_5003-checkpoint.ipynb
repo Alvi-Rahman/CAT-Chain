{
 "cells": [
  {
   "cell_type": "code",
   "execution_count": 1,
   "metadata": {},
   "outputs": [],
   "source": [
    "import datetime\n",
    "import hashlib\n",
    "import json\n",
    "import requests\n",
    "from uuid import uuid4\n",
    "from urllib.parse import urlparse"
   ]
  },
  {
   "cell_type": "code",
   "execution_count": 2,
   "metadata": {},
   "outputs": [],
   "source": [
    "from flask import Flask,jsonify,request"
   ]
  },
  {
   "cell_type": "code",
   "execution_count": 3,
   "metadata": {},
   "outputs": [],
   "source": [
    "import Blockchain\n",
    "\n",
    "blockchain = Blockchain.create_blockchain()"
   ]
  },
  {
   "cell_type": "code",
   "execution_count": 4,
   "metadata": {},
   "outputs": [],
   "source": [
    "app = Flask(__name__)"
   ]
  },
  {
   "cell_type": "code",
   "execution_count": 5,
   "metadata": {},
   "outputs": [],
   "source": [
    "node_address = str(uuid4()).replace('-','')"
   ]
  },
  {
   "cell_type": "code",
   "execution_count": 6,
   "metadata": {},
   "outputs": [],
   "source": [
    "@app.route('/broadcast_chain' , methods = ['POST'])\n",
    "def broadcast_chain():\n",
    "    \n",
    "    blockchain.chain = request.get_json().get('chain')\n",
    "    \n",
    "    response = {'message' : f'This transaction will be added to Block'}\n",
    "    return jsonify(response),201"
   ]
  },
  {
   "cell_type": "code",
   "execution_count": 7,
   "metadata": {},
   "outputs": [],
   "source": [
    "@app.route('/mine_block' , methods = ['GET'])\n",
    "def mine_block():\n",
    "    previous_block = blockchain.get_previous_block()\n",
    "    previous_proof = previous_block['proof']\n",
    "    proof = blockchain.proof_of_work(previous_proof)\n",
    "    previous_hash = blockchain.hash(previous_block)\n",
    "    \n",
    "    blockchain.add_transaction(sender = node_address,receiver = 'alvi', amount= None, category = None)\n",
    "    \n",
    "    block = blockchain.create_block(proof,previous_hash)\n",
    "    response = {'message' : 'Congratulations, You just mined a block!',\n",
    "               'index' : block['index'],\n",
    "               'timestamp' : block['timestamp'],\n",
    "               'proof' : block['proof'],\n",
    "               'previous_hash' : block['previous_hash'],\n",
    "               'transactions' : block['transactions']}\n",
    "    \n",
    "    for node in blockchain.nodes:\n",
    "        URL = str('http://')+node+\"/get_chain\"\n",
    "\n",
    "        r = requests.get(url=URL)\n",
    "        temp_chain = r.json()['chain']\n",
    "        temp_index = temp_chain[-1]['index']\n",
    "        \n",
    "        temp_chain.append(block)\n",
    "        temp_chain[-1]['index'] = temp_index + 1\n",
    "        temp_chain = {'chain':temp_chain}\n",
    "        URL = str('http://')+node+\"/broadcast_chain\"\n",
    "        \n",
    "        try:\n",
    "            _ = requests.post(URL, json=temp_chain)\n",
    "        except:\n",
    "            pass\n",
    "    \n",
    "    return jsonify(response),200"
   ]
  },
  {
   "cell_type": "code",
   "execution_count": 8,
   "metadata": {},
   "outputs": [],
   "source": [
    "@app.route('/get_chain' , methods = ['GET'])\n",
    "def get_chain():\n",
    "    response = {'chain' : blockchain.chain,\n",
    "               'length' : len(blockchain.chain)}\n",
    "    return jsonify(response),200"
   ]
  },
  {
   "cell_type": "code",
   "execution_count": 9,
   "metadata": {},
   "outputs": [],
   "source": [
    "@app.route('/is_valid' , methods = ['GET'])\n",
    "def is_valid():\n",
    "    is_valid = blockchain.is_chain_valid(blockchain.chain)\n",
    "    if is_valid:\n",
    "        response = {'message' : \"Your Blockchain is valid!\"}\n",
    "    else:\n",
    "        response = {'message' : \"We have a problem! Blockchain invalid!!!\"}\n",
    "\n",
    "    return jsonify(response),200"
   ]
  },
  {
   "cell_type": "code",
   "execution_count": 10,
   "metadata": {},
   "outputs": [],
   "source": [
    "@app.route('/add_transaction' , methods = ['POST'])\n",
    "def add_transaction():\n",
    "    json = request.get_json()\n",
    "    transaction_keys = ['sender', 'receiver', 'amount','category']\n",
    "    if not all (key in json for key in transaction_keys):\n",
    "        return 'Some elements of the transactions are missing!',400\n",
    "    index = blockchain.add_transaction(json['sender'], json['receiver'], json['amount'],json['category'])\n",
    "    response = {'message' : f'This transaction will be added to Block {index}'}\n",
    "    \n",
    "    #res = mine_block()\n",
    "    \n",
    "    return jsonify(response),201"
   ]
  },
  {
   "cell_type": "code",
   "execution_count": 11,
   "metadata": {},
   "outputs": [],
   "source": [
    "@app.route('/connect_node' , methods = ['POST'])\n",
    "def connect_node():\n",
    "    json = request.get_json()\n",
    "    nodes = json.get('nodes')\n",
    "    if nodes is None:\n",
    "        return \"No node\",400\n",
    "    for node in nodes:\n",
    "        blockchain.add_node(node)\n",
    "    response = {'message' : 'All the nodes are now connected. The currency contains the following nodes : ',\n",
    "               'total_nodes' : list(blockchain.nodes)}\n",
    "    \n",
    "    return jsonify(response),201"
   ]
  },
  {
   "cell_type": "code",
   "execution_count": 12,
   "metadata": {},
   "outputs": [],
   "source": [
    "@app.route('/get_node' , methods = ['GET'])                                                                        \n",
    "def get_nodes():\n",
    "    response = {'message' : 'Connected nodes : ',\n",
    "                'nodes' : list(blockchain.nodes)}\n",
    "    return jsonify(response),200"
   ]
  },
  {
   "cell_type": "code",
   "execution_count": 13,
   "metadata": {},
   "outputs": [],
   "source": [
    "@app.route('/replace_chain' , methods = ['GET'])\n",
    "def replace_chain():\n",
    "    is_chain_replaced = blockchain.replace_chain()\n",
    "    if is_chain_replaced:\n",
    "        response = {'message' : \"The nodes had different chains, so the chain was replaced by the longest one!\",\n",
    "                   'new_chain' : blockchain.chain}\n",
    "    else:\n",
    "        response = {'message' : \"All good! the chain is the largest one!\",\n",
    "                   'actual_chain' : blockchain.chain}\n",
    "\n",
    "\n",
    "    return jsonify(response),200"
   ]
  },
  {
   "cell_type": "code",
   "execution_count": null,
   "metadata": {},
   "outputs": [
    {
     "name": "stdout",
     "output_type": "stream",
     "text": [
      " * Serving Flask app \"__main__\" (lazy loading)\n",
      " * Environment: production\n",
      "   WARNING: This is a development server. Do not use it in a production deployment.\n",
      "   Use a production WSGI server instead.\n",
      " * Debug mode: off\n"
     ]
    },
    {
     "name": "stderr",
     "output_type": "stream",
     "text": [
      " * Running on http://0.0.0.0:5003/ (Press CTRL+C to quit)\n",
      "127.0.0.1 - - [10/Apr/2020 19:23:58] \"\u001b[37mPOST /connect_node HTTP/1.1\u001b[0m\" 201 -\n",
      "127.0.0.1 - - [10/Apr/2020 19:24:22] \"\u001b[37mPOST /add_transaction HTTP/1.1\u001b[0m\" 201 -\n"
     ]
    }
   ],
   "source": [
    "app.run(host='0.0.0.0',port = 5003)"
   ]
  }
 ],
 "metadata": {
  "kernelspec": {
   "display_name": "Python 3",
   "language": "python",
   "name": "python3"
  },
  "language_info": {
   "codemirror_mode": {
    "name": "ipython",
    "version": 3
   },
   "file_extension": ".py",
   "mimetype": "text/x-python",
   "name": "python",
   "nbconvert_exporter": "python",
   "pygments_lexer": "ipython3",
   "version": "3.7.6"
  }
 },
 "nbformat": 4,
 "nbformat_minor": 4
}
