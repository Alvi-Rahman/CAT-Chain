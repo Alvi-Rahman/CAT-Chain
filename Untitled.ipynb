{
 "cells": [
  {
   "cell_type": "code",
   "execution_count": 1,
   "metadata": {},
   "outputs": [],
   "source": [
    "from flask import jsonify,Flask"
   ]
  },
  {
   "cell_type": "code",
   "execution_count": 2,
   "metadata": {},
   "outputs": [],
   "source": [
    "import requests"
   ]
  },
  {
   "cell_type": "code",
   "execution_count": 3,
   "metadata": {},
   "outputs": [],
   "source": [
    "import Blockchain"
   ]
  },
  {
   "cell_type": "code",
   "execution_count": 4,
   "metadata": {},
   "outputs": [],
   "source": [
    "blockchain1 = Blockchain.create_blockchain()\n",
    "blockchain2 = Blockchain.create_blockchain()\n",
    "blockchain3 = Blockchain.create_blockchain()"
   ]
  },
  {
   "cell_type": "code",
   "execution_count": 10,
   "metadata": {},
   "outputs": [],
   "source": [
    "import json"
   ]
  },
  {
   "cell_type": "code",
   "execution_count": 16,
   "metadata": {},
   "outputs": [],
   "source": [
    "import hashlib"
   ]
  },
  {
   "cell_type": "code",
   "execution_count": null,
   "metadata": {},
   "outputs": [],
   "source": []
  },
  {
   "cell_type": "code",
   "execution_count": 22,
   "metadata": {},
   "outputs": [],
   "source": [
    "def hash(block):\n",
    "    encoded_block = json.dumps(block,sort_keys=True).encode()\n",
    "    return hashlib.sha256(encoded_block,).hexdigest()"
   ]
  },
  {
   "cell_type": "code",
   "execution_count": 25,
   "metadata": {},
   "outputs": [
    {
     "data": {
      "text/plain": [
       "'b7a711a720a2b9ebd9283942474c3f1e80623be80b0b1f1bfc8d30047be3062e'"
      ]
     },
     "execution_count": 25,
     "metadata": {},
     "output_type": "execute_result"
    }
   ],
   "source": [
    "blockchain1.hash({'index': 1,\n",
    "  'timestamp': '2020-04-09 21:50:11.858233',\n",
    "  'proof': 1,\n",
    "  'previous_hash': '0',\n",
    "  'transactions': []})"
   ]
  },
  {
   "cell_type": "code",
   "execution_count": null,
   "metadata": {},
   "outputs": [],
   "source": []
  },
  {
   "cell_type": "code",
   "execution_count": null,
   "metadata": {},
   "outputs": [],
   "source": []
  },
  {
   "cell_type": "code",
   "execution_count": 5,
   "metadata": {},
   "outputs": [],
   "source": [
    "blockchain1.add_node(\"http://127.0.0.1:5002\")"
   ]
  },
  {
   "cell_type": "code",
   "execution_count": 6,
   "metadata": {},
   "outputs": [
    {
     "data": {
      "text/plain": [
       "{'127.0.0.1:5002'}"
      ]
     },
     "execution_count": 6,
     "metadata": {},
     "output_type": "execute_result"
    }
   ],
   "source": [
    "blockchain3.nodes"
   ]
  },
  {
   "cell_type": "code",
   "execution_count": 7,
   "metadata": {},
   "outputs": [],
   "source": [
    "blockchain2.add_node(\"http://127.0.0.1:5003\")"
   ]
  },
  {
   "cell_type": "code",
   "execution_count": 8,
   "metadata": {},
   "outputs": [
    {
     "data": {
      "text/plain": [
       "{'127.0.0.1:5002', '127.0.0.1:5003'}"
      ]
     },
     "execution_count": 8,
     "metadata": {},
     "output_type": "execute_result"
    }
   ],
   "source": [
    "blockchain3.nodes"
   ]
  },
  {
   "cell_type": "code",
   "execution_count": 9,
   "metadata": {},
   "outputs": [
    {
     "name": "stdout",
     "output_type": "stream",
     "text": [
      "127.0.0.1:5003\n",
      "127.0.0.1:5002\n"
     ]
    }
   ],
   "source": [
    "for node in blockchain1.nodes:\n",
    "    print(node)"
   ]
  },
  {
   "cell_type": "code",
   "execution_count": null,
   "metadata": {},
   "outputs": [],
   "source": []
  },
  {
   "cell_type": "code",
   "execution_count": 10,
   "metadata": {},
   "outputs": [],
   "source": [
    "def mine_block():\n",
    "    previous_block = blockchain1.get_previous_block()\n",
    "    previous_proof = previous_block['proof']\n",
    "    proof = blockchain1.proof_of_work(previous_proof)\n",
    "    previous_hash = blockchain1.hash(previous_block)\n",
    "    if len(previous_block['transactions']) == 0:\n",
    "        blockchain1.add_transaction(sender = 'node_address',receiver = 'alvi', amount= 1)\n",
    "    block = blockchain1.create_block(proof,previous_hash)\n",
    "    response = {'message' : 'Congratulations, You just mined a block!',\n",
    "               'index' : block['index'],\n",
    "               'timestamp' : block['timestamp'],\n",
    "               'proof' : block['proof'],\n",
    "               'previous_hash' : block['previous_hash'],\n",
    "               'transactions' : block['transactions']}\n",
    "    \n",
    "    for node in blockchain1.nodes:\n",
    "        URL = str('http://')+node+\"/get_chain\"\n",
    "\n",
    "        r = requests.get(url=URL)\n",
    "        temp_chain = r.json()['chain']\n",
    "        temp_index = temp_chain[-1]['index']\n",
    "        \n",
    "        temp_chain.append(block)\n",
    "        temp_chain[-1]['index'] = temp_index + 1\n",
    "        \n",
    "        \n",
    "    \n",
    "    \n",
    "    return response"
   ]
  },
  {
   "cell_type": "code",
   "execution_count": 11,
   "metadata": {},
   "outputs": [],
   "source": [
    "def get_chain():\n",
    "    response = {'chain' : blockchain1.chain,\n",
    "               'length' : len(blockchain1.chain)}\n",
    "    return response"
   ]
  },
  {
   "cell_type": "code",
   "execution_count": 12,
   "metadata": {},
   "outputs": [
    {
     "ename": "ConnectionError",
     "evalue": "HTTPConnectionPool(host='127.0.0.1', port=5003): Max retries exceeded with url: /get_chain (Caused by NewConnectionError('<urllib3.connection.HTTPConnection object at 0x00000174E2BF6E88>: Failed to establish a new connection: [WinError 10061] No connection could be made because the target machine actively refused it'))",
     "output_type": "error",
     "traceback": [
      "\u001b[1;31m---------------------------------------------------------------------------\u001b[0m",
      "\u001b[1;31mConnectionRefusedError\u001b[0m                    Traceback (most recent call last)",
      "\u001b[1;32mc:\\users\\alvi\\appdata\\local\\programs\\python\\python37\\lib\\site-packages\\urllib3\\connection.py\u001b[0m in \u001b[0;36m_new_conn\u001b[1;34m(self)\u001b[0m\n\u001b[0;32m    156\u001b[0m             conn = connection.create_connection(\n\u001b[1;32m--> 157\u001b[1;33m                 \u001b[1;33m(\u001b[0m\u001b[0mself\u001b[0m\u001b[1;33m.\u001b[0m\u001b[0m_dns_host\u001b[0m\u001b[1;33m,\u001b[0m \u001b[0mself\u001b[0m\u001b[1;33m.\u001b[0m\u001b[0mport\u001b[0m\u001b[1;33m)\u001b[0m\u001b[1;33m,\u001b[0m \u001b[0mself\u001b[0m\u001b[1;33m.\u001b[0m\u001b[0mtimeout\u001b[0m\u001b[1;33m,\u001b[0m \u001b[1;33m**\u001b[0m\u001b[0mextra_kw\u001b[0m\u001b[1;33m\u001b[0m\u001b[1;33m\u001b[0m\u001b[0m\n\u001b[0m\u001b[0;32m    158\u001b[0m             )\n",
      "\u001b[1;32mc:\\users\\alvi\\appdata\\local\\programs\\python\\python37\\lib\\site-packages\\urllib3\\util\\connection.py\u001b[0m in \u001b[0;36mcreate_connection\u001b[1;34m(address, timeout, source_address, socket_options)\u001b[0m\n\u001b[0;32m     83\u001b[0m     \u001b[1;32mif\u001b[0m \u001b[0merr\u001b[0m \u001b[1;32mis\u001b[0m \u001b[1;32mnot\u001b[0m \u001b[1;32mNone\u001b[0m\u001b[1;33m:\u001b[0m\u001b[1;33m\u001b[0m\u001b[1;33m\u001b[0m\u001b[0m\n\u001b[1;32m---> 84\u001b[1;33m         \u001b[1;32mraise\u001b[0m \u001b[0merr\u001b[0m\u001b[1;33m\u001b[0m\u001b[1;33m\u001b[0m\u001b[0m\n\u001b[0m\u001b[0;32m     85\u001b[0m \u001b[1;33m\u001b[0m\u001b[0m\n",
      "\u001b[1;32mc:\\users\\alvi\\appdata\\local\\programs\\python\\python37\\lib\\site-packages\\urllib3\\util\\connection.py\u001b[0m in \u001b[0;36mcreate_connection\u001b[1;34m(address, timeout, source_address, socket_options)\u001b[0m\n\u001b[0;32m     73\u001b[0m                 \u001b[0msock\u001b[0m\u001b[1;33m.\u001b[0m\u001b[0mbind\u001b[0m\u001b[1;33m(\u001b[0m\u001b[0msource_address\u001b[0m\u001b[1;33m)\u001b[0m\u001b[1;33m\u001b[0m\u001b[1;33m\u001b[0m\u001b[0m\n\u001b[1;32m---> 74\u001b[1;33m             \u001b[0msock\u001b[0m\u001b[1;33m.\u001b[0m\u001b[0mconnect\u001b[0m\u001b[1;33m(\u001b[0m\u001b[0msa\u001b[0m\u001b[1;33m)\u001b[0m\u001b[1;33m\u001b[0m\u001b[1;33m\u001b[0m\u001b[0m\n\u001b[0m\u001b[0;32m     75\u001b[0m             \u001b[1;32mreturn\u001b[0m \u001b[0msock\u001b[0m\u001b[1;33m\u001b[0m\u001b[1;33m\u001b[0m\u001b[0m\n",
      "\u001b[1;31mConnectionRefusedError\u001b[0m: [WinError 10061] No connection could be made because the target machine actively refused it",
      "\nDuring handling of the above exception, another exception occurred:\n",
      "\u001b[1;31mNewConnectionError\u001b[0m                        Traceback (most recent call last)",
      "\u001b[1;32mc:\\users\\alvi\\appdata\\local\\programs\\python\\python37\\lib\\site-packages\\urllib3\\connectionpool.py\u001b[0m in \u001b[0;36murlopen\u001b[1;34m(self, method, url, body, headers, retries, redirect, assert_same_host, timeout, pool_timeout, release_conn, chunked, body_pos, **response_kw)\u001b[0m\n\u001b[0;32m    671\u001b[0m                 \u001b[0mheaders\u001b[0m\u001b[1;33m=\u001b[0m\u001b[0mheaders\u001b[0m\u001b[1;33m,\u001b[0m\u001b[1;33m\u001b[0m\u001b[1;33m\u001b[0m\u001b[0m\n\u001b[1;32m--> 672\u001b[1;33m                 \u001b[0mchunked\u001b[0m\u001b[1;33m=\u001b[0m\u001b[0mchunked\u001b[0m\u001b[1;33m,\u001b[0m\u001b[1;33m\u001b[0m\u001b[1;33m\u001b[0m\u001b[0m\n\u001b[0m\u001b[0;32m    673\u001b[0m             )\n",
      "\u001b[1;32mc:\\users\\alvi\\appdata\\local\\programs\\python\\python37\\lib\\site-packages\\urllib3\\connectionpool.py\u001b[0m in \u001b[0;36m_make_request\u001b[1;34m(self, conn, method, url, timeout, chunked, **httplib_request_kw)\u001b[0m\n\u001b[0;32m    386\u001b[0m         \u001b[1;32melse\u001b[0m\u001b[1;33m:\u001b[0m\u001b[1;33m\u001b[0m\u001b[1;33m\u001b[0m\u001b[0m\n\u001b[1;32m--> 387\u001b[1;33m             \u001b[0mconn\u001b[0m\u001b[1;33m.\u001b[0m\u001b[0mrequest\u001b[0m\u001b[1;33m(\u001b[0m\u001b[0mmethod\u001b[0m\u001b[1;33m,\u001b[0m \u001b[0murl\u001b[0m\u001b[1;33m,\u001b[0m \u001b[1;33m**\u001b[0m\u001b[0mhttplib_request_kw\u001b[0m\u001b[1;33m)\u001b[0m\u001b[1;33m\u001b[0m\u001b[1;33m\u001b[0m\u001b[0m\n\u001b[0m\u001b[0;32m    388\u001b[0m \u001b[1;33m\u001b[0m\u001b[0m\n",
      "\u001b[1;32mc:\\users\\alvi\\appdata\\local\\programs\\python\\python37\\lib\\http\\client.py\u001b[0m in \u001b[0;36mrequest\u001b[1;34m(self, method, url, body, headers, encode_chunked)\u001b[0m\n\u001b[0;32m   1251\u001b[0m         \u001b[1;34m\"\"\"Send a complete request to the server.\"\"\"\u001b[0m\u001b[1;33m\u001b[0m\u001b[1;33m\u001b[0m\u001b[0m\n\u001b[1;32m-> 1252\u001b[1;33m         \u001b[0mself\u001b[0m\u001b[1;33m.\u001b[0m\u001b[0m_send_request\u001b[0m\u001b[1;33m(\u001b[0m\u001b[0mmethod\u001b[0m\u001b[1;33m,\u001b[0m \u001b[0murl\u001b[0m\u001b[1;33m,\u001b[0m \u001b[0mbody\u001b[0m\u001b[1;33m,\u001b[0m \u001b[0mheaders\u001b[0m\u001b[1;33m,\u001b[0m \u001b[0mencode_chunked\u001b[0m\u001b[1;33m)\u001b[0m\u001b[1;33m\u001b[0m\u001b[1;33m\u001b[0m\u001b[0m\n\u001b[0m\u001b[0;32m   1253\u001b[0m \u001b[1;33m\u001b[0m\u001b[0m\n",
      "\u001b[1;32mc:\\users\\alvi\\appdata\\local\\programs\\python\\python37\\lib\\http\\client.py\u001b[0m in \u001b[0;36m_send_request\u001b[1;34m(self, method, url, body, headers, encode_chunked)\u001b[0m\n\u001b[0;32m   1297\u001b[0m             \u001b[0mbody\u001b[0m \u001b[1;33m=\u001b[0m \u001b[0m_encode\u001b[0m\u001b[1;33m(\u001b[0m\u001b[0mbody\u001b[0m\u001b[1;33m,\u001b[0m \u001b[1;34m'body'\u001b[0m\u001b[1;33m)\u001b[0m\u001b[1;33m\u001b[0m\u001b[1;33m\u001b[0m\u001b[0m\n\u001b[1;32m-> 1298\u001b[1;33m         \u001b[0mself\u001b[0m\u001b[1;33m.\u001b[0m\u001b[0mendheaders\u001b[0m\u001b[1;33m(\u001b[0m\u001b[0mbody\u001b[0m\u001b[1;33m,\u001b[0m \u001b[0mencode_chunked\u001b[0m\u001b[1;33m=\u001b[0m\u001b[0mencode_chunked\u001b[0m\u001b[1;33m)\u001b[0m\u001b[1;33m\u001b[0m\u001b[1;33m\u001b[0m\u001b[0m\n\u001b[0m\u001b[0;32m   1299\u001b[0m \u001b[1;33m\u001b[0m\u001b[0m\n",
      "\u001b[1;32mc:\\users\\alvi\\appdata\\local\\programs\\python\\python37\\lib\\http\\client.py\u001b[0m in \u001b[0;36mendheaders\u001b[1;34m(self, message_body, encode_chunked)\u001b[0m\n\u001b[0;32m   1246\u001b[0m             \u001b[1;32mraise\u001b[0m \u001b[0mCannotSendHeader\u001b[0m\u001b[1;33m(\u001b[0m\u001b[1;33m)\u001b[0m\u001b[1;33m\u001b[0m\u001b[1;33m\u001b[0m\u001b[0m\n\u001b[1;32m-> 1247\u001b[1;33m         \u001b[0mself\u001b[0m\u001b[1;33m.\u001b[0m\u001b[0m_send_output\u001b[0m\u001b[1;33m(\u001b[0m\u001b[0mmessage_body\u001b[0m\u001b[1;33m,\u001b[0m \u001b[0mencode_chunked\u001b[0m\u001b[1;33m=\u001b[0m\u001b[0mencode_chunked\u001b[0m\u001b[1;33m)\u001b[0m\u001b[1;33m\u001b[0m\u001b[1;33m\u001b[0m\u001b[0m\n\u001b[0m\u001b[0;32m   1248\u001b[0m \u001b[1;33m\u001b[0m\u001b[0m\n",
      "\u001b[1;32mc:\\users\\alvi\\appdata\\local\\programs\\python\\python37\\lib\\http\\client.py\u001b[0m in \u001b[0;36m_send_output\u001b[1;34m(self, message_body, encode_chunked)\u001b[0m\n\u001b[0;32m   1025\u001b[0m         \u001b[1;32mdel\u001b[0m \u001b[0mself\u001b[0m\u001b[1;33m.\u001b[0m\u001b[0m_buffer\u001b[0m\u001b[1;33m[\u001b[0m\u001b[1;33m:\u001b[0m\u001b[1;33m]\u001b[0m\u001b[1;33m\u001b[0m\u001b[1;33m\u001b[0m\u001b[0m\n\u001b[1;32m-> 1026\u001b[1;33m         \u001b[0mself\u001b[0m\u001b[1;33m.\u001b[0m\u001b[0msend\u001b[0m\u001b[1;33m(\u001b[0m\u001b[0mmsg\u001b[0m\u001b[1;33m)\u001b[0m\u001b[1;33m\u001b[0m\u001b[1;33m\u001b[0m\u001b[0m\n\u001b[0m\u001b[0;32m   1027\u001b[0m \u001b[1;33m\u001b[0m\u001b[0m\n",
      "\u001b[1;32mc:\\users\\alvi\\appdata\\local\\programs\\python\\python37\\lib\\http\\client.py\u001b[0m in \u001b[0;36msend\u001b[1;34m(self, data)\u001b[0m\n\u001b[0;32m    965\u001b[0m             \u001b[1;32mif\u001b[0m \u001b[0mself\u001b[0m\u001b[1;33m.\u001b[0m\u001b[0mauto_open\u001b[0m\u001b[1;33m:\u001b[0m\u001b[1;33m\u001b[0m\u001b[1;33m\u001b[0m\u001b[0m\n\u001b[1;32m--> 966\u001b[1;33m                 \u001b[0mself\u001b[0m\u001b[1;33m.\u001b[0m\u001b[0mconnect\u001b[0m\u001b[1;33m(\u001b[0m\u001b[1;33m)\u001b[0m\u001b[1;33m\u001b[0m\u001b[1;33m\u001b[0m\u001b[0m\n\u001b[0m\u001b[0;32m    967\u001b[0m             \u001b[1;32melse\u001b[0m\u001b[1;33m:\u001b[0m\u001b[1;33m\u001b[0m\u001b[1;33m\u001b[0m\u001b[0m\n",
      "\u001b[1;32mc:\\users\\alvi\\appdata\\local\\programs\\python\\python37\\lib\\site-packages\\urllib3\\connection.py\u001b[0m in \u001b[0;36mconnect\u001b[1;34m(self)\u001b[0m\n\u001b[0;32m    183\u001b[0m     \u001b[1;32mdef\u001b[0m \u001b[0mconnect\u001b[0m\u001b[1;33m(\u001b[0m\u001b[0mself\u001b[0m\u001b[1;33m)\u001b[0m\u001b[1;33m:\u001b[0m\u001b[1;33m\u001b[0m\u001b[1;33m\u001b[0m\u001b[0m\n\u001b[1;32m--> 184\u001b[1;33m         \u001b[0mconn\u001b[0m \u001b[1;33m=\u001b[0m \u001b[0mself\u001b[0m\u001b[1;33m.\u001b[0m\u001b[0m_new_conn\u001b[0m\u001b[1;33m(\u001b[0m\u001b[1;33m)\u001b[0m\u001b[1;33m\u001b[0m\u001b[1;33m\u001b[0m\u001b[0m\n\u001b[0m\u001b[0;32m    185\u001b[0m         \u001b[0mself\u001b[0m\u001b[1;33m.\u001b[0m\u001b[0m_prepare_conn\u001b[0m\u001b[1;33m(\u001b[0m\u001b[0mconn\u001b[0m\u001b[1;33m)\u001b[0m\u001b[1;33m\u001b[0m\u001b[1;33m\u001b[0m\u001b[0m\n",
      "\u001b[1;32mc:\\users\\alvi\\appdata\\local\\programs\\python\\python37\\lib\\site-packages\\urllib3\\connection.py\u001b[0m in \u001b[0;36m_new_conn\u001b[1;34m(self)\u001b[0m\n\u001b[0;32m    168\u001b[0m             raise NewConnectionError(\n\u001b[1;32m--> 169\u001b[1;33m                 \u001b[0mself\u001b[0m\u001b[1;33m,\u001b[0m \u001b[1;34m\"Failed to establish a new connection: %s\"\u001b[0m \u001b[1;33m%\u001b[0m \u001b[0me\u001b[0m\u001b[1;33m\u001b[0m\u001b[1;33m\u001b[0m\u001b[0m\n\u001b[0m\u001b[0;32m    170\u001b[0m             )\n",
      "\u001b[1;31mNewConnectionError\u001b[0m: <urllib3.connection.HTTPConnection object at 0x00000174E2BF6E88>: Failed to establish a new connection: [WinError 10061] No connection could be made because the target machine actively refused it",
      "\nDuring handling of the above exception, another exception occurred:\n",
      "\u001b[1;31mMaxRetryError\u001b[0m                             Traceback (most recent call last)",
      "\u001b[1;32mc:\\users\\alvi\\appdata\\local\\programs\\python\\python37\\lib\\site-packages\\requests\\adapters.py\u001b[0m in \u001b[0;36msend\u001b[1;34m(self, request, stream, timeout, verify, cert, proxies)\u001b[0m\n\u001b[0;32m    448\u001b[0m                     \u001b[0mretries\u001b[0m\u001b[1;33m=\u001b[0m\u001b[0mself\u001b[0m\u001b[1;33m.\u001b[0m\u001b[0mmax_retries\u001b[0m\u001b[1;33m,\u001b[0m\u001b[1;33m\u001b[0m\u001b[1;33m\u001b[0m\u001b[0m\n\u001b[1;32m--> 449\u001b[1;33m                     \u001b[0mtimeout\u001b[0m\u001b[1;33m=\u001b[0m\u001b[0mtimeout\u001b[0m\u001b[1;33m\u001b[0m\u001b[1;33m\u001b[0m\u001b[0m\n\u001b[0m\u001b[0;32m    450\u001b[0m                 )\n",
      "\u001b[1;32mc:\\users\\alvi\\appdata\\local\\programs\\python\\python37\\lib\\site-packages\\urllib3\\connectionpool.py\u001b[0m in \u001b[0;36murlopen\u001b[1;34m(self, method, url, body, headers, retries, redirect, assert_same_host, timeout, pool_timeout, release_conn, chunked, body_pos, **response_kw)\u001b[0m\n\u001b[0;32m    719\u001b[0m             retries = retries.increment(\n\u001b[1;32m--> 720\u001b[1;33m                 \u001b[0mmethod\u001b[0m\u001b[1;33m,\u001b[0m \u001b[0murl\u001b[0m\u001b[1;33m,\u001b[0m \u001b[0merror\u001b[0m\u001b[1;33m=\u001b[0m\u001b[0me\u001b[0m\u001b[1;33m,\u001b[0m \u001b[0m_pool\u001b[0m\u001b[1;33m=\u001b[0m\u001b[0mself\u001b[0m\u001b[1;33m,\u001b[0m \u001b[0m_stacktrace\u001b[0m\u001b[1;33m=\u001b[0m\u001b[0msys\u001b[0m\u001b[1;33m.\u001b[0m\u001b[0mexc_info\u001b[0m\u001b[1;33m(\u001b[0m\u001b[1;33m)\u001b[0m\u001b[1;33m[\u001b[0m\u001b[1;36m2\u001b[0m\u001b[1;33m]\u001b[0m\u001b[1;33m\u001b[0m\u001b[1;33m\u001b[0m\u001b[0m\n\u001b[0m\u001b[0;32m    721\u001b[0m             )\n",
      "\u001b[1;32mc:\\users\\alvi\\appdata\\local\\programs\\python\\python37\\lib\\site-packages\\urllib3\\util\\retry.py\u001b[0m in \u001b[0;36mincrement\u001b[1;34m(self, method, url, response, error, _pool, _stacktrace)\u001b[0m\n\u001b[0;32m    435\u001b[0m         \u001b[1;32mif\u001b[0m \u001b[0mnew_retry\u001b[0m\u001b[1;33m.\u001b[0m\u001b[0mis_exhausted\u001b[0m\u001b[1;33m(\u001b[0m\u001b[1;33m)\u001b[0m\u001b[1;33m:\u001b[0m\u001b[1;33m\u001b[0m\u001b[1;33m\u001b[0m\u001b[0m\n\u001b[1;32m--> 436\u001b[1;33m             \u001b[1;32mraise\u001b[0m \u001b[0mMaxRetryError\u001b[0m\u001b[1;33m(\u001b[0m\u001b[0m_pool\u001b[0m\u001b[1;33m,\u001b[0m \u001b[0murl\u001b[0m\u001b[1;33m,\u001b[0m \u001b[0merror\u001b[0m \u001b[1;32mor\u001b[0m \u001b[0mResponseError\u001b[0m\u001b[1;33m(\u001b[0m\u001b[0mcause\u001b[0m\u001b[1;33m)\u001b[0m\u001b[1;33m)\u001b[0m\u001b[1;33m\u001b[0m\u001b[1;33m\u001b[0m\u001b[0m\n\u001b[0m\u001b[0;32m    437\u001b[0m \u001b[1;33m\u001b[0m\u001b[0m\n",
      "\u001b[1;31mMaxRetryError\u001b[0m: HTTPConnectionPool(host='127.0.0.1', port=5003): Max retries exceeded with url: /get_chain (Caused by NewConnectionError('<urllib3.connection.HTTPConnection object at 0x00000174E2BF6E88>: Failed to establish a new connection: [WinError 10061] No connection could be made because the target machine actively refused it'))",
      "\nDuring handling of the above exception, another exception occurred:\n",
      "\u001b[1;31mConnectionError\u001b[0m                           Traceback (most recent call last)",
      "\u001b[1;32m<ipython-input-12-4e068af88197>\u001b[0m in \u001b[0;36m<module>\u001b[1;34m\u001b[0m\n\u001b[1;32m----> 1\u001b[1;33m \u001b[0mmine_block\u001b[0m\u001b[1;33m(\u001b[0m\u001b[1;33m)\u001b[0m\u001b[1;33m\u001b[0m\u001b[1;33m\u001b[0m\u001b[0m\n\u001b[0m",
      "\u001b[1;32m<ipython-input-10-80c369674b2c>\u001b[0m in \u001b[0;36mmine_block\u001b[1;34m()\u001b[0m\n\u001b[0;32m     17\u001b[0m         \u001b[0mURL\u001b[0m \u001b[1;33m=\u001b[0m \u001b[0mstr\u001b[0m\u001b[1;33m(\u001b[0m\u001b[1;34m'http://'\u001b[0m\u001b[1;33m)\u001b[0m\u001b[1;33m+\u001b[0m\u001b[0mnode\u001b[0m\u001b[1;33m+\u001b[0m\u001b[1;34m\"/get_chain\"\u001b[0m\u001b[1;33m\u001b[0m\u001b[1;33m\u001b[0m\u001b[0m\n\u001b[0;32m     18\u001b[0m \u001b[1;33m\u001b[0m\u001b[0m\n\u001b[1;32m---> 19\u001b[1;33m         \u001b[0mr\u001b[0m \u001b[1;33m=\u001b[0m \u001b[0mrequests\u001b[0m\u001b[1;33m.\u001b[0m\u001b[0mget\u001b[0m\u001b[1;33m(\u001b[0m\u001b[0murl\u001b[0m\u001b[1;33m=\u001b[0m\u001b[0mURL\u001b[0m\u001b[1;33m)\u001b[0m\u001b[1;33m\u001b[0m\u001b[1;33m\u001b[0m\u001b[0m\n\u001b[0m\u001b[0;32m     20\u001b[0m         \u001b[0mtemp_chain\u001b[0m \u001b[1;33m=\u001b[0m \u001b[0mr\u001b[0m\u001b[1;33m.\u001b[0m\u001b[0mjson\u001b[0m\u001b[1;33m(\u001b[0m\u001b[1;33m)\u001b[0m\u001b[1;33m[\u001b[0m\u001b[1;34m'chain'\u001b[0m\u001b[1;33m]\u001b[0m\u001b[1;33m\u001b[0m\u001b[1;33m\u001b[0m\u001b[0m\n\u001b[0;32m     21\u001b[0m         \u001b[0mtemp_index\u001b[0m \u001b[1;33m=\u001b[0m \u001b[0mtemp_chain\u001b[0m\u001b[1;33m[\u001b[0m\u001b[1;33m-\u001b[0m\u001b[1;36m1\u001b[0m\u001b[1;33m]\u001b[0m\u001b[1;33m[\u001b[0m\u001b[1;34m'index'\u001b[0m\u001b[1;33m]\u001b[0m\u001b[1;33m\u001b[0m\u001b[1;33m\u001b[0m\u001b[0m\n",
      "\u001b[1;32mc:\\users\\alvi\\appdata\\local\\programs\\python\\python37\\lib\\site-packages\\requests\\api.py\u001b[0m in \u001b[0;36mget\u001b[1;34m(url, params, **kwargs)\u001b[0m\n\u001b[0;32m     73\u001b[0m \u001b[1;33m\u001b[0m\u001b[0m\n\u001b[0;32m     74\u001b[0m     \u001b[0mkwargs\u001b[0m\u001b[1;33m.\u001b[0m\u001b[0msetdefault\u001b[0m\u001b[1;33m(\u001b[0m\u001b[1;34m'allow_redirects'\u001b[0m\u001b[1;33m,\u001b[0m \u001b[1;32mTrue\u001b[0m\u001b[1;33m)\u001b[0m\u001b[1;33m\u001b[0m\u001b[1;33m\u001b[0m\u001b[0m\n\u001b[1;32m---> 75\u001b[1;33m     \u001b[1;32mreturn\u001b[0m \u001b[0mrequest\u001b[0m\u001b[1;33m(\u001b[0m\u001b[1;34m'get'\u001b[0m\u001b[1;33m,\u001b[0m \u001b[0murl\u001b[0m\u001b[1;33m,\u001b[0m \u001b[0mparams\u001b[0m\u001b[1;33m=\u001b[0m\u001b[0mparams\u001b[0m\u001b[1;33m,\u001b[0m \u001b[1;33m**\u001b[0m\u001b[0mkwargs\u001b[0m\u001b[1;33m)\u001b[0m\u001b[1;33m\u001b[0m\u001b[1;33m\u001b[0m\u001b[0m\n\u001b[0m\u001b[0;32m     76\u001b[0m \u001b[1;33m\u001b[0m\u001b[0m\n\u001b[0;32m     77\u001b[0m \u001b[1;33m\u001b[0m\u001b[0m\n",
      "\u001b[1;32mc:\\users\\alvi\\appdata\\local\\programs\\python\\python37\\lib\\site-packages\\requests\\api.py\u001b[0m in \u001b[0;36mrequest\u001b[1;34m(method, url, **kwargs)\u001b[0m\n\u001b[0;32m     58\u001b[0m     \u001b[1;31m# cases, and look like a memory leak in others.\u001b[0m\u001b[1;33m\u001b[0m\u001b[1;33m\u001b[0m\u001b[1;33m\u001b[0m\u001b[0m\n\u001b[0;32m     59\u001b[0m     \u001b[1;32mwith\u001b[0m \u001b[0msessions\u001b[0m\u001b[1;33m.\u001b[0m\u001b[0mSession\u001b[0m\u001b[1;33m(\u001b[0m\u001b[1;33m)\u001b[0m \u001b[1;32mas\u001b[0m \u001b[0msession\u001b[0m\u001b[1;33m:\u001b[0m\u001b[1;33m\u001b[0m\u001b[1;33m\u001b[0m\u001b[0m\n\u001b[1;32m---> 60\u001b[1;33m         \u001b[1;32mreturn\u001b[0m \u001b[0msession\u001b[0m\u001b[1;33m.\u001b[0m\u001b[0mrequest\u001b[0m\u001b[1;33m(\u001b[0m\u001b[0mmethod\u001b[0m\u001b[1;33m=\u001b[0m\u001b[0mmethod\u001b[0m\u001b[1;33m,\u001b[0m \u001b[0murl\u001b[0m\u001b[1;33m=\u001b[0m\u001b[0murl\u001b[0m\u001b[1;33m,\u001b[0m \u001b[1;33m**\u001b[0m\u001b[0mkwargs\u001b[0m\u001b[1;33m)\u001b[0m\u001b[1;33m\u001b[0m\u001b[1;33m\u001b[0m\u001b[0m\n\u001b[0m\u001b[0;32m     61\u001b[0m \u001b[1;33m\u001b[0m\u001b[0m\n\u001b[0;32m     62\u001b[0m \u001b[1;33m\u001b[0m\u001b[0m\n",
      "\u001b[1;32mc:\\users\\alvi\\appdata\\local\\programs\\python\\python37\\lib\\site-packages\\requests\\sessions.py\u001b[0m in \u001b[0;36mrequest\u001b[1;34m(self, method, url, params, data, headers, cookies, files, auth, timeout, allow_redirects, proxies, hooks, stream, verify, cert, json)\u001b[0m\n\u001b[0;32m    531\u001b[0m         }\n\u001b[0;32m    532\u001b[0m         \u001b[0msend_kwargs\u001b[0m\u001b[1;33m.\u001b[0m\u001b[0mupdate\u001b[0m\u001b[1;33m(\u001b[0m\u001b[0msettings\u001b[0m\u001b[1;33m)\u001b[0m\u001b[1;33m\u001b[0m\u001b[1;33m\u001b[0m\u001b[0m\n\u001b[1;32m--> 533\u001b[1;33m         \u001b[0mresp\u001b[0m \u001b[1;33m=\u001b[0m \u001b[0mself\u001b[0m\u001b[1;33m.\u001b[0m\u001b[0msend\u001b[0m\u001b[1;33m(\u001b[0m\u001b[0mprep\u001b[0m\u001b[1;33m,\u001b[0m \u001b[1;33m**\u001b[0m\u001b[0msend_kwargs\u001b[0m\u001b[1;33m)\u001b[0m\u001b[1;33m\u001b[0m\u001b[1;33m\u001b[0m\u001b[0m\n\u001b[0m\u001b[0;32m    534\u001b[0m \u001b[1;33m\u001b[0m\u001b[0m\n\u001b[0;32m    535\u001b[0m         \u001b[1;32mreturn\u001b[0m \u001b[0mresp\u001b[0m\u001b[1;33m\u001b[0m\u001b[1;33m\u001b[0m\u001b[0m\n",
      "\u001b[1;32mc:\\users\\alvi\\appdata\\local\\programs\\python\\python37\\lib\\site-packages\\requests\\sessions.py\u001b[0m in \u001b[0;36msend\u001b[1;34m(self, request, **kwargs)\u001b[0m\n\u001b[0;32m    644\u001b[0m \u001b[1;33m\u001b[0m\u001b[0m\n\u001b[0;32m    645\u001b[0m         \u001b[1;31m# Send the request\u001b[0m\u001b[1;33m\u001b[0m\u001b[1;33m\u001b[0m\u001b[1;33m\u001b[0m\u001b[0m\n\u001b[1;32m--> 646\u001b[1;33m         \u001b[0mr\u001b[0m \u001b[1;33m=\u001b[0m \u001b[0madapter\u001b[0m\u001b[1;33m.\u001b[0m\u001b[0msend\u001b[0m\u001b[1;33m(\u001b[0m\u001b[0mrequest\u001b[0m\u001b[1;33m,\u001b[0m \u001b[1;33m**\u001b[0m\u001b[0mkwargs\u001b[0m\u001b[1;33m)\u001b[0m\u001b[1;33m\u001b[0m\u001b[1;33m\u001b[0m\u001b[0m\n\u001b[0m\u001b[0;32m    647\u001b[0m \u001b[1;33m\u001b[0m\u001b[0m\n\u001b[0;32m    648\u001b[0m         \u001b[1;31m# Total elapsed time of the request (approximately)\u001b[0m\u001b[1;33m\u001b[0m\u001b[1;33m\u001b[0m\u001b[1;33m\u001b[0m\u001b[0m\n",
      "\u001b[1;32mc:\\users\\alvi\\appdata\\local\\programs\\python\\python37\\lib\\site-packages\\requests\\adapters.py\u001b[0m in \u001b[0;36msend\u001b[1;34m(self, request, stream, timeout, verify, cert, proxies)\u001b[0m\n\u001b[0;32m    514\u001b[0m                 \u001b[1;32mraise\u001b[0m \u001b[0mSSLError\u001b[0m\u001b[1;33m(\u001b[0m\u001b[0me\u001b[0m\u001b[1;33m,\u001b[0m \u001b[0mrequest\u001b[0m\u001b[1;33m=\u001b[0m\u001b[0mrequest\u001b[0m\u001b[1;33m)\u001b[0m\u001b[1;33m\u001b[0m\u001b[1;33m\u001b[0m\u001b[0m\n\u001b[0;32m    515\u001b[0m \u001b[1;33m\u001b[0m\u001b[0m\n\u001b[1;32m--> 516\u001b[1;33m             \u001b[1;32mraise\u001b[0m \u001b[0mConnectionError\u001b[0m\u001b[1;33m(\u001b[0m\u001b[0me\u001b[0m\u001b[1;33m,\u001b[0m \u001b[0mrequest\u001b[0m\u001b[1;33m=\u001b[0m\u001b[0mrequest\u001b[0m\u001b[1;33m)\u001b[0m\u001b[1;33m\u001b[0m\u001b[1;33m\u001b[0m\u001b[0m\n\u001b[0m\u001b[0;32m    517\u001b[0m \u001b[1;33m\u001b[0m\u001b[0m\n\u001b[0;32m    518\u001b[0m         \u001b[1;32mexcept\u001b[0m \u001b[0mClosedPoolError\u001b[0m \u001b[1;32mas\u001b[0m \u001b[0me\u001b[0m\u001b[1;33m:\u001b[0m\u001b[1;33m\u001b[0m\u001b[1;33m\u001b[0m\u001b[0m\n",
      "\u001b[1;31mConnectionError\u001b[0m: HTTPConnectionPool(host='127.0.0.1', port=5003): Max retries exceeded with url: /get_chain (Caused by NewConnectionError('<urllib3.connection.HTTPConnection object at 0x00000174E2BF6E88>: Failed to establish a new connection: [WinError 10061] No connection could be made because the target machine actively refused it'))"
     ]
    }
   ],
   "source": [
    "mine_block()"
   ]
  },
  {
   "cell_type": "code",
   "execution_count": 14,
   "metadata": {},
   "outputs": [
    {
     "data": {
      "text/plain": [
       "[{'index': 1,\n",
       "  'timestamp': '2020-04-09 21:50:11.858233',\n",
       "  'proof': 1,\n",
       "  'previous_hash': '0',\n",
       "  'transactions': []},\n",
       " {'index': 2,\n",
       "  'timestamp': '2020-04-09 21:50:18.404024',\n",
       "  'proof': 533,\n",
       "  'previous_hash': 'b7a711a720a2b9ebd9283942474c3f1e80623be80b0b1f1bfc8d30047be3062e',\n",
       "  'transactions': [{'sender': 'node_address',\n",
       "    'receiver': 'alvi',\n",
       "    'amount': 1}]}]"
      ]
     },
     "execution_count": 14,
     "metadata": {},
     "output_type": "execute_result"
    }
   ],
   "source": [
    "get_chain()['chain']"
   ]
  },
  {
   "cell_type": "code",
   "execution_count": 9,
   "metadata": {},
   "outputs": [],
   "source": [
    "app = Flask(__name__)"
   ]
  },
  {
   "cell_type": "code",
   "execution_count": null,
   "metadata": {},
   "outputs": [],
   "source": []
  },
  {
   "cell_type": "code",
   "execution_count": 10,
   "metadata": {},
   "outputs": [],
   "source": [
    "@app.route('/get_nodes' , methods = ['GET'])                                                                        #get_node\n",
    "def get_nodes():\n",
    "    response = {'message' : 'Connected nodes : ',\n",
    "                'nodes' : list(blockchain1.nodes)}\n",
    "    return jsonify(response),201"
   ]
  },
  {
   "cell_type": "code",
   "execution_count": null,
   "metadata": {},
   "outputs": [],
   "source": []
  },
  {
   "cell_type": "code",
   "execution_count": 13,
   "metadata": {},
   "outputs": [
    {
     "data": {
      "text/plain": [
       "['127.0.0.1:5002', 'http://127.0.0.1:5003']"
      ]
     },
     "execution_count": 13,
     "metadata": {},
     "output_type": "execute_result"
    }
   ],
   "source": [
    "get_nodes()"
   ]
  },
  {
   "cell_type": "code",
   "execution_count": null,
   "metadata": {},
   "outputs": [],
   "source": []
  },
  {
   "cell_type": "code",
   "execution_count": null,
   "metadata": {},
   "outputs": [
    {
     "name": "stdout",
     "output_type": "stream",
     "text": [
      " * Serving Flask app \"__main__\" (lazy loading)\n",
      " * Environment: production\n",
      "   WARNING: This is a development server. Do not use it in a production deployment.\n",
      "   Use a production WSGI server instead.\n",
      " * Debug mode: off\n"
     ]
    },
    {
     "name": "stderr",
     "output_type": "stream",
     "text": [
      " * Running on http://0.0.0.0:5004/ (Press CTRL+C to quit)\n",
      "127.0.0.1 - - [09/Apr/2020 21:08:08] \"\u001b[37mGET /get_nodes HTTP/1.1\u001b[0m\" 201 -\n"
     ]
    }
   ],
   "source": [
    "app.run(host='0.0.0.0',port = 5004)"
   ]
  },
  {
   "cell_type": "code",
   "execution_count": null,
   "metadata": {},
   "outputs": [],
   "source": []
  },
  {
   "cell_type": "code",
   "execution_count": 40,
   "metadata": {},
   "outputs": [
    {
     "data": {
      "text/plain": [
       "[{'index': 1,\n",
       "  'timestamp': '2020-04-09 20:19:10.502523',\n",
       "  'proof': 1,\n",
       "  'previous_hash': '0',\n",
       "  'transactions': []},\n",
       " {'index': 2,\n",
       "  'timestamp': '2020-04-09 20:28:47.030304',\n",
       "  'proof': 533,\n",
       "  'previous_hash': '81398a360ea6a420f39e3b20abfa9f1b773f2e13090e351096c0561d29d1bb27',\n",
       "  'transactions': [{'sender': 'haha', 'receiver': 'alvi', 'amount': 1}]},\n",
       " {'index': 3,\n",
       "  'timestamp': '2020-04-09 20:28:48.963764',\n",
       "  'proof': 45293,\n",
       "  'previous_hash': '577a6f0d89f58aec4ff928cb2774e4df163ef76c1c4adc7d5cef8d5abda787e4',\n",
       "  'transactions': []},\n",
       " {'index': 4,\n",
       "  'timestamp': '2020-04-09 20:28:50.256263',\n",
       "  'proof': 21391,\n",
       "  'previous_hash': 'e1121ad4cedaa356661252c3873c15f27d5b968ceacc6cd185a5cb17cdc89481',\n",
       "  'transactions': [{'sender': 'haha', 'receiver': 'alvi', 'amount': 1}]},\n",
       " {'index': 5,\n",
       "  'timestamp': '2020-04-09 20:28:51.425199',\n",
       "  'proof': 8018,\n",
       "  'previous_hash': 'dfb408e2333b9512bb60e58ca7c50529e92d2169c5ec679d21ecb80320636cf1',\n",
       "  'transactions': []}]"
      ]
     },
     "execution_count": 40,
     "metadata": {},
     "output_type": "execute_result"
    }
   ],
   "source": []
  },
  {
   "cell_type": "code",
   "execution_count": null,
   "metadata": {},
   "outputs": [],
   "source": []
  },
  {
   "cell_type": "code",
   "execution_count": null,
   "metadata": {},
   "outputs": [],
   "source": []
  },
  {
   "cell_type": "code",
   "execution_count": 20,
   "metadata": {},
   "outputs": [],
   "source": [
    "blockchain1.chain.append(get_chain()['chain'][-1])"
   ]
  },
  {
   "cell_type": "code",
   "execution_count": 39,
   "metadata": {},
   "outputs": [
    {
     "data": {
      "text/plain": [
       "{'index': 5,\n",
       " 'timestamp': '2020-04-09 20:28:51.425199',\n",
       " 'proof': 8018,\n",
       " 'previous_hash': 'dfb408e2333b9512bb60e58ca7c50529e92d2169c5ec679d21ecb80320636cf1',\n",
       " 'transactions': []}"
      ]
     },
     "execution_count": 39,
     "metadata": {},
     "output_type": "execute_result"
    }
   ],
   "source": [
    "blockchain1.chain[-1]"
   ]
  },
  {
   "cell_type": "code",
   "execution_count": null,
   "metadata": {},
   "outputs": [],
   "source": []
  },
  {
   "cell_type": "code",
   "execution_count": null,
   "metadata": {},
   "outputs": [],
   "source": []
  },
  {
   "cell_type": "code",
   "execution_count": null,
   "metadata": {},
   "outputs": [],
   "source": []
  },
  {
   "cell_type": "code",
   "execution_count": 11,
   "metadata": {},
   "outputs": [],
   "source": [
    "blockchain1.add_node(\"http://127.0.0.1:5002\")"
   ]
  },
  {
   "cell_type": "code",
   "execution_count": 12,
   "metadata": {},
   "outputs": [],
   "source": [
    "blockchain2.add_node(\"http://127.0.0.1:5001\")"
   ]
  },
  {
   "cell_type": "code",
   "execution_count": 13,
   "metadata": {},
   "outputs": [],
   "source": [
    "blockchain3.add_node(\"http://127.0.0.1:5003\")"
   ]
  },
  {
   "cell_type": "code",
   "execution_count": 14,
   "metadata": {},
   "outputs": [
    {
     "data": {
      "text/plain": [
       "{'127.0.0.1:5001', '127.0.0.1:5002', '127.0.0.1:5003'}"
      ]
     },
     "execution_count": 14,
     "metadata": {},
     "output_type": "execute_result"
    }
   ],
   "source": [
    "blockchain1.nodes"
   ]
  },
  {
   "cell_type": "code",
   "execution_count": null,
   "metadata": {},
   "outputs": [],
   "source": []
  },
  {
   "cell_type": "code",
   "execution_count": null,
   "metadata": {},
   "outputs": [],
   "source": []
  },
  {
   "cell_type": "code",
   "execution_count": null,
   "metadata": {},
   "outputs": [],
   "source": []
  },
  {
   "cell_type": "code",
   "execution_count": 8,
   "metadata": {},
   "outputs": [],
   "source": [
    "blockchain1.add_node('127.0.0.1:5001')"
   ]
  },
  {
   "cell_type": "code",
   "execution_count": 9,
   "metadata": {},
   "outputs": [],
   "source": [
    "blockchain2.add_node('127.0.0.1:5002')"
   ]
  },
  {
   "cell_type": "code",
   "execution_count": 10,
   "metadata": {},
   "outputs": [],
   "source": [
    "blockchain3.add_node('127.0.0.1:5003')"
   ]
  },
  {
   "cell_type": "code",
   "execution_count": 11,
   "metadata": {},
   "outputs": [
    {
     "data": {
      "text/plain": [
       "{''}"
      ]
     },
     "execution_count": 11,
     "metadata": {},
     "output_type": "execute_result"
    }
   ],
   "source": [
    "blockchain3.nodes"
   ]
  },
  {
   "cell_type": "code",
   "execution_count": 24,
   "metadata": {},
   "outputs": [
    {
     "data": {
      "text/plain": [
       "{'127.0.0.1:5002', 'http://127.0.0.1:5002'}"
      ]
     },
     "execution_count": 24,
     "metadata": {},
     "output_type": "execute_result"
    }
   ],
   "source": [
    "blockchain1.nodes"
   ]
  },
  {
   "cell_type": "code",
   "execution_count": null,
   "metadata": {},
   "outputs": [],
   "source": [
    "nodes = r.json()['nodes']\n",
    "            for node in nodes:\n",
    "                blockchain.node_.append(node)\n",
    "                blockchain.add_node(node)\n",
    "        except:\n",
    "            pass\n",
    "        blockchain.node_ = list(dict.fromkeys(blockchain.node_))\n",
    "\n"
   ]
  },
  {
   "cell_type": "code",
   "execution_count": 31,
   "metadata": {},
   "outputs": [
    {
     "data": {
      "text/plain": [
       "{'127.0.0.1:5002', 'http://127.0.0.1:5002'}"
      ]
     },
     "execution_count": 31,
     "metadata": {},
     "output_type": "execute_result"
    }
   ],
   "source": [
    "blockchain1.nodes"
   ]
  },
  {
   "cell_type": "code",
   "execution_count": null,
   "metadata": {},
   "outputs": [],
   "source": []
  },
  {
   "cell_type": "code",
   "execution_count": null,
   "metadata": {},
   "outputs": [],
   "source": []
  },
  {
   "cell_type": "code",
   "execution_count": 17,
   "metadata": {},
   "outputs": [],
   "source": [
    "chain = [\n",
    "        {\n",
    "            \"index\": 1,\n",
    "            \"previous_hash\": \"0\",\n",
    "            \"proof\": 1,\n",
    "            \"timestamp\": \"2020-04-17 13:52:08.151696\",\n",
    "            \"transactions\": []\n",
    "        },\n",
    "        {\n",
    "            \"index\": 2,\n",
    "            \"previous_hash\": \"32c039898f19cda8d5ac9602cf3cca91dcee2c128d3ea81a901592543f539776\",\n",
    "            \"proof\": 533,\n",
    "            \"timestamp\": \"2020-04-17 13:55:05.572073\",\n",
    "            \"transactions\": [\n",
    "                {\n",
    "                    \"amount\": 69333333,\n",
    "                    \"category\": 0,\n",
    "                    \"receiver\": \"ony\",\n",
    "                    \"sender\": \"alvi\"\n",
    "                }\n",
    "            ]\n",
    "        },\n",
    "        {\n",
    "            \"index\": 3,\n",
    "            \"previous_hash\": \"f3a3d67e5429af560bbbb535aa9cb7570f8521b01b4ca5fc1702faa96fe7fbf7\",\n",
    "            \"proof\": 45293,\n",
    "            \"timestamp\": \"2020-04-17 13:56:01.455727\",\n",
    "            \"transactions\": [\n",
    "                {\n",
    "                    \"amount\": 69333333,\n",
    "                    \"category\": 0,\n",
    "                    \"receiver\": \"alvi\",\n",
    "                    \"sender\": \"mahima\"\n",
    "                }\n",
    "            ]\n",
    "        },\n",
    "        {\n",
    "            \"index\": 4,\n",
    "            \"previous_hash\": \"f905cd136d8ee29b68d18b72ed39b125d90b4389d90922b1cf667cd7556b4765\",\n",
    "            \"proof\": 21391,\n",
    "            \"timestamp\": \"2020-04-17 13:56:58.345380\",\n",
    "            \"transactions\": [\n",
    "                {\n",
    "                    \"amount\": 69333333,\n",
    "                    \"category\": 0,\n",
    "                    \"receiver\": \"ony\",\n",
    "                    \"sender\": \"mahima\"\n",
    "                }\n",
    "            ]\n",
    "        },\n",
    "        {\n",
    "            \"index\": 5,\n",
    "            \"previous_hash\": \"8fd07c2267ef1df623a30acc96ad0f47b2044f2842eaadca93dbcf58a9e26fa5\",\n",
    "            \"proof\": 8018,\n",
    "            \"timestamp\": \"2020-04-17 13:57:11.771531\",\n",
    "            \"transactions\": [\n",
    "                {\n",
    "                    \"amount\": 69333333,\n",
    "                    \"category\": 0,\n",
    "                    \"receiver\": \"nakhla\",\n",
    "                    \"sender\": \"zahin\"\n",
    "                }\n",
    "            ]\n",
    "        },\n",
    "        {\n",
    "            \"index\": 6,\n",
    "            \"previous_hash\": \"fb6aa3cab15b091eb1832dca7a4545e12552ab56376f587a86b1832365d8e9da\",\n",
    "            \"proof\": 48191,\n",
    "            \"timestamp\": \"2020-04-17 13:57:20.020054\",\n",
    "            \"transactions\": [\n",
    "                {\n",
    "                    \"amount\": 1234,\n",
    "                    \"category\": 0,\n",
    "                    \"receiver\": \"alvi\",\n",
    "                    \"sender\": \"zahin\"\n",
    "                }\n",
    "            ]\n",
    "        },\n",
    "        {\n",
    "            \"index\": 7,\n",
    "            \"previous_hash\": \"d43ea54d4f93e6b619fd95748d2c83b2fede6159001e42079692914909760a99\",\n",
    "            \"proof\": 19865,\n",
    "            \"timestamp\": \"2020-04-17 13:57:32.150458\",\n",
    "            \"transactions\": [\n",
    "                {\n",
    "                    \"amount\": 1234,\n",
    "                    \"category\": 0,\n",
    "                    \"receiver\": \"sadman\",\n",
    "                    \"sender\": \"alvi\"\n",
    "                }\n",
    "            ]\n",
    "        },\n",
    "        {\n",
    "            \"index\": 8,\n",
    "            \"previous_hash\": \"442a3179b12c9aa907d21a696551a9d8e629f86c505a4a0ddf433d08267d8efb\",\n",
    "            \"proof\": 95063,\n",
    "            \"timestamp\": \"2020-04-17 13:57:42.944623\",\n",
    "            \"transactions\": [\n",
    "                {\n",
    "                    \"amount\": 1234,\n",
    "                    \"category\": 0,\n",
    "                    \"receiver\": \"haha\",\n",
    "                    \"sender\": \"haha\"\n",
    "                }\n",
    "            ]\n",
    "        },\n",
    "        {\n",
    "            \"index\": 9,\n",
    "            \"previous_hash\": \"61bead14c7c05561bf05ffb4261c663c7fcd6b982f08304ff5929ee86ae793c8\",\n",
    "            \"proof\": 15457,\n",
    "            \"timestamp\": \"2020-04-17 13:58:03.378722\",\n",
    "            \"transactions\": [\n",
    "                {\n",
    "                    \"amount\": 5447,\n",
    "                    \"category\": 0,\n",
    "                    \"receiver\": \"rifat\",\n",
    "                    \"sender\": \"alvi\"\n",
    "                }\n",
    "            ]\n",
    "        }\n",
    "    ]"
   ]
  },
  {
   "cell_type": "code",
   "execution_count": null,
   "metadata": {},
   "outputs": [],
   "source": []
  },
  {
   "cell_type": "code",
   "execution_count": 30,
   "metadata": {},
   "outputs": [],
   "source": [
    "trans = [i['transactions'] for i in chain][1:]"
   ]
  },
  {
   "cell_type": "code",
   "execution_count": 37,
   "metadata": {},
   "outputs": [
    {
     "data": {
      "text/plain": [
       "[[{'amount': 69333333, 'category': 0, 'receiver': 'ony', 'sender': 'alvi'}],\n",
       " [{'amount': 69333333, 'category': 0, 'receiver': 'alvi', 'sender': 'mahima'}],\n",
       " [{'amount': 69333333, 'category': 0, 'receiver': 'ony', 'sender': 'mahima'}],\n",
       " [{'amount': 69333333,\n",
       "   'category': 0,\n",
       "   'receiver': 'nakhla',\n",
       "   'sender': 'zahin'}],\n",
       " [{'amount': 1234, 'category': 0, 'receiver': 'alvi', 'sender': 'zahin'}],\n",
       " [{'amount': 1234, 'category': 0, 'receiver': 'sadman', 'sender': 'alvi'}],\n",
       " [{'amount': 1234, 'category': 0, 'receiver': 'haha', 'sender': 'haha'}],\n",
       " [{'amount': 5447, 'category': 0, 'receiver': 'rifat', 'sender': 'alvi'}]]"
      ]
     },
     "execution_count": 37,
     "metadata": {},
     "output_type": "execute_result"
    }
   ],
   "source": [
    "trans"
   ]
  },
  {
   "cell_type": "code",
   "execution_count": 41,
   "metadata": {},
   "outputs": [],
   "source": [
    "info = []\n",
    "\n",
    "for i in trans:\n",
    "    #print(i[0])\n",
    "    \n",
    "    if i[0]['sender'] == 'alvi' or i[0]['receiver'] == 'alvi':\n",
    "        \n",
    "        info.append(i[0])\n",
    "            "
   ]
  },
  {
   "cell_type": "code",
   "execution_count": 42,
   "metadata": {},
   "outputs": [
    {
     "data": {
      "text/plain": [
       "[{'amount': 69333333, 'category': 0, 'receiver': 'ony', 'sender': 'alvi'},\n",
       " {'amount': 69333333, 'category': 0, 'receiver': 'alvi', 'sender': 'mahima'},\n",
       " {'amount': 1234, 'category': 0, 'receiver': 'alvi', 'sender': 'zahin'},\n",
       " {'amount': 1234, 'category': 0, 'receiver': 'sadman', 'sender': 'alvi'},\n",
       " {'amount': 5447, 'category': 0, 'receiver': 'rifat', 'sender': 'alvi'}]"
      ]
     },
     "execution_count": 42,
     "metadata": {},
     "output_type": "execute_result"
    }
   ],
   "source": [
    "info"
   ]
  },
  {
   "cell_type": "code",
   "execution_count": null,
   "metadata": {},
   "outputs": [],
   "source": []
  },
  {
   "cell_type": "code",
   "execution_count": null,
   "metadata": {},
   "outputs": [],
   "source": [
    "def find_transactions():\n",
    "    \n",
    "    json = request.get_json()\n",
    "    sender = json.get('sender')\n",
    "    receiver = json.get('receiver')\n",
    "    \n",
    "    if nodes is None:\n",
    "        return \"No node\",400\n",
    "    \n",
    "    trans = [i['transactions'] for i in blockchain.chain][1:]\n",
    "    \n",
    "    info = []\n",
    "\n",
    "    for i in trans:\n",
    "        #print(i[0])\n",
    "\n",
    "        if i[0]['sender'] == 'alvi' or i[0]['receiver'] == 'alvi':\n",
    "\n",
    "            info.append(i[0])\n",
    "    \n",
    "    response = {'message' : 'You Did the Following Transactions : ',\n",
    "               'transactions' : list(info)}\n",
    "    \n",
    "    if len(info) == 0:\n",
    "        \n",
    "    \n",
    "    return jsonify(response),201"
   ]
  },
  {
   "cell_type": "code",
   "execution_count": null,
   "metadata": {},
   "outputs": [],
   "source": []
  },
  {
   "cell_type": "code",
   "execution_count": 48,
   "metadata": {},
   "outputs": [],
   "source": [
    "info = []"
   ]
  },
  {
   "cell_type": "code",
   "execution_count": 53,
   "metadata": {},
   "outputs": [
    {
     "data": {
      "text/plain": [
       "True"
      ]
     },
     "execution_count": 53,
     "metadata": {},
     "output_type": "execute_result"
    }
   ],
   "source": [
    "len(info) == 0"
   ]
  },
  {
   "cell_type": "code",
   "execution_count": null,
   "metadata": {},
   "outputs": [],
   "source": []
  },
  {
   "cell_type": "code",
   "execution_count": 21,
   "metadata": {},
   "outputs": [
    {
     "data": {
      "text/plain": [
       "'[{\"index\": 1, \"previous_hash\": \"0\", \"proof\": 1, \"timestamp\": \"2020-04-09 21:22:21.896552\", \"transactions\": []}, {\"index\": 2, \"previous_hash\": \"1ada736208a3dc0c6ed11a44ee18de953e988394077c8109e631c9e7c19cd242\", \"proof\": 533, \"timestamp\": \"2020-04-09 21:23:16.929772\", \"transactions\": [{\"amount\": 1, \"receiver\": \"alvi\", \"sender\": \"b299156c63a042ee80e0ec8eb07d4d85\"}]}, {\"index\": 2, \"previous_hash\": \"9717efbfc9fe3d5a28d111bb83fbec1edeaf3f5ee3b95d6e9b412618f9b14ee8\", \"proof\": 45293, \"timestamp\": \"2020-04-09 21:23:21.895248\", \"transactions\": [{\"amount\": 1, \"receiver\": \"alvi\", \"sender\": \"b299156c63a042ee80e0ec8eb07d4d85\"}]}, {\"index\": 2, \"previous_hash\": \"6492f458b38a54e744ca0cf84d32997d9bc841d5ec56af2b2771e35680b395f6\", \"proof\": 21391, \"timestamp\": \"2020-04-09 21:23:22.975308\", \"transactions\": [{\"amount\": 1, \"receiver\": \"alvi\", \"sender\": \"b299156c63a042ee80e0ec8eb07d4d85\"}]}, {\"index\": 2, \"previous_hash\": \"37b77ae1caee2132ef1fafb63d34816cc3544b8231802befb0087c762cf8ffa0\", \"proof\": 8018, \"timestamp\": \"2020-04-09 21:23:23.785306\", \"transactions\": [{\"amount\": 1, \"receiver\": \"alvi\", \"sender\": \"b299156c63a042ee80e0ec8eb07d4d85\"}]}]'"
      ]
     },
     "execution_count": 21,
     "metadata": {},
     "output_type": "execute_result"
    }
   ],
   "source": [
    "json.dumps(a['chain'])"
   ]
  },
  {
   "cell_type": "code",
   "execution_count": 18,
   "metadata": {},
   "outputs": [],
   "source": [
    "import json"
   ]
  },
  {
   "cell_type": "code",
   "execution_count": 35,
   "metadata": {},
   "outputs": [
    {
     "data": {
      "text/plain": [
       "{'chain': [{'index': 1,\n",
       "   'previous_hash': '0',\n",
       "   'proof': 1,\n",
       "   'timestamp': '2020-04-09 21:22:21.896552',\n",
       "   'transactions': []},\n",
       "  {'index': 2,\n",
       "   'previous_hash': '1ada736208a3dc0c6ed11a44ee18de953e988394077c8109e631c9e7c19cd242',\n",
       "   'proof': 533,\n",
       "   'timestamp': '2020-04-09 21:23:16.929772',\n",
       "   'transactions': [{'amount': 1,\n",
       "     'receiver': 'alvi',\n",
       "     'sender': 'b299156c63a042ee80e0ec8eb07d4d85'}]},\n",
       "  {'index': 2,\n",
       "   'previous_hash': '9717efbfc9fe3d5a28d111bb83fbec1edeaf3f5ee3b95d6e9b412618f9b14ee8',\n",
       "   'proof': 45293,\n",
       "   'timestamp': '2020-04-09 21:23:21.895248',\n",
       "   'transactions': [{'amount': 1,\n",
       "     'receiver': 'alvi',\n",
       "     'sender': 'b299156c63a042ee80e0ec8eb07d4d85'}]},\n",
       "  {'index': 2,\n",
       "   'previous_hash': '6492f458b38a54e744ca0cf84d32997d9bc841d5ec56af2b2771e35680b395f6',\n",
       "   'proof': 21391,\n",
       "   'timestamp': '2020-04-09 21:23:22.975308',\n",
       "   'transactions': [{'amount': 1,\n",
       "     'receiver': 'alvi',\n",
       "     'sender': 'b299156c63a042ee80e0ec8eb07d4d85'}]},\n",
       "  {'index': 2,\n",
       "   'previous_hash': '37b77ae1caee2132ef1fafb63d34816cc3544b8231802befb0087c762cf8ffa0',\n",
       "   'proof': 8018,\n",
       "   'timestamp': '2020-04-09 21:23:23.785306',\n",
       "   'transactions': [{'amount': 1,\n",
       "     'receiver': 'alvi',\n",
       "     'sender': 'b299156c63a042ee80e0ec8eb07d4d85'}]}]}"
      ]
     },
     "execution_count": 35,
     "metadata": {},
     "output_type": "execute_result"
    }
   ],
   "source": [
    "{'chain':a['chain']}"
   ]
  },
  {
   "cell_type": "code",
   "execution_count": null,
   "metadata": {},
   "outputs": [],
   "source": []
  },
  {
   "cell_type": "code",
   "execution_count": 41,
   "metadata": {},
   "outputs": [],
   "source": [
    "def mine_block():\n",
    "    previous_block = blockchain1.get_previous_block()\n",
    "    previous_proof = previous_block['proof']\n",
    "    proof = blockchain1.proof_of_work(previous_proof)\n",
    "    previous_hash = blockchain1.hash(previous_block)\n",
    "    \n",
    "    blockchain1.add_transaction(sender = 'node_address',receiver = 'alvi', amount= 1)\n",
    "    \n",
    "    block = blockchain1.create_block(proof,previous_hash)\n",
    "    response = {'message' : 'Congratulations, You just mined a block!',\n",
    "               'index' : block['index'],\n",
    "               'timestamp' : block['timestamp'],\n",
    "               'proof' : block['proof'],\n",
    "               'previous_hash' : block['previous_hash'],\n",
    "               'transactions' : block['transactions']}\n",
    "    \n",
    "    for node in blockchain1.nodes:\n",
    "        URL = str('http://')+node+\"/get_chain\"\n",
    "\n",
    "        r = requests.get(url=URL)\n",
    "        temp_chain = r.json()['chain']\n",
    "        temp_index = temp_chain[-1]['index']\n",
    "        \n",
    "        temp_chain.append(block)\n",
    "        temp_chain[-1]['index'] = temp_index + 1\n",
    "        temp_chain = {'chain':temp_chain}\n",
    "        URL = str('http://')+node+\"/broadcast_chain\"\n",
    "        \n",
    "        try:\n",
    "            _ = requests.post(URL, data=json.dumps(temp_chain))\n",
    "        except:\n",
    "            pass\n",
    "    \n",
    "    return response"
   ]
  },
  {
   "cell_type": "code",
   "execution_count": 42,
   "metadata": {},
   "outputs": [
    {
     "data": {
      "text/plain": [
       "{'message': 'Congratulations, You just mined a block!',\n",
       " 'index': 4,\n",
       " 'timestamp': '2020-04-09 22:28:53.507537',\n",
       " 'proof': 21391,\n",
       " 'previous_hash': 'b973817b8de84f834dab3bf01789100ee88615d58d7d1c564b4d480f32ebbb09',\n",
       " 'transactions': [{'sender': 'node_address', 'receiver': 'alvi', 'amount': 1}]}"
      ]
     },
     "execution_count": 42,
     "metadata": {},
     "output_type": "execute_result"
    }
   ],
   "source": [
    "mine_block()"
   ]
  },
  {
   "cell_type": "code",
   "execution_count": 54,
   "metadata": {},
   "outputs": [
    {
     "name": "stdout",
     "output_type": "stream",
     "text": [
      "<Response [500]>\n",
      "<Response [500]>\n"
     ]
    }
   ],
   "source": [
    "previous_block = blockchain1.get_previous_block()\n",
    "previous_proof = previous_block['proof']\n",
    "proof = blockchain1.proof_of_work(previous_proof)\n",
    "previous_hash = blockchain1.hash(previous_block)\n",
    "\n",
    "blockchain1.add_transaction(sender = 'node_address',receiver = 'alvi', amount= 1)\n",
    "\n",
    "block = blockchain1.create_block(proof,previous_hash)\n",
    "\n",
    "for node in blockchain1.nodes:\n",
    "    URL = str('http://')+node+\"/get_chain\"\n",
    "\n",
    "    r = requests.get(url=URL)\n",
    "    temp_chain = r.json()['chain']\n",
    "    \n",
    "    temp_index = temp_chain[-1]['index']\n",
    "\n",
    "    temp_chain.append(block)\n",
    "    temp_chain[-1]['index'] = temp_index + 1\n",
    "    temp_chain = {'chain':temp_chain}\n",
    "    URL = str('http://')+node+\"/broadcast_chain\"\n",
    "\n",
    "    \n",
    "    _ = requests.post(URL, data=json.dumps(temp_chain))\n",
    "    \n",
    "    print(_)"
   ]
  },
  {
   "cell_type": "code",
   "execution_count": 51,
   "metadata": {},
   "outputs": [
    {
     "data": {
      "text/plain": [
       "'http://127.0.0.1:5002/broadcast_chain'"
      ]
     },
     "execution_count": 51,
     "metadata": {},
     "output_type": "execute_result"
    }
   ],
   "source": [
    "str('http://')+node+\"/broadcast_chain\""
   ]
  },
  {
   "cell_type": "code",
   "execution_count": 93,
   "metadata": {},
   "outputs": [
    {
     "data": {
      "text/plain": [
       "<Response [201]>"
      ]
     },
     "execution_count": 93,
     "metadata": {},
     "output_type": "execute_result"
    }
   ],
   "source": [
    "requests.post('http://127.0.0.1:5002/broadcast_chain', json=a)"
   ]
  },
  {
   "cell_type": "code",
   "execution_count": null,
   "metadata": {},
   "outputs": [],
   "source": []
  },
  {
   "cell_type": "code",
   "execution_count": 63,
   "metadata": {},
   "outputs": [],
   "source": [
    "b = {\n",
    "  \"sender\": \"ony\",\n",
    "  \"receiver\": \"HAHA\",\n",
    "  \"amount\":10\n",
    "}\n"
   ]
  },
  {
   "cell_type": "code",
   "execution_count": 95,
   "metadata": {},
   "outputs": [
    {
     "data": {
      "text/plain": [
       "<Response [201]>"
      ]
     },
     "execution_count": 95,
     "metadata": {},
     "output_type": "execute_result"
    }
   ],
   "source": [
    "requests.post('http://127.0.0.1:5001/add_transaction', json=b)"
   ]
  },
  {
   "cell_type": "code",
   "execution_count": 69,
   "metadata": {},
   "outputs": [
    {
     "data": {
      "text/plain": [
       "{'sender': 'ony', 'receiver': 'HAHA', 'amount': 10}"
      ]
     },
     "execution_count": 69,
     "metadata": {},
     "output_type": "execute_result"
    }
   ],
   "source": [
    "b"
   ]
  },
  {
   "cell_type": "code",
   "execution_count": 94,
   "metadata": {},
   "outputs": [
    {
     "data": {
      "text/plain": [
       "{'chain': [{'index': 1,\n",
       "   'previous_hash': '0',\n",
       "   'proof': 1,\n",
       "   'timestamp': '2020-04-09 21:22:21.896552',\n",
       "   'transactions': []},\n",
       "  {'index': 2,\n",
       "   'previous_hash': '1ada736208a3dc0c6ed11a44ee18de953e988394077c8109e631c9e7c19cd242',\n",
       "   'proof': 533,\n",
       "   'timestamp': '2020-04-09 21:23:16.929772',\n",
       "   'transactions': [{'amount': 1,\n",
       "     'receiver': 'alvi',\n",
       "     'sender': 'b299156c63a042ee80e0ec8eb07d4d85'}]},\n",
       "  {'index': 2,\n",
       "   'previous_hash': '9717efbfc9fe3d5a28d111bb83fbec1edeaf3f5ee3b95d6e9b412618f9b14ee8',\n",
       "   'proof': 45293,\n",
       "   'timestamp': '2020-04-09 21:23:21.895248',\n",
       "   'transactions': [{'amount': 1,\n",
       "     'receiver': 'alvi',\n",
       "     'sender': 'b299156c63a042ee80e0ec8eb07d4d85'}]},\n",
       "  {'index': 2,\n",
       "   'previous_hash': '6492f458b38a54e744ca0cf84d32997d9bc841d5ec56af2b2771e35680b395f6',\n",
       "   'proof': 21391,\n",
       "   'timestamp': '2020-04-09 21:23:22.975308',\n",
       "   'transactions': [{'amount': 1,\n",
       "     'receiver': 'alvi',\n",
       "     'sender': 'b299156c63a042ee80e0ec8eb07d4d85'}]},\n",
       "  {'index': 2,\n",
       "   'previous_hash': '37b77ae1caee2132ef1fafb63d34816cc3544b8231802befb0087c762cf8ffa0',\n",
       "   'proof': 8018,\n",
       "   'timestamp': '2020-04-09 21:23:23.785306',\n",
       "   'transactions': [{'amount': 1,\n",
       "     'receiver': 'alvi',\n",
       "     'sender': 'b299156c63a042ee80e0ec8eb07d4d85'}]}],\n",
       " 'length': 5}"
      ]
     },
     "execution_count": 94,
     "metadata": {},
     "output_type": "execute_result"
    }
   ],
   "source": []
  },
  {
   "cell_type": "code",
   "execution_count": null,
   "metadata": {},
   "outputs": [],
   "source": []
  },
  {
   "cell_type": "code",
   "execution_count": null,
   "metadata": {},
   "outputs": [],
   "source": []
  },
  {
   "cell_type": "code",
   "execution_count": null,
   "metadata": {},
   "outputs": [],
   "source": []
  },
  {
   "cell_type": "code",
   "execution_count": null,
   "metadata": {},
   "outputs": [],
   "source": []
  },
  {
   "cell_type": "code",
   "execution_count": null,
   "metadata": {},
   "outputs": [],
   "source": []
  },
  {
   "cell_type": "code",
   "execution_count": null,
   "metadata": {},
   "outputs": [],
   "source": []
  },
  {
   "cell_type": "code",
   "execution_count": null,
   "metadata": {},
   "outputs": [],
   "source": []
  },
  {
   "cell_type": "code",
   "execution_count": null,
   "metadata": {},
   "outputs": [],
   "source": []
  },
  {
   "cell_type": "code",
   "execution_count": null,
   "metadata": {},
   "outputs": [],
   "source": []
  },
  {
   "cell_type": "code",
   "execution_count": null,
   "metadata": {},
   "outputs": [],
   "source": []
  }
 ],
 "metadata": {
  "kernelspec": {
   "display_name": "Python 3",
   "language": "python",
   "name": "python3"
  },
  "language_info": {
   "codemirror_mode": {
    "name": "ipython",
    "version": 3
   },
   "file_extension": ".py",
   "mimetype": "text/x-python",
   "name": "python",
   "nbconvert_exporter": "python",
   "pygments_lexer": "ipython3",
   "version": "3.7.6"
  }
 },
 "nbformat": 4,
 "nbformat_minor": 4
}
